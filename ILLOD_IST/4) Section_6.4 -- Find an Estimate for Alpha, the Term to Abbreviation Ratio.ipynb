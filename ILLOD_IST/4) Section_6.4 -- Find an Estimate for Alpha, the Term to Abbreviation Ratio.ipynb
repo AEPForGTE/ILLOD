{
 "cells": [
  {
   "cell_type": "markdown",
   "id": "based-challenge",
   "metadata": {},
   "source": [
    "# Find an estimate for ${\\alpha}$ (Term to Abbreviation Ratio)"
   ]
  },
  {
   "cell_type": "code",
   "execution_count": 2,
   "id": "operating-medication",
   "metadata": {},
   "outputs": [],
   "source": [
    "import Function_Pool\n",
    "import re\n",
    "import pandas as pd\n",
    "from string import punctuation"
   ]
  },
  {
   "cell_type": "markdown",
   "id": "vulnerable-nashville",
   "metadata": {},
   "source": [
    "## Load PURE Data from file with 1934  requirements:"
   ]
  },
  {
   "cell_type": "code",
   "execution_count": 3,
   "id": "private-hybrid",
   "metadata": {},
   "outputs": [],
   "source": [
    "data = pd.read_csv(\"pure_dataset.csv\", names=['ID','dataset', 'requirement'], sep=';', encoding='utf8')\n",
    "data_list = data.values.tolist()\n",
    "list_of_reqs = [req[2] for req in data_list]"
   ]
  },
  {
   "cell_type": "markdown",
   "id": "searching-rendering",
   "metadata": {},
   "source": [
    "## The Main Function: Independent compilation of the set of NCs and the set of abbreviations. Calculation of the ratio of their cardinalities as the final result."
   ]
  },
  {
   "cell_type": "code",
   "execution_count": 4,
   "id": "surface-judge",
   "metadata": {},
   "outputs": [],
   "source": [
    "set_of_detected_ncs = set()\n",
    "for req in list_of_reqs:\n",
    "    set_of_detected_ncs = set_of_detected_ncs.union(Function_Pool.nc_detect(req))"
   ]
  },
  {
   "cell_type": "code",
   "execution_count": 5,
   "id": "d41c05d5",
   "metadata": {},
   "outputs": [],
   "source": [
    "set_of_detected_ncs = set([nc[1] for nc in set_of_detected_ncs])"
   ]
  },
  {
   "cell_type": "code",
   "execution_count": 6,
   "id": "olympic-monroe",
   "metadata": {},
   "outputs": [
    {
     "name": "stdout",
     "output_type": "stream",
     "text": [
      "window base graphic operator interface\n",
      "additional location information\n",
      "Army Tactical Command Control System\n",
      "traction units\n",
      "analysis\n",
      "guidance\n",
      "dedicated button\n",
      "dynamically define association\n",
      "critical mission datum\n",
      "configuration of operational software\n",
      "institutional , new equipment and unit training\n",
      "directive 2004/18 / EC\n",
      "part of Information Resource Submittal Package\n",
      "public address system\n",
      "policy repository instance\n",
      "give type\n",
      "only 10 minute of full duplex call time\n",
      "publication\n",
      "associate radar terrain\n",
      "pre -define amount\n"
     ]
    }
   ],
   "source": [
    "for term in list(set_of_detected_ncs)[:20]:\n",
    "    print(term)"
   ]
  },
  {
   "cell_type": "code",
   "execution_count": 7,
   "id": "needed-berkeley",
   "metadata": {
    "scrolled": false
   },
   "outputs": [
    {
     "name": "stdout",
     "output_type": "stream",
     "text": [
      "5734\n"
     ]
    }
   ],
   "source": [
    "print(len(set_of_detected_ncs))"
   ]
  },
  {
   "cell_type": "code",
   "execution_count": 8,
   "id": "excess-python",
   "metadata": {
    "scrolled": true
   },
   "outputs": [],
   "source": [
    "set_of_detected_abbreviations = Function_Pool.extract_abbs(list_of_reqs)"
   ]
  },
  {
   "cell_type": "code",
   "execution_count": 9,
   "id": "affecting-roommate",
   "metadata": {
    "scrolled": false
   },
   "outputs": [
    {
     "name": "stdout",
     "output_type": "stream",
     "text": [
      "445\n"
     ]
    }
   ],
   "source": [
    "print(len(set_of_detected_abbreviations))"
   ]
  },
  {
   "cell_type": "code",
   "execution_count": 10,
   "id": "ad506344",
   "metadata": {
    "scrolled": true
   },
   "outputs": [
    {
     "name": "stdout",
     "output_type": "stream",
     "text": [
      "LRU\n",
      "JSTARS\n",
      "But\n",
      "LT\n",
      "Y\n",
      "pre-defined\n",
      "non-EIRENE\n",
      "LIFO\n",
      "OUTRIDER TCS\n",
      "Of\n",
      "ASDC3I\n",
      "hazmat\n",
      "SPSS\n",
      "EIRENE\n",
      "TROJAN SPIRIT\n",
      "MS\n",
      "ASCII\n",
      "eg ERTMS/ETCS\n",
      "event\n",
      "ERTMS\n"
     ]
    }
   ],
   "source": [
    "for abbv in list(set_of_detected_abbreviations)[315:335]:\n",
    "    print(abbv)"
   ]
  },
  {
   "cell_type": "markdown",
   "id": "broad-petersburg",
   "metadata": {},
   "source": [
    "## Final result:"
   ]
  },
  {
   "cell_type": "code",
   "execution_count": 11,
   "id": "ancient-obligation",
   "metadata": {
    "scrolled": true
   },
   "outputs": [
    {
     "name": "stdout",
     "output_type": "stream",
     "text": [
      "12.885393258426966\n"
     ]
    }
   ],
   "source": [
    "ratio = len(set_of_detected_ncs)/len(set_of_detected_abbreviations)\n",
    "print(ratio)"
   ]
  }
 ],
 "metadata": {
  "kernelspec": {
   "display_name": "Python 3",
   "language": "python",
   "name": "python3"
  },
  "language_info": {
   "codemirror_mode": {
    "name": "ipython",
    "version": 3
   },
   "file_extension": ".py",
   "mimetype": "text/x-python",
   "name": "python",
   "nbconvert_exporter": "python",
   "pygments_lexer": "ipython3",
   "version": "3.8.10"
  }
 },
 "nbformat": 4,
 "nbformat_minor": 5
}
