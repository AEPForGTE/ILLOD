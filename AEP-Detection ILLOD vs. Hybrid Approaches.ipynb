{
 "cells": [
  {
   "cell_type": "code",
   "execution_count": 24,
   "metadata": {
    "scrolled": true
   },
   "outputs": [],
   "source": [
    "import pandas as pd\n",
    "import string\n",
    "import pandas as pd\n",
    "import jellyfish\n",
    "import random"
   ]
  },
  {
   "cell_type": "markdown",
   "metadata": {},
   "source": [
    "# Abbreviation-Expansion List\n",
    "Before we go into the details of the ILLOD tool, we first will give some insights into our evaluation data for AEP-Detection"
   ]
  },
  {
   "cell_type": "code",
   "execution_count": 25,
   "metadata": {},
   "outputs": [],
   "source": [
    "data = pd.read_csv('abbr_db.CSV', names=['abbr', 'long_forms'], sep=';', encoding='utf8')\n",
    "abbreviations = list(data['abbr'].values)\n",
    "expansions = list(data['long_forms'].values)\n",
    "#for i, abb in enumerate(abbreviations):\n",
    "#    print(str(i) + \": \" + abb + \"| \" + expansions[i])"
   ]
  },
  {
   "cell_type": "markdown",
   "metadata": {},
   "source": [
    "# Introducing Helper Functions\n",
    "These helper functions are needed in order to provide important methods for syntactic and semantic similarity measures and for ILLOD. We need a method to calculate the dice coefficient between two given strings since the jellyfish package doesnt provide this funcionality"
   ]
  },
  {
   "cell_type": "code",
   "execution_count": 26,
   "metadata": {},
   "outputs": [],
   "source": [
    "def dice_coefficient(a, b):\n",
    "    \"\"\"dice coefficient 2nt/(na + nb).\"\"\"\n",
    "    a_bigrams = set(a.lower())\n",
    "    b_bigrams = set(b.lower())\n",
    "    overlap = len(a_bigrams & b_bigrams)\n",
    "    return overlap * 2.0 / (len(a_bigrams) + len(b_bigrams))"
   ]
  },
  {
   "cell_type": "markdown",
   "metadata": {},
   "source": [
    "### Method to remove puntuation marks from  a given strings "
   ]
  },
  {
   "cell_type": "code",
   "execution_count": 27,
   "metadata": {},
   "outputs": [],
   "source": [
    "def clean_string(s):\n",
    "    s_lower = s.lower()\n",
    "    invalidcharacters = set(string.punctuation)\n",
    "    if any(char in invalidcharacters for char in s):\n",
    "        s_ = s_lower.translate(str.maketrans('', '', string.punctuation))\n",
    "    else:\n",
    "        s_ = s_lower\n",
    "    return s_"
   ]
  },
  {
   "cell_type": "markdown",
   "metadata": {},
   "source": [
    "### Method to remove stop words from  a given term"
   ]
  },
  {
   "cell_type": "code",
   "execution_count": 28,
   "metadata": {},
   "outputs": [],
   "source": [
    "def stop_words_handling(term):\n",
    "    splitted_term = term.split()\n",
    "    stop_words = set([\"for\", \"and\", \"of\", \"in\", \"via\", \"be\"])\n",
    "    \n",
    "    # As first character matching is important, stop words are not removed when they are the first word\n",
    "    if splitted_term[0] in stop_words:\n",
    "        stop_words = stop_words - set([splitted_term[0]])\n",
    "                \n",
    "    for sw in stop_words:\n",
    "        while sw in splitted_term:\n",
    "            splitted_term.remove(sw)\n",
    "    sanitized_term = \" \".join([w for w in splitted_term]) \n",
    "        \n",
    "    return sanitized_term"
   ]
  },
  {
   "cell_type": "markdown",
   "metadata": {},
   "source": [
    "### Method to calculate and return $(a^{c}, potAbb(t^{c}))$  for a given pair $(a,t)$"
   ]
  },
  {
   "cell_type": "code",
   "execution_count": 29,
   "metadata": {},
   "outputs": [],
   "source": [
    "def clean_string_pair_and_reduce_expansion(abb, term):\n",
    "    abb_lower = abb.lower()\n",
    "    term_lower = term.lower()\n",
    "    sanitized_abbv = clean_string(abb_lower)\n",
    "    sanitized_term = clean_string(term_lower)   \n",
    "    sanitized_term_without_stopswords = stop_words_handling(sanitized_term)\n",
    "    initial_letters_of_tokens_of_sanitized_term_without_stopswords = ''.join([c[0] for c in sanitized_term_without_stopswords.split()])\n",
    "    return sanitized_abbv, initial_letters_of_tokens_of_sanitized_term_without_stopswords"
   ]
  },
  {
   "cell_type": "code",
   "execution_count": null,
   "metadata": {},
   "outputs": [],
   "source": []
  },
  {
   "cell_type": "markdown",
   "metadata": {},
   "source": [
    "# Classifiers based on hybrid approaches:\n",
    "## Compare initial letters first before calculating syntactic similarity with  LD, JWS or DC.\n",
    "## Algorithm 2 in different variants"
   ]
  },
  {
   "cell_type": "code",
   "execution_count": 30,
   "metadata": {},
   "outputs": [],
   "source": [
    "def levensthein_distance_on_reduction_of_expansion(a, term, threshold):\n",
    "    a_, t_ = clean_string_pair_and_reduce_expansion(a, term)\n",
    "    if a_[0] == t_[0]:\n",
    "        if jellyfish.levenshtein_distance(a_, t_) <= threshold:\n",
    "            return True\n",
    "        else:\n",
    "            return False\n",
    "    else:\n",
    "        return False"
   ]
  },
  {
   "cell_type": "code",
   "execution_count": 31,
   "metadata": {},
   "outputs": [],
   "source": [
    "def jaro_winkler_similarity_on_reduction_of_expansion(a, term, threshold):\n",
    "    a_, t_ = clean_string_pair_and_reduce_expansion(a, term)\n",
    "    if a_[0] == t_[0]:\n",
    "        if jellyfish.jaro_winkler_similarity(a_, t_) >= threshold:\n",
    "            return True\n",
    "        else:\n",
    "            return False\n",
    "    else:\n",
    "        return False"
   ]
  },
  {
   "cell_type": "code",
   "execution_count": 32,
   "metadata": {},
   "outputs": [],
   "source": [
    "def dice_coefficient_on_reduction_of_expansion(a, term, threshold):\n",
    "    a_, t_ = clean_string_pair_and_reduce_expansion(a, term)\n",
    "    if a_[0] == t_[0]:\n",
    "        if dice_coefficient(a_, t_) >= threshold:\n",
    "            return True\n",
    "        else:\n",
    "            return False\n",
    "    else:\n",
    "        return False"
   ]
  },
  {
   "cell_type": "code",
   "execution_count": null,
   "metadata": {},
   "outputs": [],
   "source": []
  },
  {
   "cell_type": "markdown",
   "metadata": {},
   "source": [
    "# ILLOD with its Methods (Section 4.3)"
   ]
  },
  {
   "cell_type": "code",
   "execution_count": 33,
   "metadata": {},
   "outputs": [],
   "source": [
    "def check_initial_letters(a, t):\n",
    "    initial_letters_of_tokens_of_t = ''.join([c[0] for c in t.split()])\n",
    "    if initial_letters_of_tokens_of_t == a or initial_letters_of_tokens_of_t.upper() == a:\n",
    "        return True\n",
    "\n",
    "def check_length_consistency(a, t):\n",
    "    length_consistency = False\n",
    "    if len(t.split()) <= len(a):\n",
    "        length_consistency = True\n",
    "    return length_consistency\n",
    "\n",
    "def check_order(a, t):\n",
    "    abbv_reversed = a.lower()[::-1]\n",
    "    term_reversed = t.lower()[::-1]\n",
    "    len_of_term = len(t)\n",
    "    \n",
    "    pos_memory = 0\n",
    "    pos_memory_list = []\n",
    "    order_matching_string_rev = \"\"\n",
    "    \n",
    "    for j, char_from_abbv in enumerate(abbv_reversed):\n",
    "        if j == len(abbv_reversed) - 1 and len(pos_memory_list) > 0 and pos_memory == len(term_reversed):\n",
    "            break\n",
    "        else:\n",
    "            for i, char_from_term in enumerate(term_reversed[pos_memory:]):\n",
    "                if char_from_abbv == char_from_term:\n",
    "                    order_matching_string_rev = order_matching_string_rev + char_from_abbv\n",
    "                    pos_memory = pos_memory + i + 1\n",
    "                    pos_memory_list.append(len_of_term - pos_memory)\n",
    "                    break\n",
    "    if order_matching_string_rev == abbv_reversed:\n",
    "        return True, pos_memory_list[::-1]\n",
    "    else:\n",
    "        return False, []\n",
    "\n",
    "def check_distribution_of_matching_characters(pos_of_chars_list, t):\n",
    "    term_intervals = []\n",
    "    len_of_term = len(t)\n",
    "    i = 0\n",
    "    while i < len_of_term:\n",
    "        sublist = []\n",
    "        j = i\n",
    "        while j < len_of_term and t[j] != \" \":\n",
    "            sublist.append(j)\n",
    "            j = j+ 1\n",
    "        i = j+1\n",
    "        term_intervals.append(sublist)\n",
    "        \n",
    "    splitted_term = t.split()      \n",
    "    \n",
    "    containment_list = []\n",
    "    for i, interval in enumerate(term_intervals):\n",
    "        contanment_sublist = []\n",
    "        for pos in pos_of_chars_list:\n",
    "            if (pos in interval) and (splitted_term[i][0] == t[pos]):\n",
    "                contanment_sublist.append(0)\n",
    "            elif pos in interval:\n",
    "                contanment_sublist.append(interval.index(pos))\n",
    "        if len(contanment_sublist) == 0:\n",
    "            contanment_sublist.append(-1)\n",
    "        containment_list.append(contanment_sublist)\n",
    "    \n",
    "    result_of_distribution_check = False\n",
    "    if len(containment_list) <= 1:\n",
    "        result_of_distribution_check = True\n",
    "    elif len (containment_list) >= 2:\n",
    "        non_zero_count = 0\n",
    "        for sublist in containment_list[1:]:\n",
    "            if len(sublist) == 1 and 0 not in sublist:\n",
    "                non_zero_count += 1\n",
    "        if non_zero_count == 0:\n",
    "            result_of_distribution_check = True\n",
    "    \n",
    "    return result_of_distribution_check\n",
    "\n",
    "\n",
    "\n",
    "def illod(abbv, term, threshold=None):\n",
    "    if (abbv[0].lower() == term[0].lower()):\n",
    "        \n",
    "        \n",
    "        ###################################### Step (a) ##########################################\n",
    "        # check wether initial letters of tokens in t match with the letters in abbreviation\n",
    "        if check_initial_letters(abbv, term):\n",
    "            return True\n",
    "        \n",
    "        \n",
    "        \n",
    "        ###################################### Step (b) ########################################\n",
    "        # clean abbreviation and term from special characters and stopwords\n",
    "        a_, t_ = clean_string_pair_and_reduce_expansion(abbv, term)\n",
    "        if a_ == t_:\n",
    "            return True\n",
    "        \n",
    "        sanitized_abbv = clean_string(abbv) \n",
    "        sanitized_term = clean_string(term)\n",
    "        sanitized_term_without_stopswords = stop_words_handling(sanitized_term)\n",
    "        sanitized_term_without_stopswords_splitted  = sanitized_term_without_stopswords.split()\n",
    "        \n",
    "        ###################################### Step (c), (d), (e) ###############################\n",
    "        # Sequential call of the methods that check and compare lengths, order and distribution of characters\n",
    "        length_consistency = check_length_consistency(sanitized_abbv, sanitized_term_without_stopswords)\n",
    "        order, pos_of_chars_list = check_order(sanitized_abbv, sanitized_term_without_stopswords)\n",
    "        distribution = check_distribution_of_matching_characters(pos_of_chars_list, sanitized_term_without_stopswords)\n",
    "\n",
    "\n",
    "        if length_consistency and order and distribution:\n",
    "            return True\n",
    "        else:\n",
    "            return False\n",
    "\n",
    "        ################################## in case first letter differs ##########################\n",
    "    else:\n",
    "        return False\n"
   ]
  },
  {
   "cell_type": "code",
   "execution_count": null,
   "metadata": {},
   "outputs": [],
   "source": []
  },
  {
   "cell_type": "markdown",
   "metadata": {},
   "source": [
    "# Evaluation of the 3 different AEP-Detection Types (Section 4.4)"
   ]
  },
  {
   "cell_type": "code",
   "execution_count": 34,
   "metadata": {},
   "outputs": [],
   "source": [
    "def find_and_count_false_negatives(algo, threshold):\n",
    "    FN = 0\n",
    "    for i, abb in enumerate(abbreviations):\n",
    "        if not algo(abb, expansions[i], threshold):\n",
    "            # print(\"\\\"\"+abb+\"\\\"\"+\", \"+\"\\\"\"+expansions[i]+\"\\\"\")\n",
    "            FN += 1\n",
    "    return FN, str(FN) + \" FALSE NEGATIVES. Pairs that could not be detected out of \" + str(len(abbreviations)) + \" given pairs\""
   ]
  },
  {
   "cell_type": "code",
   "execution_count": 35,
   "metadata": {},
   "outputs": [],
   "source": [
    "def find_and_count_false_positives(algo, threshold, alpha):\n",
    "    test_set = []\n",
    "    while len(test_set) <= alpha * len(abbreviations):\n",
    "        rd1 = random.randint(0, len(abbreviations)-1)\n",
    "        rd2 = random.randint(0, len(abbreviations)-1)\n",
    "        if abbreviations[rd1] != abbreviations[rd2]:\n",
    "            test_set.append ((abbreviations[rd1], expansions[rd2]))\n",
    "            \n",
    "    count_of_false_examples = 0\n",
    "    FP = 0\n",
    "    for j, tup in enumerate (test_set): \n",
    "        if algo(tup[0], tup[1], threshold):\n",
    "            count_of_false_examples += 1\n",
    "            FP +=1\n",
    "    return FP, str(FP) + \" FALSE POSITIVE detections out of \" +  str(len(test_set)) + \" created false examples\""
   ]
  },
  {
   "cell_type": "code",
   "execution_count": 36,
   "metadata": {},
   "outputs": [],
   "source": [
    "def determine_quality_parameters(alpha, algo, search_space_for_F1_optimization):\n",
    "    max_f1 = 0\n",
    "    best_values = []\n",
    "    for th_ in search_space_for_F1_optimization:\n",
    "        result_on_L = find_and_count_false_negatives(algo, th_)\n",
    "        result_on_S = find_and_count_false_positives(algo, th_, alpha)\n",
    "        FN = result_on_L[0]\n",
    "        FP = result_on_S[0]\n",
    "        TP = len(abbreviations) - FN\n",
    "        \n",
    "        # A classifier that does nothing is not useful. This serves to avoid a division by zero    \n",
    "        if FP + TP == 0:\n",
    "            precision = 0\n",
    "            recall = 0\n",
    "            f1 = 0\n",
    "        else:\n",
    "            precision = TP/(TP + FP)\n",
    "            recall = TP/(TP + FN)\n",
    "            f1 = (2*precision*recall)/(precision+recall)\n",
    "            \n",
    "        # memorise the best F1 value in the loop so far.       \n",
    "        if f1 > max_f1:\n",
    "            best_values = [th_, precision, recall, f1]\n",
    "            max_f1 = f1\n",
    "    return best_values"
   ]
  },
  {
   "cell_type": "code",
   "execution_count": 37,
   "metadata": {},
   "outputs": [],
   "source": [
    "def evaluate_algorithm (algorithm, F1_optimization_search_space):\n",
    "    eval_data = {}\n",
    "    for alpha in [8, 16, 24, 48, 72]:  \n",
    "        eval_data[alpha] = determine_quality_parameters(alpha, algorithm, F1_optimization_search_space)\n",
    "    return eval_data"
   ]
  },
  {
   "cell_type": "code",
   "execution_count": 38,
   "metadata": {},
   "outputs": [],
   "source": [
    "step_list = [h/100 for h in list(range(0,100))]"
   ]
  },
  {
   "cell_type": "code",
   "execution_count": 40,
   "metadata": {},
   "outputs": [
    {
     "data": {
      "text/html": [
       "<div>\n",
       "<style scoped>\n",
       "    .dataframe tbody tr th:only-of-type {\n",
       "        vertical-align: middle;\n",
       "    }\n",
       "\n",
       "    .dataframe tbody tr th {\n",
       "        vertical-align: top;\n",
       "    }\n",
       "\n",
       "    .dataframe thead th {\n",
       "        text-align: right;\n",
       "    }\n",
       "</style>\n",
       "<table border=\"1\" class=\"dataframe\">\n",
       "  <thead>\n",
       "    <tr style=\"text-align: right;\">\n",
       "      <th></th>\n",
       "      <th>threshold</th>\n",
       "      <th>precision</th>\n",
       "      <th>recall</th>\n",
       "      <th>F1</th>\n",
       "    </tr>\n",
       "  </thead>\n",
       "  <tbody>\n",
       "    <tr>\n",
       "      <th>8</th>\n",
       "      <td>1</td>\n",
       "      <td>0.952000</td>\n",
       "      <td>0.799552</td>\n",
       "      <td>0.869142</td>\n",
       "    </tr>\n",
       "    <tr>\n",
       "      <th>16</th>\n",
       "      <td>1</td>\n",
       "      <td>0.913043</td>\n",
       "      <td>0.799552</td>\n",
       "      <td>0.852537</td>\n",
       "    </tr>\n",
       "    <tr>\n",
       "      <th>24</th>\n",
       "      <td>1</td>\n",
       "      <td>0.870732</td>\n",
       "      <td>0.799552</td>\n",
       "      <td>0.833625</td>\n",
       "    </tr>\n",
       "    <tr>\n",
       "      <th>48</th>\n",
       "      <td>1</td>\n",
       "      <td>0.775244</td>\n",
       "      <td>0.799552</td>\n",
       "      <td>0.787211</td>\n",
       "    </tr>\n",
       "    <tr>\n",
       "      <th>72</th>\n",
       "      <td>1</td>\n",
       "      <td>0.679353</td>\n",
       "      <td>0.799552</td>\n",
       "      <td>0.734568</td>\n",
       "    </tr>\n",
       "  </tbody>\n",
       "</table>\n",
       "</div>"
      ],
      "text/plain": [
       "    threshold  precision    recall        F1\n",
       "8           1   0.952000  0.799552  0.869142\n",
       "16          1   0.913043  0.799552  0.852537\n",
       "24          1   0.870732  0.799552  0.833625\n",
       "48          1   0.775244  0.799552  0.787211\n",
       "72          1   0.679353  0.799552  0.734568"
      ]
     },
     "execution_count": 40,
     "metadata": {},
     "output_type": "execute_result"
    }
   ],
   "source": [
    "# LD (LEVENSHTEIN_DISTANCE)\n",
    "pd.DataFrame.from_dict(evaluate_algorithm (levensthein_distance_on_reduction_of_expansion, list(range(0, 4))), orient=\"index\", columns=[\"threshold\", \"precision\", \"recall\", \"F1\"])"
   ]
  },
  {
   "cell_type": "code",
   "execution_count": 41,
   "metadata": {},
   "outputs": [
    {
     "data": {
      "text/html": [
       "<div>\n",
       "<style scoped>\n",
       "    .dataframe tbody tr th:only-of-type {\n",
       "        vertical-align: middle;\n",
       "    }\n",
       "\n",
       "    .dataframe tbody tr th {\n",
       "        vertical-align: top;\n",
       "    }\n",
       "\n",
       "    .dataframe thead th {\n",
       "        text-align: right;\n",
       "    }\n",
       "</style>\n",
       "<table border=\"1\" class=\"dataframe\">\n",
       "  <thead>\n",
       "    <tr style=\"text-align: right;\">\n",
       "      <th></th>\n",
       "      <th>threshold</th>\n",
       "      <th>precision</th>\n",
       "      <th>recall</th>\n",
       "      <th>F1</th>\n",
       "    </tr>\n",
       "  </thead>\n",
       "  <tbody>\n",
       "    <tr>\n",
       "      <th>8</th>\n",
       "      <td>0.76</td>\n",
       "      <td>0.919277</td>\n",
       "      <td>0.854423</td>\n",
       "      <td>0.885665</td>\n",
       "    </tr>\n",
       "    <tr>\n",
       "      <th>16</th>\n",
       "      <td>0.77</td>\n",
       "      <td>0.862265</td>\n",
       "      <td>0.848264</td>\n",
       "      <td>0.855207</td>\n",
       "    </tr>\n",
       "    <tr>\n",
       "      <th>24</th>\n",
       "      <td>0.80</td>\n",
       "      <td>0.910703</td>\n",
       "      <td>0.776596</td>\n",
       "      <td>0.838320</td>\n",
       "    </tr>\n",
       "    <tr>\n",
       "      <th>48</th>\n",
       "      <td>0.84</td>\n",
       "      <td>0.873312</td>\n",
       "      <td>0.760358</td>\n",
       "      <td>0.812930</td>\n",
       "    </tr>\n",
       "    <tr>\n",
       "      <th>72</th>\n",
       "      <td>0.84</td>\n",
       "      <td>0.806413</td>\n",
       "      <td>0.760358</td>\n",
       "      <td>0.782709</td>\n",
       "    </tr>\n",
       "  </tbody>\n",
       "</table>\n",
       "</div>"
      ],
      "text/plain": [
       "    threshold  precision    recall        F1\n",
       "8        0.76   0.919277  0.854423  0.885665\n",
       "16       0.77   0.862265  0.848264  0.855207\n",
       "24       0.80   0.910703  0.776596  0.838320\n",
       "48       0.84   0.873312  0.760358  0.812930\n",
       "72       0.84   0.806413  0.760358  0.782709"
      ]
     },
     "execution_count": 41,
     "metadata": {},
     "output_type": "execute_result"
    }
   ],
   "source": [
    "# JWS (JARO-WINKLER-SIMILARITY)\n",
    "pd.DataFrame.from_dict(evaluate_algorithm (jaro_winkler_similarity_on_reduction_of_expansion, step_list), orient=\"index\", columns=[\"threshold\", \"precision\", \"recall\", \"F1\"])"
   ]
  },
  {
   "cell_type": "code",
   "execution_count": 42,
   "metadata": {
    "scrolled": true
   },
   "outputs": [
    {
     "data": {
      "text/html": [
       "<div>\n",
       "<style scoped>\n",
       "    .dataframe tbody tr th:only-of-type {\n",
       "        vertical-align: middle;\n",
       "    }\n",
       "\n",
       "    .dataframe tbody tr th {\n",
       "        vertical-align: top;\n",
       "    }\n",
       "\n",
       "    .dataframe thead th {\n",
       "        text-align: right;\n",
       "    }\n",
       "</style>\n",
       "<table border=\"1\" class=\"dataframe\">\n",
       "  <thead>\n",
       "    <tr style=\"text-align: right;\">\n",
       "      <th></th>\n",
       "      <th>threshold</th>\n",
       "      <th>precision</th>\n",
       "      <th>recall</th>\n",
       "      <th>F1</th>\n",
       "    </tr>\n",
       "  </thead>\n",
       "  <tbody>\n",
       "    <tr>\n",
       "      <th>8</th>\n",
       "      <td>0.44</td>\n",
       "      <td>0.857940</td>\n",
       "      <td>0.946809</td>\n",
       "      <td>0.900186</td>\n",
       "    </tr>\n",
       "    <tr>\n",
       "      <th>16</th>\n",
       "      <td>0.63</td>\n",
       "      <td>0.884483</td>\n",
       "      <td>0.861702</td>\n",
       "      <td>0.872944</td>\n",
       "    </tr>\n",
       "    <tr>\n",
       "      <th>24</th>\n",
       "      <td>0.67</td>\n",
       "      <td>0.938095</td>\n",
       "      <td>0.772116</td>\n",
       "      <td>0.847052</td>\n",
       "    </tr>\n",
       "    <tr>\n",
       "      <th>48</th>\n",
       "      <td>0.72</td>\n",
       "      <td>0.887959</td>\n",
       "      <td>0.772116</td>\n",
       "      <td>0.825996</td>\n",
       "    </tr>\n",
       "    <tr>\n",
       "      <th>72</th>\n",
       "      <td>0.80</td>\n",
       "      <td>0.830873</td>\n",
       "      <td>0.756439</td>\n",
       "      <td>0.791911</td>\n",
       "    </tr>\n",
       "  </tbody>\n",
       "</table>\n",
       "</div>"
      ],
      "text/plain": [
       "    threshold  precision    recall        F1\n",
       "8        0.44   0.857940  0.946809  0.900186\n",
       "16       0.63   0.884483  0.861702  0.872944\n",
       "24       0.67   0.938095  0.772116  0.847052\n",
       "48       0.72   0.887959  0.772116  0.825996\n",
       "72       0.80   0.830873  0.756439  0.791911"
      ]
     },
     "execution_count": 42,
     "metadata": {},
     "output_type": "execute_result"
    }
   ],
   "source": [
    "# DC (DICE-COEFFICIENT)\n",
    "pd.DataFrame.from_dict(evaluate_algorithm (dice_coefficient_on_reduction_of_expansion , step_list), orient=\"index\", columns=[\"threshold\", \"precision\", \"recall\", \"F1\"])"
   ]
  },
  {
   "cell_type": "code",
   "execution_count": 43,
   "metadata": {
    "scrolled": false
   },
   "outputs": [
    {
     "data": {
      "text/html": [
       "<div>\n",
       "<style scoped>\n",
       "    .dataframe tbody tr th:only-of-type {\n",
       "        vertical-align: middle;\n",
       "    }\n",
       "\n",
       "    .dataframe tbody tr th {\n",
       "        vertical-align: top;\n",
       "    }\n",
       "\n",
       "    .dataframe thead th {\n",
       "        text-align: right;\n",
       "    }\n",
       "</style>\n",
       "<table border=\"1\" class=\"dataframe\">\n",
       "  <thead>\n",
       "    <tr style=\"text-align: right;\">\n",
       "      <th></th>\n",
       "      <th>threshold</th>\n",
       "      <th>precision</th>\n",
       "      <th>recall</th>\n",
       "      <th>F1</th>\n",
       "    </tr>\n",
       "  </thead>\n",
       "  <tbody>\n",
       "    <tr>\n",
       "      <th>8</th>\n",
       "      <td>-1</td>\n",
       "      <td>0.987871</td>\n",
       "      <td>0.912094</td>\n",
       "      <td>0.948472</td>\n",
       "    </tr>\n",
       "    <tr>\n",
       "      <th>16</th>\n",
       "      <td>-1</td>\n",
       "      <td>0.973700</td>\n",
       "      <td>0.912094</td>\n",
       "      <td>0.941891</td>\n",
       "    </tr>\n",
       "    <tr>\n",
       "      <th>24</th>\n",
       "      <td>-1</td>\n",
       "      <td>0.958235</td>\n",
       "      <td>0.912094</td>\n",
       "      <td>0.934596</td>\n",
       "    </tr>\n",
       "    <tr>\n",
       "      <th>48</th>\n",
       "      <td>-1</td>\n",
       "      <td>0.922424</td>\n",
       "      <td>0.912094</td>\n",
       "      <td>0.917230</td>\n",
       "    </tr>\n",
       "    <tr>\n",
       "      <th>72</th>\n",
       "      <td>-1</td>\n",
       "      <td>0.885326</td>\n",
       "      <td>0.912094</td>\n",
       "      <td>0.898511</td>\n",
       "    </tr>\n",
       "  </tbody>\n",
       "</table>\n",
       "</div>"
      ],
      "text/plain": [
       "    threshold  precision    recall        F1\n",
       "8          -1   0.987871  0.912094  0.948472\n",
       "16         -1   0.973700  0.912094  0.941891\n",
       "24         -1   0.958235  0.912094  0.934596\n",
       "48         -1   0.922424  0.912094  0.917230\n",
       "72         -1   0.885326  0.912094  0.898511"
      ]
     },
     "execution_count": 43,
     "metadata": {},
     "output_type": "execute_result"
    }
   ],
   "source": [
    "# ILLOD\n",
    "pd.DataFrame.from_dict(evaluate_algorithm (illod, [-1]), orient=\"index\", columns=[\"threshold\", \"precision\", \"recall\", \"F1\"])"
   ]
  },
  {
   "cell_type": "code",
   "execution_count": null,
   "metadata": {},
   "outputs": [],
   "source": []
  },
  {
   "cell_type": "code",
   "execution_count": null,
   "metadata": {},
   "outputs": [],
   "source": []
  }
 ],
 "metadata": {
  "kernelspec": {
   "display_name": "Python 3",
   "language": "python",
   "name": "python3"
  },
  "language_info": {
   "codemirror_mode": {
    "name": "ipython",
    "version": 3
   },
   "file_extension": ".py",
   "mimetype": "text/x-python",
   "name": "python",
   "nbconvert_exporter": "python",
   "pygments_lexer": "ipython3",
   "version": "3.7.3"
  }
 },
 "nbformat": 4,
 "nbformat_minor": 5
}
