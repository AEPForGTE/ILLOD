{
 "cells": [
  {
   "cell_type": "markdown",
   "id": "black-buffer",
   "metadata": {},
   "source": [
    "# Evaluate and Optimize Abbreviation Extraction"
   ]
  },
  {
   "cell_type": "code",
   "execution_count": 1,
   "id": "demographic-chain",
   "metadata": {},
   "outputs": [],
   "source": [
    "import pandas as pd\n",
    "import string"
   ]
  },
  {
   "cell_type": "markdown",
   "id": "international-worth",
   "metadata": {},
   "source": [
    "## Load Pure Requirements from CSV-file"
   ]
  },
  {
   "cell_type": "code",
   "execution_count": 2,
   "id": "integrated-radical",
   "metadata": {},
   "outputs": [],
   "source": [
    "data = pd.read_csv('abbr_db.CSV', names=['abbr', 'long_forms'], sep=';', encoding='utf8')\n",
    "abbreviations = list(data['abbr'].values)\n",
    "expansions = list(data['long_forms'].values)"
   ]
  },
  {
   "cell_type": "markdown",
   "id": "silver-burke",
   "metadata": {},
   "source": [
    "## Helper function to calculate the proportion of upper case letters"
   ]
  },
  {
   "cell_type": "code",
   "execution_count": 3,
   "id": "square-feelings",
   "metadata": {},
   "outputs": [],
   "source": [
    "def portion_of_capital_letters(w):\n",
    "    upper_cases = ''.join([c for c in w if c.isupper()])\n",
    "    return len(upper_cases)/len(w)"
   ]
  },
  {
   "cell_type": "markdown",
   "id": "refined-ticket",
   "metadata": {},
   "source": [
    "## The method \"extraction_rule()\" is the function that has to be optimized"
   ]
  },
  {
   "cell_type": "code",
   "execution_count": 4,
   "id": "organic-sarah",
   "metadata": {},
   "outputs": [],
   "source": [
    "def extraction_rule(w, l_, ratio):\n",
    "    if len(w) <= l_ and portion_of_capital_letters(w) >= ratio:\n",
    "        return True\n",
    "    else:\n",
    "        return False"
   ]
  },
  {
   "cell_type": "markdown",
   "id": "prospective-translator",
   "metadata": {},
   "source": [
    "## Determine False Positive and False Negative rates for given extraction rule parameters \"l_\" (length of word) and \"ratio\" (proportion of upper case letters)"
   ]
  },
  {
   "cell_type": "code",
   "execution_count": 5,
   "id": "functioning-business",
   "metadata": {},
   "outputs": [],
   "source": [
    "def determine_FN(l_, ratio):\n",
    "    FN = 0\n",
    "    for abb in abbreviations:\n",
    "        if not extraction_rule(abb, l_, ratio):\n",
    "            FN = FN + 1\n",
    "    return FN"
   ]
  },
  {
   "cell_type": "code",
   "execution_count": 6,
   "id": "unauthorized-virtue",
   "metadata": {},
   "outputs": [],
   "source": [
    "def determine_FP(l_, ratio):\n",
    "    FP = 0\n",
    "    for exp in expansions:\n",
    "        for word in exp.split():\n",
    "            if extraction_rule(word, l_, ratio):\n",
    "                FP = FP + 1\n",
    "    return FP"
   ]
  },
  {
   "cell_type": "markdown",
   "id": "physical-liver",
   "metadata": {},
   "source": [
    "## The main function to conduct exhaustive search on $[0,1]$ in $1/100$ steps "
   ]
  },
  {
   "cell_type": "code",
   "execution_count": 18,
   "id": "political-runner",
   "metadata": {
    "scrolled": true
   },
   "outputs": [],
   "source": [
    "max_f1 = 0\n",
    "memory = []\n",
    "for word_length in range(1,21):\n",
    "    for search_step in range(1, 101):\n",
    "        ratio = search_step/100\n",
    "        FP = determine_FP(word_length, ratio)\n",
    "        FN = determine_FN(word_length, ratio)\n",
    "        TP = len(abbreviations) - FN\n",
    "        precision = TP/(TP + FP)\n",
    "        recall = TP/(TP + FN)\n",
    "        f1 = (2*recall*precision)/(recall + precision)\n",
    "        if f1 > max_f1:\n",
    "            max_f1 = f1\n",
    "            memory = [word_length, ratio, precision, recall, f1]\n",
    "result = {\"Word length\" : [memory[0]], \n",
    "          \"Ratio\" : [memory[1]], \n",
    "          \"Precision\" : [memory[2]], \n",
    "          \"Recall\" : [memory[3]], \n",
    "          \"F1\" : [memory[4]]}"
   ]
  },
  {
   "cell_type": "code",
   "execution_count": 19,
   "id": "unsigned-combat",
   "metadata": {},
   "outputs": [
    {
     "data": {
      "text/html": [
       "<div>\n",
       "<style scoped>\n",
       "    .dataframe tbody tr th:only-of-type {\n",
       "        vertical-align: middle;\n",
       "    }\n",
       "\n",
       "    .dataframe tbody tr th {\n",
       "        vertical-align: top;\n",
       "    }\n",
       "\n",
       "    .dataframe thead th {\n",
       "        text-align: right;\n",
       "    }\n",
       "</style>\n",
       "<table border=\"1\" class=\"dataframe\">\n",
       "  <thead>\n",
       "    <tr style=\"text-align: right;\">\n",
       "      <th></th>\n",
       "      <th>Word length</th>\n",
       "      <th>Ratio</th>\n",
       "      <th>Precision</th>\n",
       "      <th>Recall</th>\n",
       "      <th>F1</th>\n",
       "    </tr>\n",
       "  </thead>\n",
       "  <tbody>\n",
       "    <tr>\n",
       "      <th>0</th>\n",
       "      <td>13</td>\n",
       "      <td>0.29</td>\n",
       "      <td>0.922216</td>\n",
       "      <td>0.922732</td>\n",
       "      <td>0.922474</td>\n",
       "    </tr>\n",
       "  </tbody>\n",
       "</table>\n",
       "</div>"
      ],
      "text/plain": [
       "   Word length  Ratio  Precision    Recall        F1\n",
       "0           13   0.29   0.922216  0.922732  0.922474"
      ]
     },
     "execution_count": 19,
     "metadata": {},
     "output_type": "execute_result"
    }
   ],
   "source": [
    "pd.DataFrame.from_dict(result)"
   ]
  },
  {
   "cell_type": "markdown",
   "id": "sweet-findings",
   "metadata": {},
   "source": [
    "## Check how many false negatives would still be produced "
   ]
  },
  {
   "cell_type": "code",
   "execution_count": 20,
   "id": "multiple-mediterranean",
   "metadata": {
    "scrolled": true
   },
   "outputs": [
    {
     "name": "stdout",
     "output_type": "stream",
     "text": [
      "AE lock\n",
      "Alpha\n",
      "A record\n",
      "Auto\n",
      "Auto\n",
      "Auto\n",
      "Basic\n",
      "Bi-di\n",
      "Bool\n",
      "bps\n",
      "Brouter\n",
      "Cell phone\n",
      "Cert\n",
      "Cert\n",
      "Cert\n",
      "Char\n",
      "chdir\n",
      "Code\n",
      "Codec\n",
      "Codec\n",
      "Coil\n",
      "Core\n",
      "Crypto\n",
      "Ctrl\n",
      "Curmbox\n",
      "Double\n",
      "Dpkg\n",
      "Drop\n",
      "Dword\n",
      "E-911\n",
      "E-book\n",
      "E-learning\n",
      "E-mail\n",
      "Eval\n",
      "Famicom\n",
      "Feat\n",
      "Fixed\n",
      "Flash\n",
      "Float\n",
      "Fsck\n",
      "Fstab\n",
      "Fstype\n",
      "Gbps\n",
      "Gmail\n",
      "Gravatar\n",
      "Gzip\n",
      "Hiew\n",
      "Hi-res\n",
      "Icacl\n",
      "Inetd\n",
      "Info\n",
      "Inode\n",
      "kb / kbit\n",
      "Kbps\n",
      "kilo\n",
      "Laser\n",
      "LED monitor\n",
      "Li-ion\n",
      "Li-polymer\n",
      "Lisp\n",
      "Lo-res / low-res\n",
      "Luser\n",
      "lvl\n",
      "Lzone\n",
      "m\n",
      "Macro\n",
      "Matlab\n",
      "Matrix\n",
      "mb\n",
      "Mbps\n",
      "Memo\n",
      "Mflop\n",
      "Mget\n",
      "Mkdir\n",
      "Moblog\n",
      "Model no.\n",
      "Modem\n",
      "MO diskette\n",
      "Mofo\n",
      "Mput\n",
      "Mutex\n",
      "MX record\n",
      "ne\n",
      "Nimrod\n",
      "nm\n",
      "ns\n",
      "Open\n",
      "Parm\n",
      "P-code\n",
      "P-code\n",
      "Permalink\n",
      "Plus\n",
      "P-machine\n",
      "Printf\n",
      "Privmsg\n",
      "Proglog\n",
      "Prolog\n",
      "PrtScrn or Prt Scrn\n",
      "Rec.\n",
      "Regex\n",
      "RF shielding\n",
      "RLL encoding\n",
      "RO terminal\n",
      "Scanf\n",
      "Serial no.\n",
      "Servlet\n",
      "Setuid\n",
      "Sexp or sexpr\n",
      "SHV connector\n",
      "Slogin\n",
      "Slotket\n",
      "SM card\n",
      "Source\n",
      "Spec\n",
      "Spit\n",
      "splogs\n",
      "Spool\n",
      "Stdin\n",
      "Subnet\n",
      "S-Video\n",
      "sync\n",
      "synth\n",
      "sysgen\n",
      "syslog\n",
      "sysop\n",
      "sysrq\n",
      "Tech\n",
      "Telco line\n",
      "Texel\n",
      "Transistor\n",
      "Uarch\n",
      "Uuencode\n",
      "Veronica\n",
      "Vhost\n",
      "Web app\n",
      "Winsock\n",
      "Wpcomp\n",
      "Wpcomp\n",
      "138\n"
     ]
    }
   ],
   "source": [
    "FN = 0\n",
    "for abb in abbreviations:\n",
    "    if not extraction_rule(abb, 13, 0.29):\n",
    "        FN = FN + 1\n",
    "        print(abb)\n",
    "print(str(FN))"
   ]
  }
 ],
 "metadata": {
  "kernelspec": {
   "display_name": "Python 3",
   "language": "python",
   "name": "python3"
  },
  "language_info": {
   "codemirror_mode": {
    "name": "ipython",
    "version": 3
   },
   "file_extension": ".py",
   "mimetype": "text/x-python",
   "name": "python",
   "nbconvert_exporter": "python",
   "pygments_lexer": "ipython3",
   "version": "3.6.12"
  }
 },
 "nbformat": 4,
 "nbformat_minor": 5
}
