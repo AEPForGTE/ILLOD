{
 "cells": [
  {
   "cell_type": "markdown",
   "id": "d84976b0",
   "metadata": {},
   "source": [
    "# 10-fold validation on 100 randomly inserted uncontrolled Abbreviations (Section 6.5)"
   ]
  },
  {
   "cell_type": "code",
   "execution_count": 1,
   "id": "willing-embassy",
   "metadata": {},
   "outputs": [],
   "source": [
    "import pandas as pd\n",
    "import Function_Pool\n",
    "import pickle\n",
    "import ILLOD\n",
    "import time"
   ]
  },
  {
   "cell_type": "code",
   "execution_count": 2,
   "id": "687f82f8",
   "metadata": {},
   "outputs": [
    {
     "name": "stderr",
     "output_type": "stream",
     "text": [
      "Warning : `load_model` does not return WordVectorModel or SupervisedModel any more, but a `FastText` object which is very similar.\n"
     ]
    }
   ],
   "source": [
    "import fasttext\n",
    "import fasttext.util\n",
    "from scipy import spatial\n",
    "fasttext.util.download_model('en', if_exists='ignore')\n",
    "ft = fasttext.load_model(\"cc.en.300.bin\")\n",
    "\n",
    "\n",
    "def fast_text_similarity(a, t, threshold):  \n",
    "    a_v = ft.get_sentence_vector(a)\n",
    "    t_v = ft.get_sentence_vector(t)\n",
    "    if 1 - spatial.distance.cosine(a_v, t_v) >= threshold:\n",
    "        return True\n",
    "    else:\n",
    "        return False"
   ]
  },
  {
   "cell_type": "markdown",
   "id": "493af0d5",
   "metadata": {},
   "source": [
    "## Load Data"
   ]
  },
  {
   "cell_type": "code",
   "execution_count": 3,
   "id": "fe2ce200",
   "metadata": {},
   "outputs": [
    {
     "name": "stdout",
     "output_type": "stream",
     "text": [
      "518\n"
     ]
    }
   ],
   "source": [
    "filePath = \"pure_dataset.csv\"\n",
    "data = pd.read_csv(filePath, names=['ID','dataset', 'requirement'], sep=';', encoding='utf8')\n",
    "data_list = data.values.tolist()\n",
    "\n",
    "replacement_data = pd.read_csv(\"SF-LF-Pairs.csv\", names=['term','abbv'], sep=';', encoding='utf8')\n",
    "aeps_to_replace = replacement_data.values.tolist()\n",
    "inserted_abbreviations = []\n",
    "for sample in aeps_to_replace:\n",
    "    if not (sample[1] != sample[1]):\n",
    "        inserted_abbreviations.append(sample)\n",
    "print(len(inserted_abbreviations))"
   ]
  },
  {
   "cell_type": "code",
   "execution_count": null,
   "id": "d7457938",
   "metadata": {},
   "outputs": [],
   "source": []
  },
  {
   "cell_type": "markdown",
   "id": "e1573e3e",
   "metadata": {},
   "source": [
    "## Generation of AEP Groups"
   ]
  },
  {
   "cell_type": "code",
   "execution_count": 4,
   "id": "ff93a5cc",
   "metadata": {
    "scrolled": true
   },
   "outputs": [],
   "source": [
    "def generate_aep_candidates_and_groups(found_abbs, \n",
    "                                       ordinary_terms, \n",
    "                                       terms_that_contain_abbs, \n",
    "                                       aep_classifier, \n",
    "                                       threshold):\n",
    "    dict_for_aep_groups = {}\n",
    "    for a in found_abbs:\n",
    "        for ot in ordinary_terms:\n",
    "            if aep_classifier(a, ot, threshold):\n",
    "                if a in dict_for_aep_groups.keys():\n",
    "                    dict_for_aep_groups[a].append(ot)\n",
    "                else:\n",
    "                    dict_for_aep_groups[a] = [ot]\n",
    "                    \n",
    "    \n",
    "    for a in found_abbs:\n",
    "        for ttca in terms_that_contain_abbs:\n",
    "            if a in ttca.split():\n",
    "                if a in dict_for_aep_groups.keys():\n",
    "                    dict_for_aep_groups[a].append(ttca)\n",
    "                else:\n",
    "                    dict_for_aep_groups[a] = [ttca]\n",
    "    return dict_for_aep_groups"
   ]
  },
  {
   "cell_type": "markdown",
   "id": "99710ddc",
   "metadata": {},
   "source": [
    "## Calculate Performance Indicators for each AEP Detection Approach"
   ]
  },
  {
   "cell_type": "code",
   "execution_count": 5,
   "id": "2e93896d",
   "metadata": {},
   "outputs": [],
   "source": [
    "def evaluate_aep_detection_approach(found_abbreviations, list_of_replacements, ordinary_terms, terms_that_contain_abbs, clf, threshold):\n",
    "    start_time = time.time()\n",
    "    dict_for_aep_groups = generate_aep_candidates_and_groups(found_abbreviations, \n",
    "                                                             ordinary_terms, \n",
    "                                                             terms_that_contain_abbs, \n",
    "                                                             clf, \n",
    "                                                             threshold)\n",
    "    end_time = time.time()\n",
    "    duration = end_time - start_time\n",
    "    abbreviations_detected = []\n",
    "    matched_pairs = []\n",
    "    for aep in list_of_replacements: # inserted_abbreviations is a global variable\n",
    "        if aep[1] in dict_for_aep_groups.keys():\n",
    "            abbreviations_detected.append(aep[1])\n",
    "            if aep[0] in dict_for_aep_groups[aep[1]]:\n",
    "                matched_pairs.append(aep)\n",
    "    abbv_set_of_inserted_abbvs = set([p[1] for p in list_of_replacements])\n",
    "    missed_abbreviations = abbv_set_of_inserted_abbvs - found_abbreviations\n",
    "\n",
    "    sum_of_lengths = 0\n",
    "    for key in dict_for_aep_groups.keys():\n",
    "        sum_of_lengths = sum_of_lengths + len(dict_for_aep_groups[key])\n",
    "    average_size_of_AEP_group = sum_of_lengths/len(dict_for_aep_groups.keys())\n",
    "    cost_effectiveness = average_size_of_AEP_group/len(matched_pairs)\n",
    "    return (len(dict_for_aep_groups), \n",
    "            len(abbreviations_detected), \n",
    "            len(missed_abbreviations), \n",
    "            len(matched_pairs), \n",
    "            average_size_of_AEP_group,\n",
    "            cost_effectiveness,\n",
    "            duration)"
   ]
  },
  {
   "cell_type": "markdown",
   "id": "9a71af53",
   "metadata": {},
   "source": [
    "## The following function performs a set transformation. It partitions objects of the set  𝑇  to the sets  𝑂𝑇  and  𝑇∖𝑂𝑇 according to steps (4) and (6) from section (7.2, Figure 3)"
   ]
  },
  {
   "cell_type": "code",
   "execution_count": 6,
   "id": "afe18670",
   "metadata": {},
   "outputs": [],
   "source": [
    "def determine_sets_for_term_types(set_of_abbreviations, set_of_terms):\n",
    "    \n",
    "    #compliant with section 7.2: terms_that_contain_abbreviations = T \\ OT\n",
    "    set_of_cleaned_terms = set([term_tuple[1] for term_tuple in set_of_terms])\n",
    "    terms_that_contain_abbreviations = set()\n",
    "    \n",
    "    for term in set_of_cleaned_terms:\n",
    "        for abb in set_of_abbreviations:\n",
    "            if abb in term.split():\n",
    "                terms_that_contain_abbreviations.add(term)\n",
    "    \n",
    "    ordinary_terms = set_of_cleaned_terms - terms_that_contain_abbreviations\n",
    "    \n",
    "    return ordinary_terms, terms_that_contain_abbreviations    "
   ]
  },
  {
   "cell_type": "markdown",
   "id": "f9499956",
   "metadata": {},
   "source": [
    "## Main Function to insert 100 randomly chosen abbreviations. In each Iteration a new Requirements set with uncontrolled abbreviations is generated. After extraction of terms and abbreviations on the new set, we generate AEP groups with the mentioned approaches and evaluate them."
   ]
  },
  {
   "cell_type": "code",
   "execution_count": 7,
   "id": "855d7b1e",
   "metadata": {},
   "outputs": [],
   "source": [
    "def one_fold_validation_with_fastText(number_of_abbreviations):\n",
    "    overall_results = []\n",
    "    for i in range(0, 1):\n",
    "        print(\"iteration number: \" + str(i+1))\n",
    "        uncontr_aeps_data, list_of_replacements = Function_Pool.create_uncontrolled_abbreviations_in_requirements(data_list, aeps_to_replace, number_of_abbreviations)\n",
    "        terms = set()\n",
    "        for req in uncontr_aeps_data:\n",
    "            terms = terms.union(Function_Pool.nc_detect(req[2]))\n",
    "        found_abbreviations = Function_Pool.extract_abbs([req[2] for req in uncontr_aeps_data])\n",
    "        ordinary_terms, terms_that_contain_abbs = determine_sets_for_term_types(found_abbreviations, terms)\n",
    "        result_memo = []\n",
    "        th_list = [0.29, 0.52, 0.76, 0.70, -1, -1, -2]\n",
    "        for j, clf in enumerate([fast_text_similarity,\n",
    "                                 Function_Pool.levensthein_similarity_on_reduction_of_expansion,\n",
    "                                 Function_Pool.jaro_winkler_similarity_on_reduction_of_expansion,\n",
    "                                 Function_Pool.dice_coefficient_on_reduction_of_expansion,\n",
    "                                 ILLOD.illod,\n",
    "                                 Function_Pool.illod_plus,\n",
    "                                 Function_Pool.illod_plus]):\n",
    "            print(\"clf_position = \" + str(j))\n",
    "            result_memo.append(evaluate_aep_detection_approach(found_abbreviations,\n",
    "                                                               list_of_replacements,\n",
    "                                                               ordinary_terms, \n",
    "                                                               terms_that_contain_abbs,\n",
    "                                                               clf,\n",
    "                                                               threshold = th_list[j]))\n",
    "        overall_results.append(result_memo)\n",
    "    return overall_results"
   ]
  },
  {
   "cell_type": "code",
   "execution_count": 8,
   "id": "c6275bdb",
   "metadata": {},
   "outputs": [
    {
     "name": "stdout",
     "output_type": "stream",
     "text": [
      "iteration number: 1\n",
      "clf_position = 0\n"
     ]
    },
    {
     "name": "stderr",
     "output_type": "stream",
     "text": [
      "/mnt/c/Users/iliass.aymaz/ILLOD/ILLOD_IST/venv/lib/python3.8/site-packages/scipy/spatial/distance.py:630: RuntimeWarning: invalid value encountered in float_scalars\n",
      "  dist = 1.0 - uv / np.sqrt(uu * vv)\n"
     ]
    },
    {
     "name": "stdout",
     "output_type": "stream",
     "text": [
      "clf_position = 1\n",
      "clf_position = 2\n",
      "clf_position = 3\n",
      "clf_position = 4\n",
      "clf_position = 5\n",
      "clf_position = 6\n"
     ]
    }
   ],
   "source": [
    "tor = one_fold_validation_with_fastText(50)"
   ]
  },
  {
   "cell_type": "markdown",
   "id": "20668d35",
   "metadata": {},
   "source": [
    "## Sum up Results for validation with fastText"
   ]
  },
  {
   "cell_type": "code",
   "execution_count": 9,
   "id": "3a5aab4f",
   "metadata": {},
   "outputs": [
    {
     "data": {
      "text/html": [
       "<div>\n",
       "<style scoped>\n",
       "    .dataframe tbody tr th:only-of-type {\n",
       "        vertical-align: middle;\n",
       "    }\n",
       "\n",
       "    .dataframe tbody tr th {\n",
       "        vertical-align: top;\n",
       "    }\n",
       "\n",
       "    .dataframe thead th {\n",
       "        text-align: right;\n",
       "    }\n",
       "</style>\n",
       "<table border=\"1\" class=\"dataframe\">\n",
       "  <thead>\n",
       "    <tr style=\"text-align: right;\">\n",
       "      <th></th>\n",
       "      <th>#AEP_groups</th>\n",
       "      <th>#found_abbs</th>\n",
       "      <th>#missed_abbs</th>\n",
       "      <th>#matched_AEPs</th>\n",
       "      <th>size_of_AEPgroup</th>\n",
       "      <th>cost-effectiveness</th>\n",
       "      <th>execution time</th>\n",
       "    </tr>\n",
       "  </thead>\n",
       "  <tbody>\n",
       "    <tr>\n",
       "      <th>FastText_Clf</th>\n",
       "      <td>448.0</td>\n",
       "      <td>33.0</td>\n",
       "      <td>17.0</td>\n",
       "      <td>6.0</td>\n",
       "      <td>84.631696</td>\n",
       "      <td>14.105283</td>\n",
       "      <td>146.579318</td>\n",
       "    </tr>\n",
       "    <tr>\n",
       "      <th>Levensthein_Clf</th>\n",
       "      <td>323.0</td>\n",
       "      <td>31.0</td>\n",
       "      <td>17.0</td>\n",
       "      <td>12.0</td>\n",
       "      <td>20.575851</td>\n",
       "      <td>1.714654</td>\n",
       "      <td>13.313746</td>\n",
       "    </tr>\n",
       "    <tr>\n",
       "      <th>Jaro_Winkler_Clf</th>\n",
       "      <td>443.0</td>\n",
       "      <td>33.0</td>\n",
       "      <td>17.0</td>\n",
       "      <td>24.0</td>\n",
       "      <td>64.785553</td>\n",
       "      <td>2.699398</td>\n",
       "      <td>13.073903</td>\n",
       "    </tr>\n",
       "    <tr>\n",
       "      <th>Dice_Coefficient_Clf</th>\n",
       "      <td>416.0</td>\n",
       "      <td>32.0</td>\n",
       "      <td>17.0</td>\n",
       "      <td>12.0</td>\n",
       "      <td>33.201923</td>\n",
       "      <td>2.766827</td>\n",
       "      <td>13.579233</td>\n",
       "    </tr>\n",
       "    <tr>\n",
       "      <th>ILLOD</th>\n",
       "      <td>339.0</td>\n",
       "      <td>33.0</td>\n",
       "      <td>17.0</td>\n",
       "      <td>28.0</td>\n",
       "      <td>13.091445</td>\n",
       "      <td>0.467552</td>\n",
       "      <td>2.235500</td>\n",
       "    </tr>\n",
       "    <tr>\n",
       "      <th>ILLOD+_VariantA</th>\n",
       "      <td>337.0</td>\n",
       "      <td>33.0</td>\n",
       "      <td>17.0</td>\n",
       "      <td>29.0</td>\n",
       "      <td>10.213650</td>\n",
       "      <td>0.352195</td>\n",
       "      <td>45.212449</td>\n",
       "    </tr>\n",
       "    <tr>\n",
       "      <th>ILLOD+_VariantB</th>\n",
       "      <td>335.0</td>\n",
       "      <td>33.0</td>\n",
       "      <td>17.0</td>\n",
       "      <td>21.0</td>\n",
       "      <td>7.820896</td>\n",
       "      <td>0.372424</td>\n",
       "      <td>50.515371</td>\n",
       "    </tr>\n",
       "  </tbody>\n",
       "</table>\n",
       "</div>"
      ],
      "text/plain": [
       "                      #AEP_groups  #found_abbs  #missed_abbs  #matched_AEPs  \\\n",
       "FastText_Clf                448.0         33.0          17.0            6.0   \n",
       "Levensthein_Clf             323.0         31.0          17.0           12.0   \n",
       "Jaro_Winkler_Clf            443.0         33.0          17.0           24.0   \n",
       "Dice_Coefficient_Clf        416.0         32.0          17.0           12.0   \n",
       "ILLOD                       339.0         33.0          17.0           28.0   \n",
       "ILLOD+_VariantA             337.0         33.0          17.0           29.0   \n",
       "ILLOD+_VariantB             335.0         33.0          17.0           21.0   \n",
       "\n",
       "                      size_of_AEPgroup  cost-effectiveness  execution time  \n",
       "FastText_Clf                 84.631696           14.105283      146.579318  \n",
       "Levensthein_Clf              20.575851            1.714654       13.313746  \n",
       "Jaro_Winkler_Clf             64.785553            2.699398       13.073903  \n",
       "Dice_Coefficient_Clf         33.201923            2.766827       13.579233  \n",
       "ILLOD                        13.091445            0.467552        2.235500  \n",
       "ILLOD+_VariantA              10.213650            0.352195       45.212449  \n",
       "ILLOD+_VariantB               7.820896            0.372424       50.515371  "
      ]
     },
     "execution_count": 9,
     "metadata": {},
     "output_type": "execute_result"
    }
   ],
   "source": [
    "## 1 Iteration with fastText\n",
    "def calc_average_results(tor, i):\n",
    "    spec_results = [iter_result[i] for iter_result in tor]\n",
    "    summed_up_result = []\n",
    "    for dim in range(0,7):\n",
    "        sum_ = 0\n",
    "        for ir in spec_results:\n",
    "            sum_ = sum_ + ir[dim]\n",
    "        summed_up_result.append(sum_/len(tor))\n",
    "    return summed_up_result\n",
    "\n",
    "average_results_dict = {\"FastText_Clf\": calc_average_results(tor, 0),\n",
    "                        \"Levensthein_Clf\": calc_average_results(tor, 1),\n",
    "                        \"Jaro_Winkler_Clf\": calc_average_results(tor, 2),\n",
    "                        \"Dice_Coefficient_Clf\": calc_average_results(tor, 3),\n",
    "                        \"ILLOD\": calc_average_results(tor, 4),\n",
    "                        \"ILLOD+_VariantA\": calc_average_results(tor, 5),\n",
    "                        \"ILLOD+_VariantB\": calc_average_results(tor, 6)}\n",
    "\n",
    "pd.DataFrame.from_dict(average_results_dict, orient=\"index\", columns=[\"#AEP_groups\", \"#found_abbs\", \n",
    "                                                                      \"#missed_abbs\", \"#matched_AEPs\", \n",
    "                                                                      \"size_of_AEPgroup\", \"cost-effectiveness\", \n",
    "                                                                      \"execution time\"])"
   ]
  },
  {
   "cell_type": "markdown",
   "id": "d843c002",
   "metadata": {},
   "source": [
    "## Perform 10-fold Validation without fastText"
   ]
  },
  {
   "cell_type": "code",
   "execution_count": 10,
   "id": "e777a934",
   "metadata": {},
   "outputs": [],
   "source": [
    "\n",
    "def ten_fold_validation(number_of_abbreviations):\n",
    "    overall_results = []\n",
    "    for i in range(0, 10):\n",
    "        print(\"iteration number: \" + str(i+1))\n",
    "        uncontr_aeps_data, list_of_replacements = Function_Pool.create_uncontrolled_abbreviations_in_requirements(data_list, aeps_to_replace, number_of_abbreviations)\n",
    "        terms = set()\n",
    "        for req in uncontr_aeps_data:\n",
    "            terms = terms.union(Function_Pool.nc_detect(req[2]))\n",
    "        found_abbreviations = Function_Pool.extract_abbs([req[2] for req in uncontr_aeps_data])\n",
    "        ordinary_terms, terms_that_contain_abbs = determine_sets_for_term_types(found_abbreviations, terms)\n",
    "        result_memo = []\n",
    "        th_list = [0.52, 0.76, 0.70, -1, -1, -2]\n",
    "        for j, clf in enumerate([Function_Pool.levensthein_similarity_on_reduction_of_expansion,\n",
    "            Function_Pool.jaro_winkler_similarity_on_reduction_of_expansion,\n",
    "            Function_Pool.dice_coefficient_on_reduction_of_expansion,\n",
    "            ILLOD.illod,\n",
    "            Function_Pool.illod_plus,\n",
    "            Function_Pool.illod_plus]):\n",
    "            result_memo.append(evaluate_aep_detection_approach(found_abbreviations,\n",
    "                                                               list_of_replacements,\n",
    "                                                               ordinary_terms, \n",
    "                                                               terms_that_contain_abbs,\n",
    "                                                               clf,\n",
    "                                                               threshold = th_list[j]))\n",
    "        overall_results.append(result_memo)\n",
    "    return overall_results"
   ]
  },
  {
   "cell_type": "code",
   "execution_count": 11,
   "id": "7d2b5492",
   "metadata": {
    "scrolled": true
   },
   "outputs": [
    {
     "name": "stdout",
     "output_type": "stream",
     "text": [
      "iteration number: 1\n",
      "iteration number: 2\n",
      "iteration number: 3\n",
      "iteration number: 4\n",
      "iteration number: 5\n",
      "iteration number: 6\n",
      "iteration number: 7\n",
      "iteration number: 8\n",
      "iteration number: 9\n",
      "iteration number: 10\n"
     ]
    }
   ],
   "source": [
    "tor = ten_fold_validation(50)"
   ]
  },
  {
   "cell_type": "code",
   "execution_count": 12,
   "id": "0310ff44",
   "metadata": {},
   "outputs": [],
   "source": [
    "#import numpy as np\n",
    "#tor_array = np.asarray(tor)\n",
    "#print(tor_array)"
   ]
  },
  {
   "cell_type": "markdown",
   "id": "4de02f7b",
   "metadata": {},
   "source": [
    "## Sum up Results of 10-fold Validation"
   ]
  },
  {
   "cell_type": "code",
   "execution_count": 13,
   "id": "13d867b9",
   "metadata": {},
   "outputs": [],
   "source": [
    "def calc_average_results(tor, i):\n",
    "    spec_results = [iter_result[i] for iter_result in tor]\n",
    "    summed_up_result = []\n",
    "    for dim in range(0,7):\n",
    "        sum_ = 0\n",
    "        for ir in spec_results:\n",
    "            sum_ = sum_ + ir[dim]\n",
    "        summed_up_result.append(sum_/len(tor))\n",
    "    return summed_up_result\n",
    "\n",
    "def show_average_results(tor):\n",
    "    average_results_dict = {\"Levensthein_Similarity\": calc_average_results(tor, 0),\n",
    "           \"Jaro_Winkler_Similarity\": calc_average_results(tor, 1),\n",
    "           \"Dice_Coefficient_Similarity\": calc_average_results(tor, 2),\n",
    "           \"ILLOD\": calc_average_results(tor, 3),\n",
    "           \"ILLOD+_VariantA\": calc_average_results(tor, 4),\n",
    "           \"ILLOD+_VariantB\": calc_average_results(tor, 5)}\n",
    "\n",
    "    df = pd.DataFrame.from_dict(average_results_dict, orient=\"index\", columns=[\"#AEP_groups\", \"#found_abbs\", \n",
    "                                                                          \"#missed_abbs\", \"#matched_AEPs\", \n",
    "                                                                          \"size_of_AEPgroup\", \"cost-effectiveness\", \n",
    "                                                                          \"execution time\"])\n",
    "    display(df)"
   ]
  },
  {
   "cell_type": "code",
   "execution_count": 14,
   "id": "99bdc35f",
   "metadata": {},
   "outputs": [
    {
     "data": {
      "text/html": [
       "<div>\n",
       "<style scoped>\n",
       "    .dataframe tbody tr th:only-of-type {\n",
       "        vertical-align: middle;\n",
       "    }\n",
       "\n",
       "    .dataframe tbody tr th {\n",
       "        vertical-align: top;\n",
       "    }\n",
       "\n",
       "    .dataframe thead th {\n",
       "        text-align: right;\n",
       "    }\n",
       "</style>\n",
       "<table border=\"1\" class=\"dataframe\">\n",
       "  <thead>\n",
       "    <tr style=\"text-align: right;\">\n",
       "      <th></th>\n",
       "      <th>#AEP_groups</th>\n",
       "      <th>#found_abbs</th>\n",
       "      <th>#missed_abbs</th>\n",
       "      <th>#matched_AEPs</th>\n",
       "      <th>size_of_AEPgroup</th>\n",
       "      <th>cost-effectiveness</th>\n",
       "      <th>execution time</th>\n",
       "    </tr>\n",
       "  </thead>\n",
       "  <tbody>\n",
       "    <tr>\n",
       "      <th>Levensthein_Similarity</th>\n",
       "      <td>327.8</td>\n",
       "      <td>29.7</td>\n",
       "      <td>18.5</td>\n",
       "      <td>13.3</td>\n",
       "      <td>21.034361</td>\n",
       "      <td>1.699941</td>\n",
       "      <td>13.993170</td>\n",
       "    </tr>\n",
       "    <tr>\n",
       "      <th>Jaro_Winkler_Similarity</th>\n",
       "      <td>444.5</td>\n",
       "      <td>31.3</td>\n",
       "      <td>18.5</td>\n",
       "      <td>26.8</td>\n",
       "      <td>65.845314</td>\n",
       "      <td>2.471787</td>\n",
       "      <td>13.781164</td>\n",
       "    </tr>\n",
       "    <tr>\n",
       "      <th>Dice_Coefficient_Similarity</th>\n",
       "      <td>417.7</td>\n",
       "      <td>30.6</td>\n",
       "      <td>18.5</td>\n",
       "      <td>13.6</td>\n",
       "      <td>34.182596</td>\n",
       "      <td>2.714743</td>\n",
       "      <td>14.235075</td>\n",
       "    </tr>\n",
       "    <tr>\n",
       "      <th>ILLOD</th>\n",
       "      <td>340.0</td>\n",
       "      <td>31.3</td>\n",
       "      <td>18.5</td>\n",
       "      <td>28.0</td>\n",
       "      <td>13.490446</td>\n",
       "      <td>0.485819</td>\n",
       "      <td>2.234543</td>\n",
       "    </tr>\n",
       "    <tr>\n",
       "      <th>ILLOD+_VariantA</th>\n",
       "      <td>339.5</td>\n",
       "      <td>31.3</td>\n",
       "      <td>18.5</td>\n",
       "      <td>28.3</td>\n",
       "      <td>10.388843</td>\n",
       "      <td>0.370787</td>\n",
       "      <td>47.512191</td>\n",
       "    </tr>\n",
       "    <tr>\n",
       "      <th>ILLOD+_VariantB</th>\n",
       "      <td>337.5</td>\n",
       "      <td>31.3</td>\n",
       "      <td>18.5</td>\n",
       "      <td>19.7</td>\n",
       "      <td>7.937919</td>\n",
       "      <td>0.408637</td>\n",
       "      <td>53.892030</td>\n",
       "    </tr>\n",
       "  </tbody>\n",
       "</table>\n",
       "</div>"
      ],
      "text/plain": [
       "                             #AEP_groups  #found_abbs  #missed_abbs  \\\n",
       "Levensthein_Similarity             327.8         29.7          18.5   \n",
       "Jaro_Winkler_Similarity            444.5         31.3          18.5   \n",
       "Dice_Coefficient_Similarity        417.7         30.6          18.5   \n",
       "ILLOD                              340.0         31.3          18.5   \n",
       "ILLOD+_VariantA                    339.5         31.3          18.5   \n",
       "ILLOD+_VariantB                    337.5         31.3          18.5   \n",
       "\n",
       "                             #matched_AEPs  size_of_AEPgroup  \\\n",
       "Levensthein_Similarity                13.3         21.034361   \n",
       "Jaro_Winkler_Similarity               26.8         65.845314   \n",
       "Dice_Coefficient_Similarity           13.6         34.182596   \n",
       "ILLOD                                 28.0         13.490446   \n",
       "ILLOD+_VariantA                       28.3         10.388843   \n",
       "ILLOD+_VariantB                       19.7          7.937919   \n",
       "\n",
       "                             cost-effectiveness  execution time  \n",
       "Levensthein_Similarity                 1.699941       13.993170  \n",
       "Jaro_Winkler_Similarity                2.471787       13.781164  \n",
       "Dice_Coefficient_Similarity            2.714743       14.235075  \n",
       "ILLOD                                  0.485819        2.234543  \n",
       "ILLOD+_VariantA                        0.370787       47.512191  \n",
       "ILLOD+_VariantB                        0.408637       53.892030  "
      ]
     },
     "metadata": {},
     "output_type": "display_data"
    }
   ],
   "source": [
    "show_average_results(tor)"
   ]
  },
  {
   "cell_type": "markdown",
   "id": "9cd42116",
   "metadata": {},
   "source": [
    "### Show results for simple Validation with 100 abbreviations"
   ]
  },
  {
   "cell_type": "code",
   "execution_count": 15,
   "id": "4e78d834",
   "metadata": {},
   "outputs": [
    {
     "name": "stdout",
     "output_type": "stream",
     "text": [
      "iteration number: 1\n",
      "iteration number: 2\n",
      "iteration number: 3\n",
      "iteration number: 4\n",
      "iteration number: 5\n",
      "iteration number: 6\n",
      "iteration number: 7\n",
      "iteration number: 8\n",
      "iteration number: 9\n",
      "iteration number: 10\n"
     ]
    }
   ],
   "source": [
    "tor = ten_fold_validation(100)"
   ]
  },
  {
   "cell_type": "code",
   "execution_count": 16,
   "id": "5de78d6e",
   "metadata": {},
   "outputs": [
    {
     "data": {
      "text/html": [
       "<div>\n",
       "<style scoped>\n",
       "    .dataframe tbody tr th:only-of-type {\n",
       "        vertical-align: middle;\n",
       "    }\n",
       "\n",
       "    .dataframe tbody tr th {\n",
       "        vertical-align: top;\n",
       "    }\n",
       "\n",
       "    .dataframe thead th {\n",
       "        text-align: right;\n",
       "    }\n",
       "</style>\n",
       "<table border=\"1\" class=\"dataframe\">\n",
       "  <thead>\n",
       "    <tr style=\"text-align: right;\">\n",
       "      <th></th>\n",
       "      <th>#AEP_groups</th>\n",
       "      <th>#found_abbs</th>\n",
       "      <th>#missed_abbs</th>\n",
       "      <th>#matched_AEPs</th>\n",
       "      <th>size_of_AEPgroup</th>\n",
       "      <th>cost-effectiveness</th>\n",
       "      <th>execution time</th>\n",
       "    </tr>\n",
       "  </thead>\n",
       "  <tbody>\n",
       "    <tr>\n",
       "      <th>Levensthein_Similarity</th>\n",
       "      <td>364.7</td>\n",
       "      <td>66.4</td>\n",
       "      <td>29.7</td>\n",
       "      <td>28.9</td>\n",
       "      <td>21.279011</td>\n",
       "      <td>0.750977</td>\n",
       "      <td>14.682589</td>\n",
       "    </tr>\n",
       "    <tr>\n",
       "      <th>Jaro_Winkler_Similarity</th>\n",
       "      <td>486.6</td>\n",
       "      <td>70.1</td>\n",
       "      <td>29.7</td>\n",
       "      <td>60.0</td>\n",
       "      <td>67.561655</td>\n",
       "      <td>1.133635</td>\n",
       "      <td>14.559649</td>\n",
       "    </tr>\n",
       "    <tr>\n",
       "      <th>Dice_Coefficient_Similarity</th>\n",
       "      <td>458.7</td>\n",
       "      <td>69.2</td>\n",
       "      <td>29.7</td>\n",
       "      <td>29.4</td>\n",
       "      <td>34.830936</td>\n",
       "      <td>1.209134</td>\n",
       "      <td>14.888212</td>\n",
       "    </tr>\n",
       "    <tr>\n",
       "      <th>ILLOD</th>\n",
       "      <td>379.7</td>\n",
       "      <td>70.0</td>\n",
       "      <td>29.7</td>\n",
       "      <td>63.0</td>\n",
       "      <td>14.104010</td>\n",
       "      <td>0.224799</td>\n",
       "      <td>2.419981</td>\n",
       "    </tr>\n",
       "    <tr>\n",
       "      <th>ILLOD+_VariantA</th>\n",
       "      <td>378.7</td>\n",
       "      <td>70.0</td>\n",
       "      <td>29.7</td>\n",
       "      <td>65.4</td>\n",
       "      <td>10.838362</td>\n",
       "      <td>0.166489</td>\n",
       "      <td>49.219254</td>\n",
       "    </tr>\n",
       "    <tr>\n",
       "      <th>ILLOD+_VariantB</th>\n",
       "      <td>376.7</td>\n",
       "      <td>70.0</td>\n",
       "      <td>29.7</td>\n",
       "      <td>42.9</td>\n",
       "      <td>8.151518</td>\n",
       "      <td>0.191590</td>\n",
       "      <td>61.115925</td>\n",
       "    </tr>\n",
       "  </tbody>\n",
       "</table>\n",
       "</div>"
      ],
      "text/plain": [
       "                             #AEP_groups  #found_abbs  #missed_abbs  \\\n",
       "Levensthein_Similarity             364.7         66.4          29.7   \n",
       "Jaro_Winkler_Similarity            486.6         70.1          29.7   \n",
       "Dice_Coefficient_Similarity        458.7         69.2          29.7   \n",
       "ILLOD                              379.7         70.0          29.7   \n",
       "ILLOD+_VariantA                    378.7         70.0          29.7   \n",
       "ILLOD+_VariantB                    376.7         70.0          29.7   \n",
       "\n",
       "                             #matched_AEPs  size_of_AEPgroup  \\\n",
       "Levensthein_Similarity                28.9         21.279011   \n",
       "Jaro_Winkler_Similarity               60.0         67.561655   \n",
       "Dice_Coefficient_Similarity           29.4         34.830936   \n",
       "ILLOD                                 63.0         14.104010   \n",
       "ILLOD+_VariantA                       65.4         10.838362   \n",
       "ILLOD+_VariantB                       42.9          8.151518   \n",
       "\n",
       "                             cost-effectiveness  execution time  \n",
       "Levensthein_Similarity                 0.750977       14.682589  \n",
       "Jaro_Winkler_Similarity                1.133635       14.559649  \n",
       "Dice_Coefficient_Similarity            1.209134       14.888212  \n",
       "ILLOD                                  0.224799        2.419981  \n",
       "ILLOD+_VariantA                        0.166489       49.219254  \n",
       "ILLOD+_VariantB                        0.191590       61.115925  "
      ]
     },
     "metadata": {},
     "output_type": "display_data"
    }
   ],
   "source": [
    "show_average_results(tor)"
   ]
  }
 ],
 "metadata": {
  "kernelspec": {
   "display_name": "Python 3",
   "language": "python",
   "name": "python3"
  },
  "language_info": {
   "codemirror_mode": {
    "name": "ipython",
    "version": 3
   },
   "file_extension": ".py",
   "mimetype": "text/x-python",
   "name": "python",
   "nbconvert_exporter": "python",
   "pygments_lexer": "ipython3",
   "version": "3.8.5"
  }
 },
 "nbformat": 4,
 "nbformat_minor": 5
}
