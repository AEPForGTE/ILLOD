{
 "cells": [
  {
   "cell_type": "markdown",
   "id": "impaired-scholarship",
   "metadata": {},
   "source": [
    "# Comparison of the 3 different AEP-Detection Types"
   ]
  },
  {
   "cell_type": "code",
   "execution_count": 16,
   "id": "outdoor-first",
   "metadata": {},
   "outputs": [],
   "source": [
    "import pandas as pd\n",
    "import string\n",
    "import jellyfish\n",
    "import random\n",
    "import ILLOD\n",
    "import Function_Pool\n",
    "import ODIL"
   ]
  },
  {
   "cell_type": "code",
   "execution_count": 17,
   "id": "japanese-clothing",
   "metadata": {},
   "outputs": [],
   "source": [
    "data = pd.read_csv('abbr_db.CSV', names=['abbr', 'long_forms'], sep=';', encoding='utf8')\n",
    "abbreviations = list(data['abbr'].values)\n",
    "expansions = list(data['long_forms'].values)"
   ]
  },
  {
   "cell_type": "markdown",
   "id": "offshore-character",
   "metadata": {},
   "source": [
    "## Semantic Classifier based on fastText"
   ]
  },
  {
   "cell_type": "code",
   "execution_count": 18,
   "id": "earlier-nirvana",
   "metadata": {},
   "outputs": [
    {
     "name": "stderr",
     "output_type": "stream",
     "text": [
      "Warning : `load_model` does not return WordVectorModel or SupervisedModel any more, but a `FastText` object which is very similar.\n"
     ]
    }
   ],
   "source": [
    "import pandas as pd\n",
    "import fasttext\n",
    "import fasttext.util\n",
    "from scipy import spatial\n",
    "# fasttext.util.download_model('en', if_exists='ignore')\n",
    "ft = fasttext.load_model(\"cc.en.300.bin\")\n",
    "\n",
    "\n",
    "def fast_text_similarity(a, t, threshold):  \n",
    "    a_v = ft.get_sentence_vector(a)\n",
    "    t_v = ft.get_sentence_vector(t)\n",
    "    if 1 - spatial.distance.cosine(a_v, t_v) >= threshold:\n",
    "        return True\n",
    "    else:\n",
    "        return False\n",
    "\n",
    "    \n",
    "def fast_text_sim(a, t):\n",
    "    a_v = ft.get_sentence_vector(a)\n",
    "    t_v = ft.get_sentence_vector(t)\n",
    "    return 1 - spatial.distance.cosine(a_v, t_v)"
   ]
  },
  {
   "cell_type": "markdown",
   "id": "intimate-pound",
   "metadata": {},
   "source": [
    "## Cardinality of S"
   ]
  },
  {
   "cell_type": "code",
   "execution_count": 19,
   "id": "increased-ballet",
   "metadata": {},
   "outputs": [
    {
     "name": "stdout",
     "output_type": "stream",
     "text": [
      "2710125\n"
     ]
    }
   ],
   "source": [
    "# construction and cardinality of S:\n",
    "S = set()\n",
    "for i, abb in enumerate(abbreviations):\n",
    "    for j, exp in enumerate (expansions):\n",
    "        if abb != abbreviations[j]:\n",
    "            S.add((abb, exp))\n",
    "print(len(S))"
   ]
  },
  {
   "cell_type": "markdown",
   "id": "liberal-supervisor",
   "metadata": {},
   "source": [
    "# Evaluation of the 3 different AEP-Detection Types (Section 5.4)"
   ]
  },
  {
   "cell_type": "code",
   "execution_count": 20,
   "id": "cleared-constant",
   "metadata": {},
   "outputs": [],
   "source": [
    "def find_and_count_false_negatives(algo, threshold):\n",
    "    FN = 0\n",
    "    for i, abb in enumerate(abbreviations):\n",
    "        if not algo(abb, expansions[i], threshold):\n",
    "            # print(\"\\\"\"+abb+\"\\\"\"+\", \"+\"\\\"\"+expansions[i]+\"\\\"\")\n",
    "            FN += 1\n",
    "    return FN, str(FN) + \" FALSE NEGATIVES. Pairs that could not be detected out of \" + str(len(abbreviations)) + \" given pairs\""
   ]
  },
  {
   "cell_type": "code",
   "execution_count": 21,
   "id": "changed-poker",
   "metadata": {},
   "outputs": [],
   "source": [
    "def find_and_count_false_positives(algo, threshold, alpha):\n",
    "    test_set = []\n",
    "    while len(test_set) <= alpha * len(abbreviations):\n",
    "        rd1 = random.randint(0, len(abbreviations)-1)\n",
    "        rd2 = random.randint(0, len(abbreviations)-1)\n",
    "        if abbreviations[rd1] != abbreviations[rd2]:\n",
    "            test_set.append ((abbreviations[rd1], expansions[rd2]))\n",
    "            \n",
    "    count_of_false_examples = 0\n",
    "    FP = 0\n",
    "    for j, tup in enumerate (test_set): \n",
    "        if algo(tup[0], tup[1], threshold):\n",
    "            count_of_false_examples += 1\n",
    "            FP +=1\n",
    "    return FP, str(FP) + \" FALSE POSITIVE detections out of \" +  str(len(test_set)) + \" created false examples\""
   ]
  },
  {
   "cell_type": "code",
   "execution_count": 22,
   "id": "flush-softball",
   "metadata": {},
   "outputs": [],
   "source": [
    "def determine_quality_parameters(alpha, algo, search_space_for_F1_optimization):\n",
    "    max_f1 = 0\n",
    "    best_values = []\n",
    "    for th_ in search_space_for_F1_optimization:\n",
    "        result_on_L = find_and_count_false_negatives(algo, th_)\n",
    "        result_on_S = find_and_count_false_positives(algo, th_, alpha)\n",
    "        FN = result_on_L[0]\n",
    "        FP = result_on_S[0]\n",
    "        TP = len(abbreviations) - FN\n",
    "        \n",
    "        # A classifier that does nothing is not useful. This serves to avoid a division by zero    \n",
    "        if FP + TP == 0:\n",
    "            precision = 0\n",
    "            recall = 0\n",
    "            f1 = 0\n",
    "        else:\n",
    "            precision = TP/(TP + FP)\n",
    "            recall = TP/(TP + FN)\n",
    "            f1 = (2*precision*recall)/(precision+recall)\n",
    "            \n",
    "        # memorise the best F1 value in the loop so far.       \n",
    "        if f1 > max_f1:\n",
    "            best_values = [th_, precision, recall, f1]\n",
    "            max_f1 = f1\n",
    "    return best_values"
   ]
  },
  {
   "cell_type": "code",
   "execution_count": 23,
   "id": "applicable-portrait",
   "metadata": {},
   "outputs": [],
   "source": [
    "def evaluate_algorithm (algorithm, F1_optimization_search_space):\n",
    "    eval_data = {}\n",
    "    for alpha in [4, 8, 11, 14, 28, 42]:\n",
    "        max_f1 = 0\n",
    "        best_values = []     \n",
    "        eval_data[alpha] = determine_quality_parameters(alpha, algorithm, F1_optimization_search_space)\n",
    "    return eval_data"
   ]
  },
  {
   "cell_type": "code",
   "execution_count": 24,
   "id": "revised-thompson",
   "metadata": {},
   "outputs": [],
   "source": [
    "step_list = [h/100 for h in list(range(0,100))]"
   ]
  },
  {
   "cell_type": "code",
   "execution_count": 25,
   "id": "burning-upper",
   "metadata": {
    "scrolled": false
   },
   "outputs": [
    {
     "name": "stderr",
     "output_type": "stream",
     "text": [
      "/home/hussein/anaconda3/lib/python3.9/site-packages/scipy/spatial/distance.py:699: RuntimeWarning: invalid value encountered in float_scalars\n",
      "  dist = 1.0 - uv / np.sqrt(uu * vv)\n"
     ]
    },
    {
     "data": {
      "text/html": [
       "<div>\n",
       "<style scoped>\n",
       "    .dataframe tbody tr th:only-of-type {\n",
       "        vertical-align: middle;\n",
       "    }\n",
       "\n",
       "    .dataframe tbody tr th {\n",
       "        vertical-align: top;\n",
       "    }\n",
       "\n",
       "    .dataframe thead th {\n",
       "        text-align: right;\n",
       "    }\n",
       "</style>\n",
       "<table border=\"1\" class=\"dataframe\">\n",
       "  <thead>\n",
       "    <tr style=\"text-align: right;\">\n",
       "      <th></th>\n",
       "      <th>4</th>\n",
       "      <th>8</th>\n",
       "      <th>11</th>\n",
       "      <th>14</th>\n",
       "      <th>28</th>\n",
       "      <th>42</th>\n",
       "    </tr>\n",
       "  </thead>\n",
       "  <tbody>\n",
       "    <tr>\n",
       "      <th>threshold</th>\n",
       "      <td>0.250000</td>\n",
       "      <td>0.280000</td>\n",
       "      <td>0.280000</td>\n",
       "      <td>0.310000</td>\n",
       "      <td>0.330000</td>\n",
       "      <td>0.330000</td>\n",
       "    </tr>\n",
       "    <tr>\n",
       "      <th>precision</th>\n",
       "      <td>0.694263</td>\n",
       "      <td>0.639973</td>\n",
       "      <td>0.591398</td>\n",
       "      <td>0.631994</td>\n",
       "      <td>0.527097</td>\n",
       "      <td>0.439356</td>\n",
       "    </tr>\n",
       "    <tr>\n",
       "      <th>recall</th>\n",
       "      <td>0.596305</td>\n",
       "      <td>0.523516</td>\n",
       "      <td>0.523516</td>\n",
       "      <td>0.449048</td>\n",
       "      <td>0.397536</td>\n",
       "      <td>0.397536</td>\n",
       "    </tr>\n",
       "    <tr>\n",
       "      <th>F1</th>\n",
       "      <td>0.641566</td>\n",
       "      <td>0.575916</td>\n",
       "      <td>0.555391</td>\n",
       "      <td>0.525041</td>\n",
       "      <td>0.453240</td>\n",
       "      <td>0.417402</td>\n",
       "    </tr>\n",
       "  </tbody>\n",
       "</table>\n",
       "</div>"
      ],
      "text/plain": [
       "                 4         8         11        14        28        42\n",
       "threshold  0.250000  0.280000  0.280000  0.310000  0.330000  0.330000\n",
       "precision  0.694263  0.639973  0.591398  0.631994  0.527097  0.439356\n",
       "recall     0.596305  0.523516  0.523516  0.449048  0.397536  0.397536\n",
       "F1         0.641566  0.575916  0.555391  0.525041  0.453240  0.417402"
      ]
     },
     "execution_count": 25,
     "metadata": {},
     "output_type": "execute_result"
    }
   ],
   "source": [
    "# FT (FASTTEXT)\n",
    "pd.DataFrame.from_dict(evaluate_algorithm (fast_text_similarity, step_list), orient=\"index\", columns=[\"threshold\", \"precision\", \"recall\", \"F1\"]).T"
   ]
  },
  {
   "cell_type": "code",
   "execution_count": 26,
   "id": "collect-relation",
   "metadata": {
    "scrolled": true
   },
   "outputs": [
    {
     "data": {
      "text/html": [
       "<div>\n",
       "<style scoped>\n",
       "    .dataframe tbody tr th:only-of-type {\n",
       "        vertical-align: middle;\n",
       "    }\n",
       "\n",
       "    .dataframe tbody tr th {\n",
       "        vertical-align: top;\n",
       "    }\n",
       "\n",
       "    .dataframe thead th {\n",
       "        text-align: right;\n",
       "    }\n",
       "</style>\n",
       "<table border=\"1\" class=\"dataframe\">\n",
       "  <thead>\n",
       "    <tr style=\"text-align: right;\">\n",
       "      <th></th>\n",
       "      <th>4</th>\n",
       "      <th>8</th>\n",
       "      <th>11</th>\n",
       "      <th>14</th>\n",
       "      <th>28</th>\n",
       "      <th>42</th>\n",
       "    </tr>\n",
       "  </thead>\n",
       "  <tbody>\n",
       "    <tr>\n",
       "      <th>threshold</th>\n",
       "      <td>0.400000</td>\n",
       "      <td>0.570000</td>\n",
       "      <td>0.510000</td>\n",
       "      <td>0.560000</td>\n",
       "      <td>0.540000</td>\n",
       "      <td>0.510000</td>\n",
       "    </tr>\n",
       "    <tr>\n",
       "      <th>precision</th>\n",
       "      <td>0.910983</td>\n",
       "      <td>0.954795</td>\n",
       "      <td>0.937500</td>\n",
       "      <td>0.926862</td>\n",
       "      <td>0.851129</td>\n",
       "      <td>0.800344</td>\n",
       "    </tr>\n",
       "    <tr>\n",
       "      <th>recall</th>\n",
       "      <td>0.882419</td>\n",
       "      <td>0.780515</td>\n",
       "      <td>0.781075</td>\n",
       "      <td>0.780515</td>\n",
       "      <td>0.781075</td>\n",
       "      <td>0.781075</td>\n",
       "    </tr>\n",
       "    <tr>\n",
       "      <th>F1</th>\n",
       "      <td>0.896473</td>\n",
       "      <td>0.858903</td>\n",
       "      <td>0.852169</td>\n",
       "      <td>0.847416</td>\n",
       "      <td>0.814599</td>\n",
       "      <td>0.790592</td>\n",
       "    </tr>\n",
       "  </tbody>\n",
       "</table>\n",
       "</div>"
      ],
      "text/plain": [
       "                 4         8         11        14        28        42\n",
       "threshold  0.400000  0.570000  0.510000  0.560000  0.540000  0.510000\n",
       "precision  0.910983  0.954795  0.937500  0.926862  0.851129  0.800344\n",
       "recall     0.882419  0.780515  0.781075  0.780515  0.781075  0.781075\n",
       "F1         0.896473  0.858903  0.852169  0.847416  0.814599  0.790592"
      ]
     },
     "execution_count": 26,
     "metadata": {},
     "output_type": "execute_result"
    }
   ],
   "source": [
    "# LD (LEVENSHTEIN-DISTANCE)\n",
    "pd.DataFrame.from_dict(evaluate_algorithm (Function_Pool.levensthein_similarity_on_reduction_of_expansion, step_list), orient=\"index\", columns=[\"threshold\", \"precision\", \"recall\", \"F1\"]).T"
   ]
  },
  {
   "cell_type": "code",
   "execution_count": 27,
   "id": "lightweight-peter",
   "metadata": {},
   "outputs": [
    {
     "data": {
      "text/html": [
       "<div>\n",
       "<style scoped>\n",
       "    .dataframe tbody tr th:only-of-type {\n",
       "        vertical-align: middle;\n",
       "    }\n",
       "\n",
       "    .dataframe tbody tr th {\n",
       "        vertical-align: top;\n",
       "    }\n",
       "\n",
       "    .dataframe thead th {\n",
       "        text-align: right;\n",
       "    }\n",
       "</style>\n",
       "<table border=\"1\" class=\"dataframe\">\n",
       "  <thead>\n",
       "    <tr style=\"text-align: right;\">\n",
       "      <th></th>\n",
       "      <th>4</th>\n",
       "      <th>8</th>\n",
       "      <th>11</th>\n",
       "      <th>14</th>\n",
       "      <th>28</th>\n",
       "      <th>42</th>\n",
       "    </tr>\n",
       "  </thead>\n",
       "  <tbody>\n",
       "    <tr>\n",
       "      <th>threshold</th>\n",
       "      <td>0.760000</td>\n",
       "      <td>0.770000</td>\n",
       "      <td>0.780000</td>\n",
       "      <td>0.780000</td>\n",
       "      <td>0.840000</td>\n",
       "      <td>0.840000</td>\n",
       "    </tr>\n",
       "    <tr>\n",
       "      <th>precision</th>\n",
       "      <td>0.948829</td>\n",
       "      <td>0.903607</td>\n",
       "      <td>0.908039</td>\n",
       "      <td>0.886972</td>\n",
       "      <td>0.915768</td>\n",
       "      <td>0.867262</td>\n",
       "    </tr>\n",
       "    <tr>\n",
       "      <th>recall</th>\n",
       "      <td>0.861702</td>\n",
       "      <td>0.855543</td>\n",
       "      <td>0.834826</td>\n",
       "      <td>0.834826</td>\n",
       "      <td>0.760918</td>\n",
       "      <td>0.760918</td>\n",
       "    </tr>\n",
       "    <tr>\n",
       "      <th>F1</th>\n",
       "      <td>0.903169</td>\n",
       "      <td>0.878919</td>\n",
       "      <td>0.869895</td>\n",
       "      <td>0.860110</td>\n",
       "      <td>0.831193</td>\n",
       "      <td>0.810617</td>\n",
       "    </tr>\n",
       "  </tbody>\n",
       "</table>\n",
       "</div>"
      ],
      "text/plain": [
       "                 4         8         11        14        28        42\n",
       "threshold  0.760000  0.770000  0.780000  0.780000  0.840000  0.840000\n",
       "precision  0.948829  0.903607  0.908039  0.886972  0.915768  0.867262\n",
       "recall     0.861702  0.855543  0.834826  0.834826  0.760918  0.760918\n",
       "F1         0.903169  0.878919  0.869895  0.860110  0.831193  0.810617"
      ]
     },
     "execution_count": 27,
     "metadata": {},
     "output_type": "execute_result"
    }
   ],
   "source": [
    "# JWS (JARO-WINKLER-SIMILARITY)\n",
    "pd.DataFrame.from_dict(evaluate_algorithm (Function_Pool.jaro_winkler_similarity_on_reduction_of_expansion, step_list), orient=\"index\", columns=[\"threshold\", \"precision\", \"recall\", \"F1\"]).T"
   ]
  },
  {
   "cell_type": "code",
   "execution_count": 28,
   "id": "boolean-latin",
   "metadata": {
    "scrolled": true
   },
   "outputs": [
    {
     "data": {
      "text/html": [
       "<div>\n",
       "<style scoped>\n",
       "    .dataframe tbody tr th:only-of-type {\n",
       "        vertical-align: middle;\n",
       "    }\n",
       "\n",
       "    .dataframe tbody tr th {\n",
       "        vertical-align: top;\n",
       "    }\n",
       "\n",
       "    .dataframe thead th {\n",
       "        text-align: right;\n",
       "    }\n",
       "</style>\n",
       "<table border=\"1\" class=\"dataframe\">\n",
       "  <thead>\n",
       "    <tr style=\"text-align: right;\">\n",
       "      <th></th>\n",
       "      <th>4</th>\n",
       "      <th>8</th>\n",
       "      <th>11</th>\n",
       "      <th>14</th>\n",
       "      <th>28</th>\n",
       "      <th>42</th>\n",
       "    </tr>\n",
       "  </thead>\n",
       "  <tbody>\n",
       "    <tr>\n",
       "      <th>threshold</th>\n",
       "      <td>0.610000</td>\n",
       "      <td>0.720000</td>\n",
       "      <td>0.720000</td>\n",
       "      <td>0.740000</td>\n",
       "      <td>0.800000</td>\n",
       "      <td>0.810000</td>\n",
       "    </tr>\n",
       "    <tr>\n",
       "      <th>precision</th>\n",
       "      <td>0.882653</td>\n",
       "      <td>0.923333</td>\n",
       "      <td>0.898767</td>\n",
       "      <td>0.875713</td>\n",
       "      <td>0.793790</td>\n",
       "      <td>0.890160</td>\n",
       "    </tr>\n",
       "    <tr>\n",
       "      <th>recall</th>\n",
       "      <td>0.871781</td>\n",
       "      <td>0.775476</td>\n",
       "      <td>0.775476</td>\n",
       "      <td>0.773236</td>\n",
       "      <td>0.758679</td>\n",
       "      <td>0.653415</td>\n",
       "    </tr>\n",
       "    <tr>\n",
       "      <th>F1</th>\n",
       "      <td>0.877183</td>\n",
       "      <td>0.842970</td>\n",
       "      <td>0.832582</td>\n",
       "      <td>0.821291</td>\n",
       "      <td>0.775837</td>\n",
       "      <td>0.753633</td>\n",
       "    </tr>\n",
       "  </tbody>\n",
       "</table>\n",
       "</div>"
      ],
      "text/plain": [
       "                 4         8         11        14        28        42\n",
       "threshold  0.610000  0.720000  0.720000  0.740000  0.800000  0.810000\n",
       "precision  0.882653  0.923333  0.898767  0.875713  0.793790  0.890160\n",
       "recall     0.871781  0.775476  0.775476  0.773236  0.758679  0.653415\n",
       "F1         0.877183  0.842970  0.832582  0.821291  0.775837  0.753633"
      ]
     },
     "execution_count": 28,
     "metadata": {},
     "output_type": "execute_result"
    }
   ],
   "source": [
    "# DC (DICE-COEFFICIENT)\n",
    "pd.DataFrame.from_dict(evaluate_algorithm (Function_Pool.dice_coefficient_on_reduction_of_expansion , step_list), orient=\"index\", columns=[\"threshold\", \"precision\", \"recall\", \"F1\"]).T"
   ]
  },
  {
   "cell_type": "code",
   "execution_count": 29,
   "id": "330a9774",
   "metadata": {},
   "outputs": [
    {
     "data": {
      "text/html": [
       "<div>\n",
       "<style scoped>\n",
       "    .dataframe tbody tr th:only-of-type {\n",
       "        vertical-align: middle;\n",
       "    }\n",
       "\n",
       "    .dataframe tbody tr th {\n",
       "        vertical-align: top;\n",
       "    }\n",
       "\n",
       "    .dataframe thead th {\n",
       "        text-align: right;\n",
       "    }\n",
       "</style>\n",
       "<table border=\"1\" class=\"dataframe\">\n",
       "  <thead>\n",
       "    <tr style=\"text-align: right;\">\n",
       "      <th></th>\n",
       "      <th>4</th>\n",
       "      <th>8</th>\n",
       "      <th>11</th>\n",
       "      <th>14</th>\n",
       "      <th>28</th>\n",
       "      <th>42</th>\n",
       "    </tr>\n",
       "  </thead>\n",
       "  <tbody>\n",
       "    <tr>\n",
       "      <th>threshold</th>\n",
       "      <td>-1.000000</td>\n",
       "      <td>-1.000000</td>\n",
       "      <td>-1.000000</td>\n",
       "      <td>-1.000000</td>\n",
       "      <td>-1.000000</td>\n",
       "      <td>-1.000000</td>\n",
       "    </tr>\n",
       "    <tr>\n",
       "      <th>precision</th>\n",
       "      <td>0.992092</td>\n",
       "      <td>0.987886</td>\n",
       "      <td>0.984309</td>\n",
       "      <td>0.971412</td>\n",
       "      <td>0.955477</td>\n",
       "      <td>0.943320</td>\n",
       "    </tr>\n",
       "    <tr>\n",
       "      <th>recall</th>\n",
       "      <td>0.913214</td>\n",
       "      <td>0.913214</td>\n",
       "      <td>0.913214</td>\n",
       "      <td>0.913214</td>\n",
       "      <td>0.913214</td>\n",
       "      <td>0.913214</td>\n",
       "    </tr>\n",
       "    <tr>\n",
       "      <th>F1</th>\n",
       "      <td>0.951020</td>\n",
       "      <td>0.949084</td>\n",
       "      <td>0.947430</td>\n",
       "      <td>0.941414</td>\n",
       "      <td>0.933868</td>\n",
       "      <td>0.928023</td>\n",
       "    </tr>\n",
       "  </tbody>\n",
       "</table>\n",
       "</div>"
      ],
      "text/plain": [
       "                 4         8         11        14        28        42\n",
       "threshold -1.000000 -1.000000 -1.000000 -1.000000 -1.000000 -1.000000\n",
       "precision  0.992092  0.987886  0.984309  0.971412  0.955477  0.943320\n",
       "recall     0.913214  0.913214  0.913214  0.913214  0.913214  0.913214\n",
       "F1         0.951020  0.949084  0.947430  0.941414  0.933868  0.928023"
      ]
     },
     "execution_count": 29,
     "metadata": {},
     "output_type": "execute_result"
    }
   ],
   "source": [
    "# ILLOD\n",
    "pd.DataFrame.from_dict(evaluate_algorithm (ILLOD.illod, [-1]), orient=\"index\", columns=[\"threshold\", \"precision\", \"recall\", \"F1\"]).T"
   ]
  },
  {
   "cell_type": "code",
   "execution_count": 30,
   "id": "3d2e5ac4",
   "metadata": {},
   "outputs": [
    {
     "data": {
      "text/html": [
       "<div>\n",
       "<style scoped>\n",
       "    .dataframe tbody tr th:only-of-type {\n",
       "        vertical-align: middle;\n",
       "    }\n",
       "\n",
       "    .dataframe tbody tr th {\n",
       "        vertical-align: top;\n",
       "    }\n",
       "\n",
       "    .dataframe thead th {\n",
       "        text-align: right;\n",
       "    }\n",
       "</style>\n",
       "<table border=\"1\" class=\"dataframe\">\n",
       "  <thead>\n",
       "    <tr style=\"text-align: right;\">\n",
       "      <th></th>\n",
       "      <th>4</th>\n",
       "      <th>8</th>\n",
       "      <th>11</th>\n",
       "      <th>14</th>\n",
       "      <th>28</th>\n",
       "      <th>42</th>\n",
       "    </tr>\n",
       "  </thead>\n",
       "  <tbody>\n",
       "    <tr>\n",
       "      <th>threshold</th>\n",
       "      <td>-1.000000</td>\n",
       "      <td>-1.000000</td>\n",
       "      <td>-1.000000</td>\n",
       "      <td>-1.000000</td>\n",
       "      <td>-1.000000</td>\n",
       "      <td>-1.000000</td>\n",
       "    </tr>\n",
       "    <tr>\n",
       "      <th>precision</th>\n",
       "      <td>0.997639</td>\n",
       "      <td>0.995289</td>\n",
       "      <td>0.989461</td>\n",
       "      <td>0.983702</td>\n",
       "      <td>0.977444</td>\n",
       "      <td>0.966819</td>\n",
       "    </tr>\n",
       "    <tr>\n",
       "      <th>recall</th>\n",
       "      <td>0.946249</td>\n",
       "      <td>0.946249</td>\n",
       "      <td>0.946249</td>\n",
       "      <td>0.946249</td>\n",
       "      <td>0.946249</td>\n",
       "      <td>0.946249</td>\n",
       "    </tr>\n",
       "    <tr>\n",
       "      <th>F1</th>\n",
       "      <td>0.971264</td>\n",
       "      <td>0.970149</td>\n",
       "      <td>0.967373</td>\n",
       "      <td>0.964612</td>\n",
       "      <td>0.961593</td>\n",
       "      <td>0.956423</td>\n",
       "    </tr>\n",
       "  </tbody>\n",
       "</table>\n",
       "</div>"
      ],
      "text/plain": [
       "                 4         8         11        14        28        42\n",
       "threshold -1.000000 -1.000000 -1.000000 -1.000000 -1.000000 -1.000000\n",
       "precision  0.997639  0.995289  0.989461  0.983702  0.977444  0.966819\n",
       "recall     0.946249  0.946249  0.946249  0.946249  0.946249  0.946249\n",
       "F1         0.971264  0.970149  0.967373  0.964612  0.961593  0.956423"
      ]
     },
     "execution_count": 30,
     "metadata": {},
     "output_type": "execute_result"
    }
   ],
   "source": [
    "# ILLOD+(VariantA)\n",
    "pd.DataFrame.from_dict(evaluate_algorithm (Function_Pool.illod_plus, [-1]), orient=\"index\", columns=[\"threshold\", \"precision\", \"recall\", \"F1\"]).T"
   ]
  },
  {
   "cell_type": "code",
   "execution_count": 31,
   "id": "czech-metadata",
   "metadata": {
    "scrolled": false
   },
   "outputs": [
    {
     "data": {
      "text/html": [
       "<div>\n",
       "<style scoped>\n",
       "    .dataframe tbody tr th:only-of-type {\n",
       "        vertical-align: middle;\n",
       "    }\n",
       "\n",
       "    .dataframe tbody tr th {\n",
       "        vertical-align: top;\n",
       "    }\n",
       "\n",
       "    .dataframe thead th {\n",
       "        text-align: right;\n",
       "    }\n",
       "</style>\n",
       "<table border=\"1\" class=\"dataframe\">\n",
       "  <thead>\n",
       "    <tr style=\"text-align: right;\">\n",
       "      <th></th>\n",
       "      <th>4</th>\n",
       "      <th>8</th>\n",
       "      <th>11</th>\n",
       "      <th>14</th>\n",
       "      <th>28</th>\n",
       "      <th>42</th>\n",
       "    </tr>\n",
       "  </thead>\n",
       "  <tbody>\n",
       "    <tr>\n",
       "      <th>threshold</th>\n",
       "      <td>-2.000000</td>\n",
       "      <td>-2.000000</td>\n",
       "      <td>-2.000000</td>\n",
       "      <td>-2.000000</td>\n",
       "      <td>-2.000000</td>\n",
       "      <td>-2.000000</td>\n",
       "    </tr>\n",
       "    <tr>\n",
       "      <th>precision</th>\n",
       "      <td>0.996303</td>\n",
       "      <td>0.995690</td>\n",
       "      <td>0.992634</td>\n",
       "      <td>0.991416</td>\n",
       "      <td>0.977039</td>\n",
       "      <td>0.964797</td>\n",
       "    </tr>\n",
       "    <tr>\n",
       "      <th>recall</th>\n",
       "      <td>0.905375</td>\n",
       "      <td>0.905375</td>\n",
       "      <td>0.905375</td>\n",
       "      <td>0.905375</td>\n",
       "      <td>0.905375</td>\n",
       "      <td>0.905375</td>\n",
       "    </tr>\n",
       "    <tr>\n",
       "      <th>F1</th>\n",
       "      <td>0.948665</td>\n",
       "      <td>0.948387</td>\n",
       "      <td>0.946999</td>\n",
       "      <td>0.946444</td>\n",
       "      <td>0.939843</td>\n",
       "      <td>0.934142</td>\n",
       "    </tr>\n",
       "  </tbody>\n",
       "</table>\n",
       "</div>"
      ],
      "text/plain": [
       "                 4         8         11        14        28        42\n",
       "threshold -2.000000 -2.000000 -2.000000 -2.000000 -2.000000 -2.000000\n",
       "precision  0.996303  0.995690  0.992634  0.991416  0.977039  0.964797\n",
       "recall     0.905375  0.905375  0.905375  0.905375  0.905375  0.905375\n",
       "F1         0.948665  0.948387  0.946999  0.946444  0.939843  0.934142"
      ]
     },
     "execution_count": 31,
     "metadata": {},
     "output_type": "execute_result"
    }
   ],
   "source": [
    "# ILLOD+(VariantB)\n",
    "pd.DataFrame.from_dict(evaluate_algorithm (Function_Pool.illod_plus, [-2]), orient=\"index\", columns=[\"threshold\", \"precision\", \"recall\", \"F1\"]).T"
   ]
  },
  {
   "cell_type": "code",
   "execution_count": 32,
   "id": "5cd3d45a",
   "metadata": {
    "scrolled": true
   },
   "outputs": [
    {
     "data": {
      "text/html": [
       "<div>\n",
       "<style scoped>\n",
       "    .dataframe tbody tr th:only-of-type {\n",
       "        vertical-align: middle;\n",
       "    }\n",
       "\n",
       "    .dataframe tbody tr th {\n",
       "        vertical-align: top;\n",
       "    }\n",
       "\n",
       "    .dataframe thead th {\n",
       "        text-align: right;\n",
       "    }\n",
       "</style>\n",
       "<table border=\"1\" class=\"dataframe\">\n",
       "  <thead>\n",
       "    <tr style=\"text-align: right;\">\n",
       "      <th></th>\n",
       "      <th>4</th>\n",
       "      <th>8</th>\n",
       "      <th>11</th>\n",
       "      <th>14</th>\n",
       "      <th>28</th>\n",
       "      <th>42</th>\n",
       "    </tr>\n",
       "  </thead>\n",
       "  <tbody>\n",
       "    <tr>\n",
       "      <th>threshold</th>\n",
       "      <td>-2.000000</td>\n",
       "      <td>-2.000000</td>\n",
       "      <td>-2.000000</td>\n",
       "      <td>-2.000000</td>\n",
       "      <td>-2.000000</td>\n",
       "      <td>-2.000000</td>\n",
       "    </tr>\n",
       "    <tr>\n",
       "      <th>precision</th>\n",
       "      <td>0.996429</td>\n",
       "      <td>0.988777</td>\n",
       "      <td>0.990533</td>\n",
       "      <td>0.985866</td>\n",
       "      <td>0.965955</td>\n",
       "      <td>0.954390</td>\n",
       "    </tr>\n",
       "    <tr>\n",
       "      <th>recall</th>\n",
       "      <td>0.937290</td>\n",
       "      <td>0.937290</td>\n",
       "      <td>0.937290</td>\n",
       "      <td>0.937290</td>\n",
       "      <td>0.937290</td>\n",
       "      <td>0.937290</td>\n",
       "    </tr>\n",
       "    <tr>\n",
       "      <th>F1</th>\n",
       "      <td>0.965955</td>\n",
       "      <td>0.962346</td>\n",
       "      <td>0.963176</td>\n",
       "      <td>0.960964</td>\n",
       "      <td>0.951407</td>\n",
       "      <td>0.945763</td>\n",
       "    </tr>\n",
       "  </tbody>\n",
       "</table>\n",
       "</div>"
      ],
      "text/plain": [
       "                 4         8         11        14        28        42\n",
       "threshold -2.000000 -2.000000 -2.000000 -2.000000 -2.000000 -2.000000\n",
       "precision  0.996429  0.988777  0.990533  0.985866  0.965955  0.954390\n",
       "recall     0.937290  0.937290  0.937290  0.937290  0.937290  0.937290\n",
       "F1         0.965955  0.962346  0.963176  0.960964  0.951407  0.945763"
      ]
     },
     "execution_count": 32,
     "metadata": {},
     "output_type": "execute_result"
    }
   ],
   "source": [
    "# ODIL\n",
    "pd.DataFrame.from_dict(evaluate_algorithm (ODIL.illod_plus, [-2]), orient=\"index\", columns=[\"threshold\", \"precision\", \"recall\", \"F1\"]).T"
   ]
  }
 ],
 "metadata": {
  "kernelspec": {
   "display_name": "Python 3 (ipykernel)",
   "language": "python",
   "name": "python3"
  },
  "language_info": {
   "codemirror_mode": {
    "name": "ipython",
    "version": 3
   },
   "file_extension": ".py",
   "mimetype": "text/x-python",
   "name": "python",
   "nbconvert_exporter": "python",
   "pygments_lexer": "ipython3",
   "version": "3.8.13"
  }
 },
 "nbformat": 4,
 "nbformat_minor": 5
}
