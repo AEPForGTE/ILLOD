{
 "cells": [
  {
   "cell_type": "markdown",
   "id": "impaired-scholarship",
   "metadata": {},
   "source": [
    "# Comparison of the 3 different AEP-Detection Types"
   ]
  },
  {
   "cell_type": "code",
   "execution_count": 1,
   "id": "outdoor-first",
   "metadata": {},
   "outputs": [],
   "source": [
    "import pandas as pd\n",
    "import string\n",
    "import jellyfish\n",
    "import random\n",
    "import ILLOD\n",
    "import Function_Pool\n",
    "import ODIL"
   ]
  },
  {
   "cell_type": "code",
   "execution_count": 2,
   "id": "japanese-clothing",
   "metadata": {},
   "outputs": [],
   "source": [
    "data = pd.read_csv('abbr_db.CSV', names=['abbr', 'long_forms'], sep=';', encoding='utf8')\n",
    "abbreviations = list(data['abbr'].values)\n",
    "expansions = list(data['long_forms'].values)"
   ]
  },
  {
   "cell_type": "markdown",
   "id": "offshore-character",
   "metadata": {},
   "source": [
    "## Semantic Classifier based on fastText"
   ]
  },
  {
   "cell_type": "code",
   "execution_count": 3,
   "id": "earlier-nirvana",
   "metadata": {},
   "outputs": [
    {
     "name": "stderr",
     "output_type": "stream",
     "text": [
      "Warning : `load_model` does not return WordVectorModel or SupervisedModel any more, but a `FastText` object which is very similar.\n"
     ]
    }
   ],
   "source": [
    "import pandas as pd\n",
    "import fasttext\n",
    "import fasttext.util\n",
    "from scipy import spatial\n",
    "# fasttext.util.download_model('en', if_exists='ignore')\n",
    "ft = fasttext.load_model(\"cc.en.300.bin\")\n",
    "\n",
    "\n",
    "def fast_text_similarity(a, t, threshold):  \n",
    "    a_v = ft.get_sentence_vector(a)\n",
    "    t_v = ft.get_sentence_vector(t)\n",
    "    if 1 - spatial.distance.cosine(a_v, t_v) >= threshold:\n",
    "        return True\n",
    "    else:\n",
    "        return False\n",
    "\n",
    "    \n",
    "def fast_text_sim(a, t):\n",
    "    a_v = ft.get_sentence_vector(a)\n",
    "    t_v = ft.get_sentence_vector(t)\n",
    "    return 1 - spatial.distance.cosine(a_v, t_v)"
   ]
  },
  {
   "cell_type": "markdown",
   "id": "intimate-pound",
   "metadata": {},
   "source": [
    "## Cardinality of S"
   ]
  },
  {
   "cell_type": "code",
   "execution_count": 4,
   "id": "increased-ballet",
   "metadata": {},
   "outputs": [
    {
     "name": "stdout",
     "output_type": "stream",
     "text": [
      "2710125\n"
     ]
    }
   ],
   "source": [
    "# construction and cardinality of S:\n",
    "S = set()\n",
    "for i, abb in enumerate(abbreviations):\n",
    "    for j, exp in enumerate (expansions):\n",
    "        if abb != abbreviations[j]:\n",
    "            S.add((abb, exp))\n",
    "print(len(S))"
   ]
  },
  {
   "cell_type": "markdown",
   "id": "liberal-supervisor",
   "metadata": {},
   "source": [
    "# Evaluation of the 3 different AEP-Detection Types (Section 5.4)"
   ]
  },
  {
   "cell_type": "code",
   "execution_count": 5,
   "id": "cleared-constant",
   "metadata": {},
   "outputs": [],
   "source": [
    "def find_and_count_false_negatives(algo, threshold):\n",
    "    FN = 0\n",
    "    for i, abb in enumerate(abbreviations):\n",
    "        if not algo(abb, expansions[i], threshold):\n",
    "            # print(\"\\\"\"+abb+\"\\\"\"+\", \"+\"\\\"\"+expansions[i]+\"\\\"\")\n",
    "            FN += 1\n",
    "    return FN, str(FN) + \" FALSE NEGATIVES. Pairs that could not be detected out of \" + str(len(abbreviations)) + \" given pairs\""
   ]
  },
  {
   "cell_type": "code",
   "execution_count": 6,
   "id": "changed-poker",
   "metadata": {},
   "outputs": [],
   "source": [
    "def find_and_count_false_positives(algo, threshold, alpha):\n",
    "    test_set = []\n",
    "    while len(test_set) <= alpha * len(abbreviations):\n",
    "        rd1 = random.randint(0, len(abbreviations)-1)\n",
    "        rd2 = random.randint(0, len(abbreviations)-1)\n",
    "        if abbreviations[rd1] != abbreviations[rd2]:\n",
    "            test_set.append ((abbreviations[rd1], expansions[rd2]))\n",
    "            \n",
    "    count_of_false_examples = 0\n",
    "    FP = 0\n",
    "    for j, tup in enumerate (test_set): \n",
    "        if algo(tup[0], tup[1], threshold):\n",
    "            count_of_false_examples += 1\n",
    "            FP +=1\n",
    "    return FP, str(FP) + \" FALSE POSITIVE detections out of \" +  str(len(test_set)) + \" created false examples\""
   ]
  },
  {
   "cell_type": "code",
   "execution_count": 7,
   "id": "flush-softball",
   "metadata": {},
   "outputs": [],
   "source": [
    "def determine_quality_parameters(alpha, algo, search_space_for_F1_optimization):\n",
    "    max_f1 = 0\n",
    "    best_values = []\n",
    "    for th_ in search_space_for_F1_optimization:\n",
    "        result_on_L = find_and_count_false_negatives(algo, th_)\n",
    "        result_on_S = find_and_count_false_positives(algo, th_, alpha)\n",
    "        FN = result_on_L[0]\n",
    "        FP = result_on_S[0]\n",
    "        TP = len(abbreviations) - FN\n",
    "        \n",
    "        # A classifier that does nothing is not useful. This serves to avoid a division by zero    \n",
    "        if FP + TP == 0:\n",
    "            precision = 0\n",
    "            recall = 0\n",
    "            f1 = 0\n",
    "        else:\n",
    "            precision = TP/(TP + FP)\n",
    "            recall = TP/(TP + FN)\n",
    "            f1 = (2*precision*recall)/(precision+recall)\n",
    "            \n",
    "        # memorise the best F1 value in the loop so far.       \n",
    "        if f1 > max_f1:\n",
    "            best_values = [th_, precision, recall, f1]\n",
    "            max_f1 = f1\n",
    "    return best_values"
   ]
  },
  {
   "cell_type": "code",
   "execution_count": 8,
   "id": "applicable-portrait",
   "metadata": {},
   "outputs": [],
   "source": [
    "def evaluate_algorithm (algorithm, F1_optimization_search_space):\n",
    "    eval_data = {}\n",
    "    for alpha in [4, 8, 11, 14, 28, 42]:\n",
    "        print(\"alpha = \" + str(alpha))\n",
    "        max_f1 = 0\n",
    "        best_values = []     \n",
    "        eval_data[alpha] = determine_quality_parameters(alpha, algorithm, F1_optimization_search_space)\n",
    "    return eval_data"
   ]
  },
  {
   "cell_type": "code",
   "execution_count": 9,
   "id": "revised-thompson",
   "metadata": {},
   "outputs": [],
   "source": [
    "step_list = [h/100 for h in list(range(0,100))]"
   ]
  },
  {
   "cell_type": "code",
   "execution_count": 10,
   "id": "burning-upper",
   "metadata": {
    "scrolled": false
   },
   "outputs": [
    {
     "name": "stdout",
     "output_type": "stream",
     "text": [
      "alpha = 4\n"
     ]
    },
    {
     "name": "stderr",
     "output_type": "stream",
     "text": [
      "/home/hussein/anaconda3/lib/python3.9/site-packages/scipy/spatial/distance.py:699: RuntimeWarning: invalid value encountered in float_scalars\n",
      "  dist = 1.0 - uv / np.sqrt(uu * vv)\n"
     ]
    },
    {
     "name": "stdout",
     "output_type": "stream",
     "text": [
      "alpha = 8\n",
      "alpha = 11\n",
      "alpha = 14\n",
      "alpha = 28\n",
      "alpha = 42\n"
     ]
    },
    {
     "data": {
      "text/html": [
       "<div>\n",
       "<style scoped>\n",
       "    .dataframe tbody tr th:only-of-type {\n",
       "        vertical-align: middle;\n",
       "    }\n",
       "\n",
       "    .dataframe tbody tr th {\n",
       "        vertical-align: top;\n",
       "    }\n",
       "\n",
       "    .dataframe thead th {\n",
       "        text-align: right;\n",
       "    }\n",
       "</style>\n",
       "<table border=\"1\" class=\"dataframe\">\n",
       "  <thead>\n",
       "    <tr style=\"text-align: right;\">\n",
       "      <th></th>\n",
       "      <th>4</th>\n",
       "      <th>8</th>\n",
       "      <th>11</th>\n",
       "      <th>14</th>\n",
       "      <th>28</th>\n",
       "      <th>42</th>\n",
       "    </tr>\n",
       "  </thead>\n",
       "  <tbody>\n",
       "    <tr>\n",
       "      <th>threshold</th>\n",
       "      <td>0.250000</td>\n",
       "      <td>0.270000</td>\n",
       "      <td>0.290000</td>\n",
       "      <td>0.300000</td>\n",
       "      <td>0.330000</td>\n",
       "      <td>0.330000</td>\n",
       "    </tr>\n",
       "    <tr>\n",
       "      <th>precision</th>\n",
       "      <td>0.697446</td>\n",
       "      <td>0.612015</td>\n",
       "      <td>0.604096</td>\n",
       "      <td>0.601003</td>\n",
       "      <td>0.539514</td>\n",
       "      <td>0.438813</td>\n",
       "    </tr>\n",
       "    <tr>\n",
       "      <th>recall</th>\n",
       "      <td>0.596305</td>\n",
       "      <td>0.547592</td>\n",
       "      <td>0.495521</td>\n",
       "      <td>0.469765</td>\n",
       "      <td>0.397536</td>\n",
       "      <td>0.397536</td>\n",
       "    </tr>\n",
       "    <tr>\n",
       "      <th>F1</th>\n",
       "      <td>0.642922</td>\n",
       "      <td>0.578014</td>\n",
       "      <td>0.544448</td>\n",
       "      <td>0.527341</td>\n",
       "      <td>0.457769</td>\n",
       "      <td>0.417156</td>\n",
       "    </tr>\n",
       "  </tbody>\n",
       "</table>\n",
       "</div>"
      ],
      "text/plain": [
       "                 4         8         11        14        28        42\n",
       "threshold  0.250000  0.270000  0.290000  0.300000  0.330000  0.330000\n",
       "precision  0.697446  0.612015  0.604096  0.601003  0.539514  0.438813\n",
       "recall     0.596305  0.547592  0.495521  0.469765  0.397536  0.397536\n",
       "F1         0.642922  0.578014  0.544448  0.527341  0.457769  0.417156"
      ]
     },
     "execution_count": 10,
     "metadata": {},
     "output_type": "execute_result"
    }
   ],
   "source": [
    "# FT (FASTTEXT)\n",
    "pd.DataFrame.from_dict(evaluate_algorithm (fast_text_similarity, step_list), orient=\"index\", columns=[\"threshold\", \"precision\", \"recall\", \"F1\"]).T"
   ]
  },
  {
   "cell_type": "code",
   "execution_count": 11,
   "id": "collect-relation",
   "metadata": {
    "scrolled": true
   },
   "outputs": [
    {
     "name": "stdout",
     "output_type": "stream",
     "text": [
      "alpha = 4\n",
      "alpha = 8\n",
      "alpha = 11\n",
      "alpha = 14\n",
      "alpha = 28\n",
      "alpha = 42\n"
     ]
    },
    {
     "data": {
      "text/html": [
       "<div>\n",
       "<style scoped>\n",
       "    .dataframe tbody tr th:only-of-type {\n",
       "        vertical-align: middle;\n",
       "    }\n",
       "\n",
       "    .dataframe tbody tr th {\n",
       "        vertical-align: top;\n",
       "    }\n",
       "\n",
       "    .dataframe thead th {\n",
       "        text-align: right;\n",
       "    }\n",
       "</style>\n",
       "<table border=\"1\" class=\"dataframe\">\n",
       "  <thead>\n",
       "    <tr style=\"text-align: right;\">\n",
       "      <th></th>\n",
       "      <th>4</th>\n",
       "      <th>8</th>\n",
       "      <th>11</th>\n",
       "      <th>14</th>\n",
       "      <th>28</th>\n",
       "      <th>42</th>\n",
       "    </tr>\n",
       "  </thead>\n",
       "  <tbody>\n",
       "    <tr>\n",
       "      <th>threshold</th>\n",
       "      <td>0.370000</td>\n",
       "      <td>0.520000</td>\n",
       "      <td>0.520000</td>\n",
       "      <td>0.530000</td>\n",
       "      <td>0.560000</td>\n",
       "      <td>0.640000</td>\n",
       "    </tr>\n",
       "    <tr>\n",
       "      <th>precision</th>\n",
       "      <td>0.915796</td>\n",
       "      <td>0.949626</td>\n",
       "      <td>0.940027</td>\n",
       "      <td>0.931864</td>\n",
       "      <td>0.853121</td>\n",
       "      <td>0.808486</td>\n",
       "    </tr>\n",
       "    <tr>\n",
       "      <th>recall</th>\n",
       "      <td>0.882979</td>\n",
       "      <td>0.781075</td>\n",
       "      <td>0.781075</td>\n",
       "      <td>0.781075</td>\n",
       "      <td>0.780515</td>\n",
       "      <td>0.768197</td>\n",
       "    </tr>\n",
       "    <tr>\n",
       "      <th>F1</th>\n",
       "      <td>0.899088</td>\n",
       "      <td>0.857143</td>\n",
       "      <td>0.853211</td>\n",
       "      <td>0.849832</td>\n",
       "      <td>0.815205</td>\n",
       "      <td>0.787827</td>\n",
       "    </tr>\n",
       "  </tbody>\n",
       "</table>\n",
       "</div>"
      ],
      "text/plain": [
       "                 4         8         11        14        28        42\n",
       "threshold  0.370000  0.520000  0.520000  0.530000  0.560000  0.640000\n",
       "precision  0.915796  0.949626  0.940027  0.931864  0.853121  0.808486\n",
       "recall     0.882979  0.781075  0.781075  0.781075  0.780515  0.768197\n",
       "F1         0.899088  0.857143  0.853211  0.849832  0.815205  0.787827"
      ]
     },
     "execution_count": 11,
     "metadata": {},
     "output_type": "execute_result"
    }
   ],
   "source": [
    "# LD (LEVENSHTEIN-DISTANCE)\n",
    "pd.DataFrame.from_dict(evaluate_algorithm (Function_Pool.levensthein_similarity_on_reduction_of_expansion, step_list), orient=\"index\", columns=[\"threshold\", \"precision\", \"recall\", \"F1\"]).T"
   ]
  },
  {
   "cell_type": "code",
   "execution_count": 12,
   "id": "lightweight-peter",
   "metadata": {},
   "outputs": [
    {
     "name": "stdout",
     "output_type": "stream",
     "text": [
      "alpha = 4\n",
      "alpha = 8\n",
      "alpha = 11\n",
      "alpha = 14\n",
      "alpha = 28\n",
      "alpha = 42\n"
     ]
    },
    {
     "data": {
      "text/html": [
       "<div>\n",
       "<style scoped>\n",
       "    .dataframe tbody tr th:only-of-type {\n",
       "        vertical-align: middle;\n",
       "    }\n",
       "\n",
       "    .dataframe tbody tr th {\n",
       "        vertical-align: top;\n",
       "    }\n",
       "\n",
       "    .dataframe thead th {\n",
       "        text-align: right;\n",
       "    }\n",
       "</style>\n",
       "<table border=\"1\" class=\"dataframe\">\n",
       "  <thead>\n",
       "    <tr style=\"text-align: right;\">\n",
       "      <th></th>\n",
       "      <th>4</th>\n",
       "      <th>8</th>\n",
       "      <th>11</th>\n",
       "      <th>14</th>\n",
       "      <th>28</th>\n",
       "      <th>42</th>\n",
       "    </tr>\n",
       "  </thead>\n",
       "  <tbody>\n",
       "    <tr>\n",
       "      <th>threshold</th>\n",
       "      <td>0.770000</td>\n",
       "      <td>0.760000</td>\n",
       "      <td>0.760000</td>\n",
       "      <td>0.790000</td>\n",
       "      <td>0.840000</td>\n",
       "      <td>0.840000</td>\n",
       "    </tr>\n",
       "    <tr>\n",
       "      <th>precision</th>\n",
       "      <td>0.953213</td>\n",
       "      <td>0.900527</td>\n",
       "      <td>0.882454</td>\n",
       "      <td>0.887560</td>\n",
       "      <td>0.908422</td>\n",
       "      <td>0.872272</td>\n",
       "    </tr>\n",
       "    <tr>\n",
       "      <th>recall</th>\n",
       "      <td>0.855543</td>\n",
       "      <td>0.861702</td>\n",
       "      <td>0.861702</td>\n",
       "      <td>0.830907</td>\n",
       "      <td>0.760918</td>\n",
       "      <td>0.760918</td>\n",
       "    </tr>\n",
       "    <tr>\n",
       "      <th>F1</th>\n",
       "      <td>0.901741</td>\n",
       "      <td>0.880687</td>\n",
       "      <td>0.871955</td>\n",
       "      <td>0.858300</td>\n",
       "      <td>0.828154</td>\n",
       "      <td>0.812799</td>\n",
       "    </tr>\n",
       "  </tbody>\n",
       "</table>\n",
       "</div>"
      ],
      "text/plain": [
       "                 4         8         11        14        28        42\n",
       "threshold  0.770000  0.760000  0.760000  0.790000  0.840000  0.840000\n",
       "precision  0.953213  0.900527  0.882454  0.887560  0.908422  0.872272\n",
       "recall     0.855543  0.861702  0.861702  0.830907  0.760918  0.760918\n",
       "F1         0.901741  0.880687  0.871955  0.858300  0.828154  0.812799"
      ]
     },
     "execution_count": 12,
     "metadata": {},
     "output_type": "execute_result"
    }
   ],
   "source": [
    "# JWS (JARO-WINKLER-SIMILARITY)\n",
    "pd.DataFrame.from_dict(evaluate_algorithm (Function_Pool.jaro_winkler_similarity_on_reduction_of_expansion, step_list), orient=\"index\", columns=[\"threshold\", \"precision\", \"recall\", \"F1\"]).T"
   ]
  },
  {
   "cell_type": "code",
   "execution_count": 13,
   "id": "boolean-latin",
   "metadata": {
    "scrolled": true
   },
   "outputs": [
    {
     "name": "stdout",
     "output_type": "stream",
     "text": [
      "alpha = 4\n",
      "alpha = 8\n",
      "alpha = 11\n",
      "alpha = 14\n",
      "alpha = 28\n",
      "alpha = 42\n"
     ]
    },
    {
     "data": {
      "text/html": [
       "<div>\n",
       "<style scoped>\n",
       "    .dataframe tbody tr th:only-of-type {\n",
       "        vertical-align: middle;\n",
       "    }\n",
       "\n",
       "    .dataframe tbody tr th {\n",
       "        vertical-align: top;\n",
       "    }\n",
       "\n",
       "    .dataframe thead th {\n",
       "        text-align: right;\n",
       "    }\n",
       "</style>\n",
       "<table border=\"1\" class=\"dataframe\">\n",
       "  <thead>\n",
       "    <tr style=\"text-align: right;\">\n",
       "      <th></th>\n",
       "      <th>4</th>\n",
       "      <th>8</th>\n",
       "      <th>11</th>\n",
       "      <th>14</th>\n",
       "      <th>28</th>\n",
       "      <th>42</th>\n",
       "    </tr>\n",
       "  </thead>\n",
       "  <tbody>\n",
       "    <tr>\n",
       "      <th>threshold</th>\n",
       "      <td>0.630000</td>\n",
       "      <td>0.760000</td>\n",
       "      <td>0.700000</td>\n",
       "      <td>0.690000</td>\n",
       "      <td>0.790000</td>\n",
       "      <td>0.840000</td>\n",
       "    </tr>\n",
       "    <tr>\n",
       "      <th>precision</th>\n",
       "      <td>0.878531</td>\n",
       "      <td>0.944948</td>\n",
       "      <td>0.894703</td>\n",
       "      <td>0.868339</td>\n",
       "      <td>0.785052</td>\n",
       "      <td>0.885345</td>\n",
       "    </tr>\n",
       "    <tr>\n",
       "      <th>recall</th>\n",
       "      <td>0.870661</td>\n",
       "      <td>0.759239</td>\n",
       "      <td>0.775476</td>\n",
       "      <td>0.775476</td>\n",
       "      <td>0.758679</td>\n",
       "      <td>0.652856</td>\n",
       "    </tr>\n",
       "    <tr>\n",
       "      <th>F1</th>\n",
       "      <td>0.874578</td>\n",
       "      <td>0.841975</td>\n",
       "      <td>0.830834</td>\n",
       "      <td>0.819284</td>\n",
       "      <td>0.771640</td>\n",
       "      <td>0.751531</td>\n",
       "    </tr>\n",
       "  </tbody>\n",
       "</table>\n",
       "</div>"
      ],
      "text/plain": [
       "                 4         8         11        14        28        42\n",
       "threshold  0.630000  0.760000  0.700000  0.690000  0.790000  0.840000\n",
       "precision  0.878531  0.944948  0.894703  0.868339  0.785052  0.885345\n",
       "recall     0.870661  0.759239  0.775476  0.775476  0.758679  0.652856\n",
       "F1         0.874578  0.841975  0.830834  0.819284  0.771640  0.751531"
      ]
     },
     "execution_count": 13,
     "metadata": {},
     "output_type": "execute_result"
    }
   ],
   "source": [
    "# DC (DICE-COEFFICIENT)\n",
    "pd.DataFrame.from_dict(evaluate_algorithm (Function_Pool.dice_coefficient_on_reduction_of_expansion , step_list), orient=\"index\", columns=[\"threshold\", \"precision\", \"recall\", \"F1\"]).T"
   ]
  },
  {
   "cell_type": "code",
   "execution_count": 14,
   "id": "330a9774",
   "metadata": {},
   "outputs": [
    {
     "name": "stdout",
     "output_type": "stream",
     "text": [
      "alpha = 4\n",
      "alpha = 8\n",
      "alpha = 11\n",
      "alpha = 14\n",
      "alpha = 28\n",
      "alpha = 42\n"
     ]
    },
    {
     "data": {
      "text/html": [
       "<div>\n",
       "<style scoped>\n",
       "    .dataframe tbody tr th:only-of-type {\n",
       "        vertical-align: middle;\n",
       "    }\n",
       "\n",
       "    .dataframe tbody tr th {\n",
       "        vertical-align: top;\n",
       "    }\n",
       "\n",
       "    .dataframe thead th {\n",
       "        text-align: right;\n",
       "    }\n",
       "</style>\n",
       "<table border=\"1\" class=\"dataframe\">\n",
       "  <thead>\n",
       "    <tr style=\"text-align: right;\">\n",
       "      <th></th>\n",
       "      <th>4</th>\n",
       "      <th>8</th>\n",
       "      <th>11</th>\n",
       "      <th>14</th>\n",
       "      <th>28</th>\n",
       "      <th>42</th>\n",
       "    </tr>\n",
       "  </thead>\n",
       "  <tbody>\n",
       "    <tr>\n",
       "      <th>threshold</th>\n",
       "      <td>-1.000000</td>\n",
       "      <td>-1.000000</td>\n",
       "      <td>-1.000000</td>\n",
       "      <td>-1.000000</td>\n",
       "      <td>-1.000000</td>\n",
       "      <td>-1.000000</td>\n",
       "    </tr>\n",
       "    <tr>\n",
       "      <th>precision</th>\n",
       "      <td>0.992092</td>\n",
       "      <td>0.987886</td>\n",
       "      <td>0.974895</td>\n",
       "      <td>0.982530</td>\n",
       "      <td>0.959976</td>\n",
       "      <td>0.947705</td>\n",
       "    </tr>\n",
       "    <tr>\n",
       "      <th>recall</th>\n",
       "      <td>0.913214</td>\n",
       "      <td>0.913214</td>\n",
       "      <td>0.913214</td>\n",
       "      <td>0.913214</td>\n",
       "      <td>0.913214</td>\n",
       "      <td>0.913214</td>\n",
       "    </tr>\n",
       "    <tr>\n",
       "      <th>F1</th>\n",
       "      <td>0.951020</td>\n",
       "      <td>0.949084</td>\n",
       "      <td>0.943047</td>\n",
       "      <td>0.946605</td>\n",
       "      <td>0.936011</td>\n",
       "      <td>0.930140</td>\n",
       "    </tr>\n",
       "  </tbody>\n",
       "</table>\n",
       "</div>"
      ],
      "text/plain": [
       "                 4         8         11        14        28        42\n",
       "threshold -1.000000 -1.000000 -1.000000 -1.000000 -1.000000 -1.000000\n",
       "precision  0.992092  0.987886  0.974895  0.982530  0.959976  0.947705\n",
       "recall     0.913214  0.913214  0.913214  0.913214  0.913214  0.913214\n",
       "F1         0.951020  0.949084  0.943047  0.946605  0.936011  0.930140"
      ]
     },
     "execution_count": 14,
     "metadata": {},
     "output_type": "execute_result"
    }
   ],
   "source": [
    "# ILLOD\n",
    "pd.DataFrame.from_dict(evaluate_algorithm (ILLOD.illod, [-1]), orient=\"index\", columns=[\"threshold\", \"precision\", \"recall\", \"F1\"]).T"
   ]
  },
  {
   "cell_type": "code",
   "execution_count": 15,
   "id": "3d2e5ac4",
   "metadata": {},
   "outputs": [
    {
     "name": "stdout",
     "output_type": "stream",
     "text": [
      "alpha = 4\n",
      "alpha = 8\n",
      "alpha = 11\n",
      "alpha = 14\n",
      "alpha = 28\n",
      "alpha = 42\n"
     ]
    },
    {
     "data": {
      "text/html": [
       "<div>\n",
       "<style scoped>\n",
       "    .dataframe tbody tr th:only-of-type {\n",
       "        vertical-align: middle;\n",
       "    }\n",
       "\n",
       "    .dataframe tbody tr th {\n",
       "        vertical-align: top;\n",
       "    }\n",
       "\n",
       "    .dataframe thead th {\n",
       "        text-align: right;\n",
       "    }\n",
       "</style>\n",
       "<table border=\"1\" class=\"dataframe\">\n",
       "  <thead>\n",
       "    <tr style=\"text-align: right;\">\n",
       "      <th></th>\n",
       "      <th>4</th>\n",
       "      <th>8</th>\n",
       "      <th>11</th>\n",
       "      <th>14</th>\n",
       "      <th>28</th>\n",
       "      <th>42</th>\n",
       "    </tr>\n",
       "  </thead>\n",
       "  <tbody>\n",
       "    <tr>\n",
       "      <th>threshold</th>\n",
       "      <td>-1.000000</td>\n",
       "      <td>-1.000000</td>\n",
       "      <td>-1.000000</td>\n",
       "      <td>-1.000000</td>\n",
       "      <td>-1.000000</td>\n",
       "      <td>-1.000000</td>\n",
       "    </tr>\n",
       "    <tr>\n",
       "      <th>precision</th>\n",
       "      <td>0.995706</td>\n",
       "      <td>0.993268</td>\n",
       "      <td>0.990842</td>\n",
       "      <td>0.989031</td>\n",
       "      <td>0.968955</td>\n",
       "      <td>0.960924</td>\n",
       "    </tr>\n",
       "    <tr>\n",
       "      <th>recall</th>\n",
       "      <td>0.908735</td>\n",
       "      <td>0.908735</td>\n",
       "      <td>0.908735</td>\n",
       "      <td>0.908735</td>\n",
       "      <td>0.908735</td>\n",
       "      <td>0.908735</td>\n",
       "    </tr>\n",
       "    <tr>\n",
       "      <th>F1</th>\n",
       "      <td>0.950234</td>\n",
       "      <td>0.949123</td>\n",
       "      <td>0.948014</td>\n",
       "      <td>0.947184</td>\n",
       "      <td>0.937879</td>\n",
       "      <td>0.934101</td>\n",
       "    </tr>\n",
       "  </tbody>\n",
       "</table>\n",
       "</div>"
      ],
      "text/plain": [
       "                 4         8         11        14        28        42\n",
       "threshold -1.000000 -1.000000 -1.000000 -1.000000 -1.000000 -1.000000\n",
       "precision  0.995706  0.993268  0.990842  0.989031  0.968955  0.960924\n",
       "recall     0.908735  0.908735  0.908735  0.908735  0.908735  0.908735\n",
       "F1         0.950234  0.949123  0.948014  0.947184  0.937879  0.934101"
      ]
     },
     "execution_count": 15,
     "metadata": {},
     "output_type": "execute_result"
    }
   ],
   "source": [
    "# ILLOD+(VariantA)\n",
    "pd.DataFrame.from_dict(evaluate_algorithm (Function_Pool.illod_plus, [-1]), orient=\"index\", columns=[\"threshold\", \"precision\", \"recall\", \"F1\"]).T"
   ]
  },
  {
   "cell_type": "code",
   "execution_count": 16,
   "id": "czech-metadata",
   "metadata": {
    "scrolled": false
   },
   "outputs": [
    {
     "name": "stdout",
     "output_type": "stream",
     "text": [
      "alpha = 4\n",
      "alpha = 8\n",
      "alpha = 11\n",
      "alpha = 14\n",
      "alpha = 28\n",
      "alpha = 42\n"
     ]
    },
    {
     "data": {
      "text/html": [
       "<div>\n",
       "<style scoped>\n",
       "    .dataframe tbody tr th:only-of-type {\n",
       "        vertical-align: middle;\n",
       "    }\n",
       "\n",
       "    .dataframe tbody tr th {\n",
       "        vertical-align: top;\n",
       "    }\n",
       "\n",
       "    .dataframe thead th {\n",
       "        text-align: right;\n",
       "    }\n",
       "</style>\n",
       "<table border=\"1\" class=\"dataframe\">\n",
       "  <thead>\n",
       "    <tr style=\"text-align: right;\">\n",
       "      <th></th>\n",
       "      <th>4</th>\n",
       "      <th>8</th>\n",
       "      <th>11</th>\n",
       "      <th>14</th>\n",
       "      <th>28</th>\n",
       "      <th>42</th>\n",
       "    </tr>\n",
       "  </thead>\n",
       "  <tbody>\n",
       "    <tr>\n",
       "      <th>threshold</th>\n",
       "      <td>-2.000000</td>\n",
       "      <td>-2.000000</td>\n",
       "      <td>-2.000000</td>\n",
       "      <td>-2.000000</td>\n",
       "      <td>-2.000000</td>\n",
       "      <td>-2.000000</td>\n",
       "    </tr>\n",
       "    <tr>\n",
       "      <th>precision</th>\n",
       "      <td>0.998068</td>\n",
       "      <td>0.994227</td>\n",
       "      <td>0.991049</td>\n",
       "      <td>0.991049</td>\n",
       "      <td>0.979772</td>\n",
       "      <td>0.966334</td>\n",
       "    </tr>\n",
       "    <tr>\n",
       "      <th>recall</th>\n",
       "      <td>0.867861</td>\n",
       "      <td>0.867861</td>\n",
       "      <td>0.867861</td>\n",
       "      <td>0.867861</td>\n",
       "      <td>0.867861</td>\n",
       "      <td>0.867861</td>\n",
       "    </tr>\n",
       "    <tr>\n",
       "      <th>F1</th>\n",
       "      <td>0.928422</td>\n",
       "      <td>0.926756</td>\n",
       "      <td>0.925373</td>\n",
       "      <td>0.925373</td>\n",
       "      <td>0.920428</td>\n",
       "      <td>0.914454</td>\n",
       "    </tr>\n",
       "  </tbody>\n",
       "</table>\n",
       "</div>"
      ],
      "text/plain": [
       "                 4         8         11        14        28        42\n",
       "threshold -2.000000 -2.000000 -2.000000 -2.000000 -2.000000 -2.000000\n",
       "precision  0.998068  0.994227  0.991049  0.991049  0.979772  0.966334\n",
       "recall     0.867861  0.867861  0.867861  0.867861  0.867861  0.867861\n",
       "F1         0.928422  0.926756  0.925373  0.925373  0.920428  0.914454"
      ]
     },
     "execution_count": 16,
     "metadata": {},
     "output_type": "execute_result"
    }
   ],
   "source": [
    "# ILLOD+(VariantB)\n",
    "pd.DataFrame.from_dict(evaluate_algorithm (Function_Pool.illod_plus, [-2]), orient=\"index\", columns=[\"threshold\", \"precision\", \"recall\", \"F1\"]).T"
   ]
  },
  {
   "cell_type": "code",
   "execution_count": 17,
   "id": "5cd3d45a",
   "metadata": {
    "scrolled": true
   },
   "outputs": [
    {
     "name": "stdout",
     "output_type": "stream",
     "text": [
      "alpha = 4\n",
      "alpha = 8\n",
      "alpha = 11\n",
      "alpha = 14\n",
      "alpha = 28\n",
      "alpha = 42\n"
     ]
    },
    {
     "data": {
      "text/html": [
       "<div>\n",
       "<style scoped>\n",
       "    .dataframe tbody tr th:only-of-type {\n",
       "        vertical-align: middle;\n",
       "    }\n",
       "\n",
       "    .dataframe tbody tr th {\n",
       "        vertical-align: top;\n",
       "    }\n",
       "\n",
       "    .dataframe thead th {\n",
       "        text-align: right;\n",
       "    }\n",
       "</style>\n",
       "<table border=\"1\" class=\"dataframe\">\n",
       "  <thead>\n",
       "    <tr style=\"text-align: right;\">\n",
       "      <th></th>\n",
       "      <th>4</th>\n",
       "      <th>8</th>\n",
       "      <th>11</th>\n",
       "      <th>14</th>\n",
       "      <th>28</th>\n",
       "      <th>42</th>\n",
       "    </tr>\n",
       "  </thead>\n",
       "  <tbody>\n",
       "    <tr>\n",
       "      <th>threshold</th>\n",
       "      <td>-2.000000</td>\n",
       "      <td>-2.000000</td>\n",
       "      <td>-2.000000</td>\n",
       "      <td>-2.000000</td>\n",
       "      <td>-2.000000</td>\n",
       "      <td>-2.000000</td>\n",
       "    </tr>\n",
       "    <tr>\n",
       "      <th>precision</th>\n",
       "      <td>0.997022</td>\n",
       "      <td>0.992294</td>\n",
       "      <td>0.991119</td>\n",
       "      <td>0.984127</td>\n",
       "      <td>0.974956</td>\n",
       "      <td>0.962622</td>\n",
       "    </tr>\n",
       "    <tr>\n",
       "      <th>recall</th>\n",
       "      <td>0.937290</td>\n",
       "      <td>0.937290</td>\n",
       "      <td>0.937290</td>\n",
       "      <td>0.937290</td>\n",
       "      <td>0.937290</td>\n",
       "      <td>0.937290</td>\n",
       "    </tr>\n",
       "    <tr>\n",
       "      <th>F1</th>\n",
       "      <td>0.966234</td>\n",
       "      <td>0.964008</td>\n",
       "      <td>0.963453</td>\n",
       "      <td>0.960138</td>\n",
       "      <td>0.955752</td>\n",
       "      <td>0.949787</td>\n",
       "    </tr>\n",
       "  </tbody>\n",
       "</table>\n",
       "</div>"
      ],
      "text/plain": [
       "                 4         8         11        14        28        42\n",
       "threshold -2.000000 -2.000000 -2.000000 -2.000000 -2.000000 -2.000000\n",
       "precision  0.997022  0.992294  0.991119  0.984127  0.974956  0.962622\n",
       "recall     0.937290  0.937290  0.937290  0.937290  0.937290  0.937290\n",
       "F1         0.966234  0.964008  0.963453  0.960138  0.955752  0.949787"
      ]
     },
     "execution_count": 17,
     "metadata": {},
     "output_type": "execute_result"
    }
   ],
   "source": [
    "# ODIL\n",
    "pd.DataFrame.from_dict(evaluate_algorithm (ODIL.illod_plus, [-2]), orient=\"index\", columns=[\"threshold\", \"precision\", \"recall\", \"F1\"]).T"
   ]
  },
  {
   "cell_type": "code",
   "execution_count": null,
   "id": "3230aaf8",
   "metadata": {},
   "outputs": [],
   "source": []
  },
  {
   "cell_type": "code",
   "execution_count": null,
   "id": "9091ed4a",
   "metadata": {},
   "outputs": [],
   "source": []
  }
 ],
 "metadata": {
  "kernelspec": {
   "display_name": "Python 3",
   "language": "python",
   "name": "python3"
  },
  "language_info": {
   "codemirror_mode": {
    "name": "ipython",
    "version": 3
   },
   "file_extension": ".py",
   "mimetype": "text/x-python",
   "name": "python",
   "nbconvert_exporter": "python",
   "pygments_lexer": "ipython3",
   "version": "3.9.12"
  }
 },
 "nbformat": 4,
 "nbformat_minor": 5
}
