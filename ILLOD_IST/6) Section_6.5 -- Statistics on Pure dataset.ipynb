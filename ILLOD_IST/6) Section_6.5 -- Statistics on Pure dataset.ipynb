{
 "cells": [
  {
   "cell_type": "code",
   "execution_count": 7,
   "id": "willing-embassy",
   "metadata": {},
   "outputs": [],
   "source": [
    "import pandas as pd\n",
    "import Function_Pool"
   ]
  },
  {
   "cell_type": "markdown",
   "id": "internal-natural",
   "metadata": {},
   "source": [
    "## Reading the content of the PURE requirements."
   ]
  },
  {
   "cell_type": "code",
   "execution_count": 8,
   "id": "fe2ce200",
   "metadata": {},
   "outputs": [],
   "source": [
    "filePath = \"pure_dataset.csv\"\n",
    "data = pd.read_csv(filePath, names=['ID','dataset', 'requirement'], sep=';', encoding='utf8')\n",
    "data_list = data.values.tolist()"
   ]
  },
  {
   "cell_type": "code",
   "execution_count": 16,
   "id": "73776e4f",
   "metadata": {},
   "outputs": [
    {
     "name": "stdout",
     "output_type": "stream",
     "text": [
      "1934\n"
     ]
    }
   ],
   "source": [
    "print(len(data_list))"
   ]
  },
  {
   "cell_type": "markdown",
   "id": "occupational-creek",
   "metadata": {},
   "source": [
    "## Here we generate AEP Candidates and AEP groups with the different approches/ aep_classifiers"
   ]
  },
  {
   "cell_type": "code",
   "execution_count": 12,
   "id": "7cea9107",
   "metadata": {
    "scrolled": true
   },
   "outputs": [],
   "source": [
    "## OPTIONAL\n",
    "terms = set()\n",
    "abbv_set = set()\n",
    "for req in data_list:\n",
    "    terms = terms.union(Function_Pool.nc_detect(req[2]))"
   ]
  },
  {
   "cell_type": "code",
   "execution_count": 13,
   "id": "f07c60d6",
   "metadata": {},
   "outputs": [
    {
     "name": "stdout",
     "output_type": "stream",
     "text": [
      "7076\n"
     ]
    }
   ],
   "source": [
    "print(len(terms))"
   ]
  },
  {
   "cell_type": "code",
   "execution_count": 14,
   "id": "6eeeea85",
   "metadata": {},
   "outputs": [],
   "source": [
    "abbv_set = Function_Pool.extract_abbreviations([req[2] for req in data_list])"
   ]
  },
  {
   "cell_type": "code",
   "execution_count": 15,
   "id": "8f2275ea",
   "metadata": {},
   "outputs": [
    {
     "name": "stdout",
     "output_type": "stream",
     "text": [
      "384\n"
     ]
    }
   ],
   "source": [
    "print(len(abbv_set))"
   ]
  },
  {
   "cell_type": "markdown",
   "id": "db9ea97f",
   "metadata": {},
   "source": [
    "## Estimate for $\\alpha$"
   ]
  },
  {
   "cell_type": "code",
   "execution_count": 17,
   "id": "e99eebfc",
   "metadata": {},
   "outputs": [
    {
     "name": "stdout",
     "output_type": "stream",
     "text": [
      "18.427083333333332\n"
     ]
    }
   ],
   "source": [
    "print(len(terms)/len(abbv_set))"
   ]
  }
 ],
 "metadata": {
  "kernelspec": {
   "display_name": "Python 3",
   "language": "python",
   "name": "python3"
  },
  "language_info": {
   "codemirror_mode": {
    "name": "ipython",
    "version": 3
   },
   "file_extension": ".py",
   "mimetype": "text/x-python",
   "name": "python",
   "nbconvert_exporter": "python",
   "pygments_lexer": "ipython3",
   "version": "3.9.12"
  }
 },
 "nbformat": 4,
 "nbformat_minor": 5
}
