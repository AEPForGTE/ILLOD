{
 "cells": [
  {
   "cell_type": "markdown",
   "id": "based-challenge",
   "metadata": {},
   "source": [
    "# Find an estimate for ${\\alpha}$ (Term to Abbreviation Ratio)"
   ]
  },
  {
   "cell_type": "code",
   "execution_count": 1,
   "id": "operating-medication",
   "metadata": {},
   "outputs": [],
   "source": [
    "import Function_Pool\n",
    "import re\n",
    "import pandas as pd\n",
    "from string import punctuation\n",
    "import bigram_abbv_ex"
   ]
  },
  {
   "cell_type": "markdown",
   "id": "vulnerable-nashville",
   "metadata": {},
   "source": [
    "## Load PURE Data from file with 1934  requirements:"
   ]
  },
  {
   "cell_type": "code",
   "execution_count": 2,
   "id": "private-hybrid",
   "metadata": {},
   "outputs": [],
   "source": [
    "data = pd.read_csv(\"pure_dataset.csv\", names=['ID','dataset', 'requirement'], sep=';', encoding='utf8')\n",
    "data_list = data.values.tolist()\n",
    "list_of_reqs = [req[2] for req in data_list]"
   ]
  },
  {
   "cell_type": "markdown",
   "id": "searching-rendering",
   "metadata": {},
   "source": [
    "## The Main Function: Independent compilation of the set of NCs and the set of abbreviations. Calculation of the ratio of their cardinalities as the final result."
   ]
  },
  {
   "cell_type": "code",
   "execution_count": 3,
   "id": "surface-judge",
   "metadata": {},
   "outputs": [],
   "source": [
    "set_of_detected_ncs = set()\n",
    "for req in list_of_reqs:\n",
    "    set_of_detected_ncs = set_of_detected_ncs.union(Function_Pool.nc_detect(req))"
   ]
  },
  {
   "cell_type": "code",
   "execution_count": 4,
   "id": "d41c05d5",
   "metadata": {},
   "outputs": [],
   "source": [
    "set_of_detected_ncs = set([nc[1] for nc in set_of_detected_ncs])"
   ]
  },
  {
   "cell_type": "code",
   "execution_count": 5,
   "id": "olympic-monroe",
   "metadata": {},
   "outputs": [
    {
     "name": "stdout",
     "output_type": "stream",
     "text": [
      "professional association\n",
      "verification\n",
      "shutdown command\n",
      "exist call\n",
      "termination\n",
      "SAR Processor interface requirement and specification\n",
      "VCD\n",
      "loss of call\n",
      "Distributor\n",
      "reminder\n",
      "operational responsibility of railway network\n",
      "mark VCR\n",
      "resilience\n",
      "TCS application\n",
      "datum and database manager\n",
      "public telephone\n",
      "supervision\n",
      "conflict\n",
      "demographic datum\n",
      "request assignment\n"
     ]
    }
   ],
   "source": [
    "for term in list(set_of_detected_ncs)[:20]:\n",
    "    print(term)"
   ]
  },
  {
   "cell_type": "code",
   "execution_count": 6,
   "id": "needed-berkeley",
   "metadata": {
    "scrolled": false
   },
   "outputs": [
    {
     "name": "stdout",
     "output_type": "stream",
     "text": [
      "5702\n"
     ]
    }
   ],
   "source": [
    "print(len(set_of_detected_ncs))"
   ]
  },
  {
   "cell_type": "code",
   "execution_count": 7,
   "id": "excess-python",
   "metadata": {
    "scrolled": true
   },
   "outputs": [],
   "source": [
    "set_of_detected_abbreviations = Function_Pool.extract_abbs(list_of_reqs)"
   ]
  },
  {
   "cell_type": "code",
   "execution_count": 8,
   "id": "affecting-roommate",
   "metadata": {
    "scrolled": false
   },
   "outputs": [
    {
     "name": "stdout",
     "output_type": "stream",
     "text": [
      "414\n"
     ]
    }
   ],
   "source": [
    "print(len(set_of_detected_abbreviations))"
   ]
  },
  {
   "cell_type": "code",
   "execution_count": 13,
   "id": "ad506344",
   "metadata": {
    "scrolled": true
   },
   "outputs": [
    {
     "name": "stdout",
     "output_type": "stream",
     "text": [
      "XSL\n",
      "AV's FD/L\n",
      "O N/A\n",
      "AFMSS\n",
      "OM\n",
      "ONLY\n",
      "admin\n",
      "VCD MUST\n",
      "TCS ETRAC\n",
      "PWS\n",
      "i.e\n",
      "SAR\n",
      "2000m\n",
      "xxx Tab\n",
      "LOINC\n",
      "IAS\n",
      "TCS HWCIs\n",
      "SSL\n",
      "LOS\n",
      "TCS HCI\n"
     ]
    }
   ],
   "source": [
    "for abbv in list(set_of_detected_abbreviations)[315:335]:\n",
    "    print(abbv)"
   ]
  },
  {
   "cell_type": "markdown",
   "id": "broad-petersburg",
   "metadata": {},
   "source": [
    "## Final result:"
   ]
  },
  {
   "cell_type": "code",
   "execution_count": 10,
   "id": "ancient-obligation",
   "metadata": {
    "scrolled": true
   },
   "outputs": [
    {
     "name": "stdout",
     "output_type": "stream",
     "text": [
      "13.772946859903382\n"
     ]
    }
   ],
   "source": [
    "ratio = len(set_of_detected_ncs)/len(set_of_detected_abbreviations)\n",
    "print(ratio)"
   ]
  }
 ],
 "metadata": {
  "kernelspec": {
   "display_name": "Python 3",
   "language": "python",
   "name": "python3"
  },
  "language_info": {
   "codemirror_mode": {
    "name": "ipython",
    "version": 3
   },
   "file_extension": ".py",
   "mimetype": "text/x-python",
   "name": "python",
   "nbconvert_exporter": "python",
   "pygments_lexer": "ipython3",
   "version": "3.9.12"
  }
 },
 "nbformat": 4,
 "nbformat_minor": 5
}
