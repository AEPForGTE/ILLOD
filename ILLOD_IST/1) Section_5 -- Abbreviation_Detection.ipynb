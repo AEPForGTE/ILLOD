{
 "cells": [
  {
   "cell_type": "markdown",
   "id": "d6265cee",
   "metadata": {},
   "source": [
    "# Evaluate and Optimize Abbreviation Extraction"
   ]
  },
  {
   "cell_type": "code",
   "execution_count": 1,
   "id": "240e664e",
   "metadata": {},
   "outputs": [],
   "source": [
    "import pandas as pd\n",
    "import string\n",
    "from spylls.hunspell import Dictionary\n",
    "spellchecker = Dictionary.from_files('en_US')\n",
    "from string import punctuation\n",
    "import re"
   ]
  },
  {
   "cell_type": "markdown",
   "id": "3e04784a",
   "metadata": {},
   "source": [
    "## Load List $L$ from File"
   ]
  },
  {
   "cell_type": "code",
   "execution_count": 2,
   "id": "ce9218c2",
   "metadata": {},
   "outputs": [],
   "source": [
    "data = pd.read_csv('abbr_db.CSV', names=['abbr', 'long_forms'], sep=';', encoding='utf8')\n",
    "abbreviations = list(data['abbr'].values)\n",
    "expansions = list(data['long_forms'].values)"
   ]
  },
  {
   "cell_type": "code",
   "execution_count": null,
   "id": "a3ba27cb",
   "metadata": {},
   "outputs": [],
   "source": []
  },
  {
   "cell_type": "code",
   "execution_count": null,
   "id": "35e5c176",
   "metadata": {},
   "outputs": [],
   "source": []
  },
  {
   "cell_type": "markdown",
   "id": "d13f3885",
   "metadata": {},
   "source": [
    "# F1-Optimization for Abbreviations with Upper Case Letters"
   ]
  },
  {
   "cell_type": "markdown",
   "id": "598428e4",
   "metadata": {},
   "source": [
    "## Helper function to calculate the proportion of upper case letters"
   ]
  },
  {
   "cell_type": "code",
   "execution_count": 3,
   "id": "566105b4",
   "metadata": {},
   "outputs": [],
   "source": [
    "def portion_of_capital_letters(w):\n",
    "    upper_cases = ''.join([c for c in w if c.isupper()])\n",
    "    return len(upper_cases)/len(w)"
   ]
  },
  {
   "cell_type": "markdown",
   "id": "26f4b2cf",
   "metadata": {},
   "source": [
    "## The method \"extraction_rule()\" is the function that has to be optimized"
   ]
  },
  {
   "cell_type": "code",
   "execution_count": 4,
   "id": "00f62685",
   "metadata": {},
   "outputs": [],
   "source": [
    "def extraction_rule(w, l_, ratio):\n",
    "    if len(w) <= l_ and portion_of_capital_letters(w) >= ratio:\n",
    "        return True\n",
    "    else:\n",
    "        return False"
   ]
  },
  {
   "cell_type": "markdown",
   "id": "70f45397",
   "metadata": {},
   "source": [
    "## Determine False Positive and False Negative rates for given extraction rule parameters \"l_\" (length of word) and \"ratio\" (proportion of upper case letters)"
   ]
  },
  {
   "cell_type": "code",
   "execution_count": 5,
   "id": "8047e4e8",
   "metadata": {},
   "outputs": [],
   "source": [
    "def determine_FN(l_, ratio):\n",
    "    FN = 0\n",
    "    for abb in abbreviations:\n",
    "        if not extraction_rule(abb, l_, ratio):\n",
    "            FN = FN + 1\n",
    "    return FN"
   ]
  },
  {
   "cell_type": "code",
   "execution_count": 6,
   "id": "2ac40a69",
   "metadata": {},
   "outputs": [],
   "source": [
    "def determine_FP(l_, ratio):\n",
    "    FP = 0\n",
    "    for exp in expansions:\n",
    "        for word in exp.split():\n",
    "            if extraction_rule(word, l_, ratio):\n",
    "                FP = FP + 1\n",
    "    return FP"
   ]
  },
  {
   "cell_type": "markdown",
   "id": "666242fc",
   "metadata": {},
   "source": [
    "## The main function to conduct exhaustive search on $[0,1]$ in $1/100$ steps "
   ]
  },
  {
   "cell_type": "code",
   "execution_count": 7,
   "id": "cfda10d5",
   "metadata": {
    "scrolled": true
   },
   "outputs": [],
   "source": [
    "max_f1 = 0\n",
    "memory = []\n",
    "for word_length in range(1,21):\n",
    "    for search_step in range(1, 101):\n",
    "        ratio = search_step/100\n",
    "        FP = determine_FP(word_length, ratio)\n",
    "        FN = determine_FN(word_length, ratio)\n",
    "        TP = len(abbreviations) - FN\n",
    "        precision = TP/(TP + FP)\n",
    "        recall = TP/(TP + FN)\n",
    "        f1 = (2*recall*precision)/(recall + precision)\n",
    "        if f1 > max_f1:\n",
    "            max_f1 = f1\n",
    "            memory = [word_length, ratio, precision, recall, f1]\n",
    "result = {\"Word length\" : [memory[0]], \n",
    "          \"Ratio\" : [memory[1]], \n",
    "          \"Precision\" : [memory[2]], \n",
    "          \"Recall\" : [memory[3]], \n",
    "          \"F1\" : [memory[4]]}"
   ]
  },
  {
   "cell_type": "code",
   "execution_count": 8,
   "id": "18c63add",
   "metadata": {
    "scrolled": true
   },
   "outputs": [
    {
     "data": {
      "text/html": [
       "<div>\n",
       "<style scoped>\n",
       "    .dataframe tbody tr th:only-of-type {\n",
       "        vertical-align: middle;\n",
       "    }\n",
       "\n",
       "    .dataframe tbody tr th {\n",
       "        vertical-align: top;\n",
       "    }\n",
       "\n",
       "    .dataframe thead th {\n",
       "        text-align: right;\n",
       "    }\n",
       "</style>\n",
       "<table border=\"1\" class=\"dataframe\">\n",
       "  <thead>\n",
       "    <tr style=\"text-align: right;\">\n",
       "      <th></th>\n",
       "      <th>Word length</th>\n",
       "      <th>Ratio</th>\n",
       "      <th>Precision</th>\n",
       "      <th>Recall</th>\n",
       "      <th>F1</th>\n",
       "    </tr>\n",
       "  </thead>\n",
       "  <tbody>\n",
       "    <tr>\n",
       "      <th>0</th>\n",
       "      <td>13</td>\n",
       "      <td>0.29</td>\n",
       "      <td>0.922216</td>\n",
       "      <td>0.922732</td>\n",
       "      <td>0.922474</td>\n",
       "    </tr>\n",
       "  </tbody>\n",
       "</table>\n",
       "</div>"
      ],
      "text/plain": [
       "   Word length  Ratio  Precision    Recall        F1\n",
       "0           13   0.29   0.922216  0.922732  0.922474"
      ]
     },
     "execution_count": 8,
     "metadata": {},
     "output_type": "execute_result"
    }
   ],
   "source": [
    "pd.DataFrame.from_dict(result)"
   ]
  },
  {
   "cell_type": "code",
   "execution_count": null,
   "id": "52214273",
   "metadata": {},
   "outputs": [],
   "source": []
  },
  {
   "cell_type": "code",
   "execution_count": null,
   "id": "14e678f7",
   "metadata": {},
   "outputs": [],
   "source": []
  },
  {
   "cell_type": "markdown",
   "id": "27d8d81b",
   "metadata": {},
   "source": [
    "# F1-Optimization for Abbreviations with only Lower Case Letters"
   ]
  },
  {
   "cell_type": "markdown",
   "id": "c03d3603",
   "metadata": {},
   "source": [
    "# Generate lower case abbreviations and terms"
   ]
  },
  {
   "cell_type": "code",
   "execution_count": 9,
   "id": "37faaa27",
   "metadata": {},
   "outputs": [],
   "source": [
    "abbreviations_lower = set([abb.lower() for abb in abbreviations if len(abb.split()) == 1])\n",
    "expansions_lower = [exp.lower().split() for exp in expansions]\n",
    "\n",
    "expansion_tokens_lower = set()\n",
    "for token_list in expansions_lower:\n",
    "    for tok in token_list:\n",
    "        expansion_tokens_lower.add(tok)"
   ]
  },
  {
   "cell_type": "markdown",
   "id": "a00190cd",
   "metadata": {},
   "source": [
    "## Approach to check if a word is a lower-case-abbreviation"
   ]
  },
  {
   "cell_type": "code",
   "execution_count": 15,
   "id": "5b01f887",
   "metadata": {},
   "outputs": [],
   "source": [
    "def check_if_word_is_lower_letter_abbv(word, max_wl):\n",
    "    if len(word)<=1 and word != \"a\":\n",
    "        return True\n",
    "    if (not spellchecker.lookup(word)) and word.islower() and len(word) < max_wl:\n",
    "        return True\n",
    "    word = re.sub(\"(\\w)(\\W)(\\w)\", r\"\\1 \\3\", word)\n",
    "    if len(word.split()) >= 2:\n",
    "        return any([check_if_word_is_lower_letter_abbv(tok, max_wl) for tok in word.split()])\n",
    "    return False"
   ]
  },
  {
   "cell_type": "code",
   "execution_count": 16,
   "id": "cef5a42a",
   "metadata": {},
   "outputs": [
    {
     "data": {
      "text/plain": [
       "True"
      ]
     },
     "execution_count": 16,
     "metadata": {},
     "output_type": "execute_result"
    }
   ],
   "source": [
    "check_if_word_is_lower_letter_abbv(\"temp.\", 7)"
   ]
  },
  {
   "cell_type": "markdown",
   "id": "7daf1a91",
   "metadata": {},
   "source": [
    "## Determine False Positive and False Negative rates for given extraction rule parameter \"max_wl\" (maximum word length)"
   ]
  },
  {
   "cell_type": "code",
   "execution_count": 17,
   "id": "069a18e0",
   "metadata": {},
   "outputs": [],
   "source": [
    "def count_FNs(max_wl):\n",
    "    fn_count = 0\n",
    "    for word in abbreviations_lower:\n",
    "        if not check_if_word_is_lower_letter_abbv(word, max_wl):\n",
    "            fn_count +=1\n",
    "    return fn_count\n",
    "\n",
    "def count_FPs(max_wl):\n",
    "    fp_count = 0\n",
    "    for word in expansion_tokens_lower:\n",
    "        for tok in word.split():\n",
    "            if check_if_word_is_lower_letter_abbv(tok, max_wl):\n",
    "                fp_count += 1\n",
    "    return fp_count"
   ]
  },
  {
   "cell_type": "markdown",
   "id": "ffddba61",
   "metadata": {},
   "source": [
    "## The main function to conduct exhaustive search on $[1,20]$ for the $max\\_wl$ parameter"
   ]
  },
  {
   "cell_type": "code",
   "execution_count": 18,
   "id": "e72e7411",
   "metadata": {},
   "outputs": [],
   "source": [
    "max_f1 = 0\n",
    "memory = []\n",
    "for max_wl in range(1,20):\n",
    "    FP = count_FPs(max_wl)\n",
    "    FN = count_FNs(max_wl)\n",
    "    TP = len(abbreviations_lower) - FN\n",
    "    if TP + FP == 0:\n",
    "        precision = 0\n",
    "    else:\n",
    "        precision = TP/(TP + FP)\n",
    "    if TP + FN == 0:\n",
    "        recall = 0\n",
    "    else:\n",
    "        recall = TP/(TP + FN)\n",
    "    f1 = (2*recall*precision)/(recall + precision)\n",
    "    if f1 > max_f1:\n",
    "        max_f1 = f1\n",
    "        memory = [max_wl, precision, recall, f1]\n",
    "result = {\"Max_WL\" : [memory[0]], \n",
    "          \"Precision\": [memory[1]],\n",
    "          \"Recall\" : [memory[2]], \n",
    "          \"F1\" : [memory[3]]}"
   ]
  },
  {
   "cell_type": "code",
   "execution_count": 19,
   "id": "d2010c2c",
   "metadata": {
    "scrolled": true
   },
   "outputs": [
    {
     "data": {
      "text/html": [
       "<div>\n",
       "<style scoped>\n",
       "    .dataframe tbody tr th:only-of-type {\n",
       "        vertical-align: middle;\n",
       "    }\n",
       "\n",
       "    .dataframe tbody tr th {\n",
       "        vertical-align: top;\n",
       "    }\n",
       "\n",
       "    .dataframe thead th {\n",
       "        text-align: right;\n",
       "    }\n",
       "</style>\n",
       "<table border=\"1\" class=\"dataframe\">\n",
       "  <thead>\n",
       "    <tr style=\"text-align: right;\">\n",
       "      <th></th>\n",
       "      <th>Max_WL</th>\n",
       "      <th>Precision</th>\n",
       "      <th>Recall</th>\n",
       "      <th>F1</th>\n",
       "    </tr>\n",
       "  </thead>\n",
       "  <tbody>\n",
       "    <tr>\n",
       "      <th>0</th>\n",
       "      <td>7</td>\n",
       "      <td>0.91796</td>\n",
       "      <td>0.837492</td>\n",
       "      <td>0.875882</td>\n",
       "    </tr>\n",
       "  </tbody>\n",
       "</table>\n",
       "</div>"
      ],
      "text/plain": [
       "   Max_WL  Precision    Recall        F1\n",
       "0       7    0.91796  0.837492  0.875882"
      ]
     },
     "execution_count": 19,
     "metadata": {},
     "output_type": "execute_result"
    }
   ],
   "source": [
    "pd.DataFrame.from_dict(result)"
   ]
  },
  {
   "cell_type": "code",
   "execution_count": null,
   "id": "4c450ed8",
   "metadata": {},
   "outputs": [],
   "source": []
  },
  {
   "cell_type": "code",
   "execution_count": null,
   "id": "8d7025a0",
   "metadata": {},
   "outputs": [],
   "source": []
  },
  {
   "cell_type": "markdown",
   "id": "f0ddaef3",
   "metadata": {},
   "source": [
    "# Evaluation of overall performance on L"
   ]
  },
  {
   "cell_type": "code",
   "execution_count": 20,
   "id": "b55848d1",
   "metadata": {},
   "outputs": [],
   "source": [
    "def overall_detection_approach(word):\n",
    "    if extraction_rule(word, 13, 0.29):\n",
    "        return True\n",
    "    if check_if_word_is_lower_letter_abbv(word, 7):\n",
    "        return True\n",
    "    return False\n"
   ]
  },
  {
   "cell_type": "code",
   "execution_count": 21,
   "id": "a16b8b54",
   "metadata": {},
   "outputs": [],
   "source": [
    "def count_FNs():\n",
    "    fn_count = 0\n",
    "    for word in abbreviations:\n",
    "        if not overall_detection_approach(word):\n",
    "            fn_count +=1\n",
    "    return fn_count\n",
    "\n",
    "def count_FPs():\n",
    "    fp_count = 0\n",
    "    for word in expansions:\n",
    "        if overall_detection_approach(word):\n",
    "            fp_count += 1\n",
    "    return fp_count"
   ]
  },
  {
   "cell_type": "code",
   "execution_count": 22,
   "id": "83a32861",
   "metadata": {},
   "outputs": [],
   "source": [
    "FP = count_FPs()\n",
    "FN = count_FNs()\n",
    "TP = len(abbreviations) - FN\n",
    "if TP + FP == 0:\n",
    "    precision = 0\n",
    "else:\n",
    "    precision = TP/(TP + FP)\n",
    "if TP + FN == 0:\n",
    "    recall = 0\n",
    "else:\n",
    "    recall = TP/(TP + FN)\n",
    "f1 = (2*recall*precision)/(recall + precision)\n",
    "result = {\"Precision\": [precision],\n",
    "          \"Recall\" : [recall], \n",
    "          \"F1\" : [f1]}"
   ]
  },
  {
   "cell_type": "code",
   "execution_count": 23,
   "id": "9aee6307",
   "metadata": {
    "scrolled": true
   },
   "outputs": [
    {
     "data": {
      "text/html": [
       "<div>\n",
       "<style scoped>\n",
       "    .dataframe tbody tr th:only-of-type {\n",
       "        vertical-align: middle;\n",
       "    }\n",
       "\n",
       "    .dataframe tbody tr th {\n",
       "        vertical-align: top;\n",
       "    }\n",
       "\n",
       "    .dataframe thead th {\n",
       "        text-align: right;\n",
       "    }\n",
       "</style>\n",
       "<table border=\"1\" class=\"dataframe\">\n",
       "  <thead>\n",
       "    <tr style=\"text-align: right;\">\n",
       "      <th></th>\n",
       "      <th>Precision</th>\n",
       "      <th>Recall</th>\n",
       "      <th>F1</th>\n",
       "    </tr>\n",
       "  </thead>\n",
       "  <tbody>\n",
       "    <tr>\n",
       "      <th>0</th>\n",
       "      <td>0.95496</td>\n",
       "      <td>0.93785</td>\n",
       "      <td>0.946328</td>\n",
       "    </tr>\n",
       "  </tbody>\n",
       "</table>\n",
       "</div>"
      ],
      "text/plain": [
       "   Precision   Recall        F1\n",
       "0    0.95496  0.93785  0.946328"
      ]
     },
     "execution_count": 23,
     "metadata": {},
     "output_type": "execute_result"
    }
   ],
   "source": [
    "pd.DataFrame.from_dict(result)"
   ]
  },
  {
   "cell_type": "code",
   "execution_count": null,
   "id": "c10aaddc",
   "metadata": {},
   "outputs": [],
   "source": []
  }
 ],
 "metadata": {
  "kernelspec": {
   "display_name": "Python 3",
   "language": "python",
   "name": "python3"
  },
  "language_info": {
   "codemirror_mode": {
    "name": "ipython",
    "version": 3
   },
   "file_extension": ".py",
   "mimetype": "text/x-python",
   "name": "python",
   "nbconvert_exporter": "python",
   "pygments_lexer": "ipython3",
   "version": "3.8.10"
  }
 },
 "nbformat": 4,
 "nbformat_minor": 5
}
