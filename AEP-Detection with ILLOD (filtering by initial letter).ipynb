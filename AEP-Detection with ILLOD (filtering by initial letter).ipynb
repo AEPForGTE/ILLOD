{
 "cells": [
  {
   "cell_type": "code",
   "execution_count": 1,
   "metadata": {
    "scrolled": true
   },
   "outputs": [],
   "source": [
    "import pandas as pd\n",
    "import string\n",
    "import pandas as pd\n",
    "import jellyfish\n",
    "import random"
   ]
  },
  {
   "cell_type": "markdown",
   "metadata": {},
   "source": [
    "# Abbreviation-Expansion List\n",
    "Before we go into the details of the ILLOD tool, we first will give some insights into our evaluation data for AEP-Detection"
   ]
  },
  {
   "cell_type": "code",
   "execution_count": 2,
   "metadata": {},
   "outputs": [],
   "source": [
    "data = pd.read_csv('abbr_db.CSV', names=['abbr', 'long_forms'], sep=';', encoding='utf8')\n",
    "abbreviations = list(data['abbr'].values)\n",
    "expansions = list(data['long_forms'].values)\n",
    "#for i, abb in enumerate(abbreviations):\n",
    "#    print(str(i) + \": \" + abb + \"| \" + expansions[i])"
   ]
  },
  {
   "cell_type": "markdown",
   "metadata": {},
   "source": [
    "# Introducing Helper Functions\n",
    "These helper functions are needed in order to provide important methods for syntactic and semantic similarity measures and for ILLOD. We need a method to calculate the dice coefficient between two given strings since the jellyfish package doesnt provide this funcionality"
   ]
  },
  {
   "cell_type": "code",
   "execution_count": 3,
   "metadata": {},
   "outputs": [],
   "source": [
    "def dice_coefficient(a, b):\n",
    "    \"\"\"dice coefficient 2nt/(na + nb).\"\"\"\n",
    "    a_bigrams = set(a.lower())\n",
    "    b_bigrams = set(b.lower())\n",
    "    overlap = len(a_bigrams & b_bigrams)\n",
    "    return overlap * 2.0 / (len(a_bigrams) + len(b_bigrams))"
   ]
  },
  {
   "cell_type": "markdown",
   "metadata": {},
   "source": [
    "### Method to remove puntuation marks from  a given strings "
   ]
  },
  {
   "cell_type": "code",
   "execution_count": 4,
   "metadata": {},
   "outputs": [],
   "source": [
    "def clean_string(s):\n",
    "    s_lower = s.lower()\n",
    "    invalidcharacters = set(string.punctuation)\n",
    "    if any(char in invalidcharacters for char in s):\n",
    "        s_ = s_lower.translate(str.maketrans('', '', string.punctuation))\n",
    "    else:\n",
    "        s_ = s_lower\n",
    "    return s_"
   ]
  },
  {
   "cell_type": "markdown",
   "metadata": {},
   "source": [
    "### Method to remove stop words from  a given term"
   ]
  },
  {
   "cell_type": "code",
   "execution_count": 5,
   "metadata": {},
   "outputs": [],
   "source": [
    "def stop_words_handling(term):\n",
    "    splitted_term = term.split()\n",
    "    stop_words = set([\"for\", \"and\", \"of\", \"in\", \"via\", \"be\"])\n",
    "    \n",
    "    if splitted_term[0] in stop_words:\n",
    "        stop_words = stop_words - set([splitted_term[0]])\n",
    "                \n",
    "    for sw in stop_words:\n",
    "        while sw in splitted_term:\n",
    "            splitted_term.remove(sw)\n",
    "    sanitized_term = \" \".join([w for w in splitted_term]) \n",
    "        \n",
    "    return sanitized_term"
   ]
  },
  {
   "cell_type": "markdown",
   "metadata": {},
   "source": [
    "### Method to calculate and return $(a^{c}, potAbb(t^{c}))$  for a given pair $(a,t)$"
   ]
  },
  {
   "cell_type": "code",
   "execution_count": 6,
   "metadata": {},
   "outputs": [],
   "source": [
    "def clean_string_pair_and_reduce_expansion(abb, term):\n",
    "    abb_lower = abb.lower()\n",
    "    term_lower = term.lower()\n",
    "    sanitized_abbv = clean_string(abb_lower)\n",
    "    sanitized_term = clean_string(term_lower)   \n",
    "    sanitized_term_without_stopswords = stop_words_handling(sanitized_term)\n",
    "    initial_letters_of_tokens_of_sanitized_term_without_stopswords = ''.join([c[0] for c in sanitized_term_without_stopswords.split()])\n",
    "    return sanitized_abbv, initial_letters_of_tokens_of_sanitized_term_without_stopswords"
   ]
  },
  {
   "cell_type": "markdown",
   "metadata": {},
   "source": [
    "# Classifiers based on semantic similarity (FastText)\n",
    "## Algortihm 1"
   ]
  },
  {
   "cell_type": "code",
   "execution_count": 7,
   "metadata": {},
   "outputs": [
    {
     "name": "stderr",
     "output_type": "stream",
     "text": [
      "Warning : `load_model` does not return WordVectorModel or SupervisedModel any more, but a `FastText` object which is very similar.\n"
     ]
    }
   ],
   "source": [
    "import fasttext\n",
    "import fasttext.util\n",
    "from scipy import spatial\n",
    "# fasttext.util.download_model('en', if_exists='ignore')\n",
    "ft = fasttext.load_model(\"cc.en.300.bin\")"
   ]
  },
  {
   "cell_type": "code",
   "execution_count": 8,
   "metadata": {},
   "outputs": [],
   "source": [
    "def fast_text_similarity(a, t, threshold):\n",
    "    \n",
    "    a_v = ft.get_word_vector(a)\n",
    "    t_v = ft.get_word_vector(t)\n",
    "    if 1 - spatial.distance.cosine(a_v, t_v) >= threshold:\n",
    "        return True\n",
    "    else:\n",
    "        return False"
   ]
  },
  {
   "cell_type": "markdown",
   "metadata": {},
   "source": [
    "##  Cosine Similarity on Fasttext Wordvectors"
   ]
  },
  {
   "cell_type": "code",
   "execution_count": 9,
   "metadata": {},
   "outputs": [],
   "source": [
    "def fast_text_sim(a, t):\n",
    "    \n",
    "    a_v = ft.get_word_vector(a)\n",
    "    t_v = ft.get_word_vector(t)\n",
    "    return 1 - spatial.distance.cosine(a_v, t_v)"
   ]
  },
  {
   "cell_type": "code",
   "execution_count": null,
   "metadata": {},
   "outputs": [],
   "source": []
  },
  {
   "cell_type": "markdown",
   "metadata": {},
   "source": [
    "# Classifiers based on syntactic similarity (LD, JWS, DC, DC)\n",
    "## Algorithm 2 in different variants"
   ]
  },
  {
   "cell_type": "code",
   "execution_count": 10,
   "metadata": {},
   "outputs": [],
   "source": [
    "def levensthein_distance_on_reduction_of_expansion(a, term, threshold):\n",
    "    a_, t_ = clean_string_pair_and_reduce_expansion(a, term)\n",
    "    if jellyfish.levenshtein_distance(a_, t_) <= threshold:\n",
    "        return True\n",
    "    else:\n",
    "        return False"
   ]
  },
  {
   "cell_type": "code",
   "execution_count": 11,
   "metadata": {},
   "outputs": [],
   "source": [
    "def jaro_winkler_similarity_on_reduction_of_expansion(a, term, threshold):\n",
    "    a_, t_ = clean_string_pair_and_reduce_expansion(a, term)\n",
    "    if jellyfish.jaro_winkler_similarity(a_, t_) >= threshold:\n",
    "        return True\n",
    "    else:\n",
    "        return False"
   ]
  },
  {
   "cell_type": "code",
   "execution_count": 12,
   "metadata": {},
   "outputs": [],
   "source": [
    "def dice_coefficient_on_reduction_of_expansion(a, term, threshold):\n",
    "    a_, t_ = clean_string_pair_and_reduce_expansion(a, term)\n",
    "    if dice_coefficient(a_, t_) >= threshold:\n",
    "        return True\n",
    "    else:\n",
    "        return False"
   ]
  },
  {
   "cell_type": "code",
   "execution_count": null,
   "metadata": {},
   "outputs": [],
   "source": []
  },
  {
   "cell_type": "markdown",
   "metadata": {},
   "source": [
    "# ILLOD with its Methods (Section 4.3)"
   ]
  },
  {
   "cell_type": "code",
   "execution_count": 22,
   "metadata": {},
   "outputs": [],
   "source": [
    "def check_initial_letters(a, t):\n",
    "    initial_letters_of_tokens_of_t = ''.join([c[0] for c in t.split()])\n",
    "    if initial_letters_of_tokens_of_t == a or initial_letters_of_tokens_of_t.upper() == a:\n",
    "        return True"
   ]
  },
  {
   "cell_type": "code",
   "execution_count": 23,
   "metadata": {},
   "outputs": [],
   "source": [
    "def check_length_consistency(a, t):\n",
    "    length_consistency = False\n",
    "    if len(t.split()) <= len(a):\n",
    "        length_consistency = True\n",
    "    return length_consistency"
   ]
  },
  {
   "cell_type": "code",
   "execution_count": 24,
   "metadata": {},
   "outputs": [],
   "source": [
    "def check_order(a, t):\n",
    "    abbv_reversed = a.lower()[::-1]\n",
    "    term_reversed = t.lower()[::-1]\n",
    "    len_of_term = len(t)\n",
    "    \n",
    "    pos_memory = 0\n",
    "    pos_memory_list = []\n",
    "    order_matching_string_rev = \"\"\n",
    "    \n",
    "    for j, char_from_abbv in enumerate(abbv_reversed):\n",
    "        if j == len(abbv_reversed) - 1 and len(pos_memory_list) > 0 and pos_memory == len(term_reversed):\n",
    "            break\n",
    "        else:\n",
    "            for i, char_from_term in enumerate(term_reversed[pos_memory:]):\n",
    "                if char_from_abbv == char_from_term:\n",
    "                    order_matching_string_rev = order_matching_string_rev + char_from_abbv\n",
    "                    pos_memory = pos_memory + i + 1\n",
    "                    pos_memory_list.append(len_of_term - pos_memory)\n",
    "                    break\n",
    "    if order_matching_string_rev == abbv_reversed:\n",
    "        return True, pos_memory_list[::-1]\n",
    "    else:\n",
    "        return False, []"
   ]
  },
  {
   "cell_type": "code",
   "execution_count": 25,
   "metadata": {},
   "outputs": [],
   "source": [
    "def check_distribution_of_matching_characters(pos_of_chars_list, t):\n",
    "    term_intervals = []\n",
    "    len_of_term = len(t)\n",
    "    i = 0\n",
    "    while i < len_of_term:\n",
    "        sublist = []\n",
    "        j = i\n",
    "        while j < len_of_term and t[j] != \" \":\n",
    "            sublist.append(j)\n",
    "            j = j+ 1\n",
    "        i = j+1\n",
    "        term_intervals.append(sublist)\n",
    "        \n",
    "    splitted_term = t.split()      \n",
    "    \n",
    "    containment_list = []\n",
    "    for i, interval in enumerate(term_intervals):\n",
    "        contanment_sublist = []\n",
    "        for pos in pos_of_chars_list:\n",
    "            if (pos in interval) and (splitted_term[i][0] == t[pos]):\n",
    "                contanment_sublist.append(0)\n",
    "            elif pos in interval:\n",
    "                contanment_sublist.append(interval.index(pos))\n",
    "        if len(contanment_sublist) == 0:\n",
    "            contanment_sublist.append(-1)\n",
    "        containment_list.append(contanment_sublist)\n",
    "    \n",
    "    result_of_distribution_check = False\n",
    "    if len(containment_list) <= 1:\n",
    "        result_of_distribution_check = True\n",
    "    elif len (containment_list) >= 2:\n",
    "        non_zero_count = 0\n",
    "        for sublist in containment_list[1:]:\n",
    "            if len(sublist) == 1 and 0 not in sublist:\n",
    "                non_zero_count += 1\n",
    "        if non_zero_count == 0:\n",
    "            result_of_distribution_check = True\n",
    "    \n",
    "    return result_of_distribution_check"
   ]
  },
  {
   "cell_type": "code",
   "execution_count": 26,
   "metadata": {},
   "outputs": [],
   "source": [
    "def illod(abbv, term, threshold=None):\n",
    "    if (abbv[0].lower() == term[0].lower()):\n",
    "        \n",
    "        \n",
    "        ###################################### Step (a) ##########################################\n",
    "        # check wether initial letters of tokens in t match with the letters in abbreviation\n",
    "        if check_initial_letters(abbv, term):\n",
    "            return True\n",
    "        \n",
    "        \n",
    "        \n",
    "        ###################################### Step (b) ########################################\n",
    "        # clean abbreviation and term from special characters and stopwords\n",
    "        a_, t_ = clean_string_pair_and_reduce_expansion(abbv, term)\n",
    "        if a_ == t_:\n",
    "            return True\n",
    "        \n",
    "        sanitized_abbv = clean_string(abbv) \n",
    "        sanitized_term = clean_string(term)\n",
    "        sanitized_term_without_stopswords = stop_words_handling(sanitized_term)\n",
    "        sanitized_term_without_stopswords_splitted  = sanitized_term_without_stopswords.split()\n",
    "        \n",
    "        ###################################### Step (c), (d), (e) ###############################\n",
    "        # Sequential call of the methods that check and compare lengths, order and distribution of characters\n",
    "        length_consistency = check_length_consistency(sanitized_abbv, sanitized_term_without_stopswords)\n",
    "        order, pos_of_chars_list = check_order(sanitized_abbv, sanitized_term_without_stopswords)\n",
    "        distribution = check_distribution_of_matching_characters(pos_of_chars_list, sanitized_term_without_stopswords)\n",
    "\n",
    "\n",
    "        if length_consistency and order and distribution:\n",
    "            return True\n",
    "        else:\n",
    "            return False\n",
    "\n",
    "        ################################## in case first letter differs ##########################\n",
    "    else:\n",
    "        return False"
   ]
  },
  {
   "cell_type": "markdown",
   "metadata": {},
   "source": [
    "# Evaluation of the 3 different AEP-Detection Types (Section 4.4)"
   ]
  },
  {
   "cell_type": "code",
   "execution_count": 41,
   "metadata": {},
   "outputs": [],
   "source": [
    "def find_and_count_false_negatives(algo, threshold):\n",
    "    FN = 0\n",
    "    for i, abb in enumerate(abbreviations):\n",
    "        if not algo(abb, expansions[i], threshold):\n",
    "            # print(\"\\\"\"+abb+\"\\\"\"+\", \"+\"\\\"\"+expansions[i]+\"\\\"\")\n",
    "            FN += 1\n",
    "    return FN, str(FN) + \" FALSE NEGATIVES. Pairs that could not be detected out of \" + str(len(abbreviations)) + \" given pairs\""
   ]
  },
  {
   "cell_type": "markdown",
   "metadata": {},
   "source": [
    "## New adjustment: The set $S$ is filled with AEPs, where both words have the  same initial letter"
   ]
  },
  {
   "cell_type": "code",
   "execution_count": 47,
   "metadata": {},
   "outputs": [],
   "source": [
    "def find_and_count_false_positives(algo, threshold, alpha):\n",
    "    il_dict = {}\n",
    "    for abbr in abbreviations:\n",
    "        iL = abbr[0].lower()\n",
    "        if iL not in il_dict:\n",
    "            il_dict[iL] = [exp for exp in expansions if exp[0].lower() == iL]\n",
    "    \n",
    "    test_set = []\n",
    "    while len(test_set) <= alpha * len(abbreviations):\n",
    "        rd1 = random.randint(0, len(abbreviations)-1)\n",
    "        rd2 = random.randint(0, len(il_dict[abbreviations[rd1][0].lower()])-1)\n",
    "        test_set.append((abbreviations[rd1], il_dict[abbreviations[rd1][0].lower()][rd2]))\n",
    "            \n",
    "    count_of_false_examples = 0\n",
    "    FP = 0\n",
    "    for j, tup in enumerate (test_set): \n",
    "        if algo(tup[0], tup[1], threshold):\n",
    "            count_of_false_examples += 1\n",
    "            FP +=1\n",
    "    return FP, str(FP) + \" FALSE POSITIVE detections out of \" +  str(len(test_set)) + \" created false examples\""
   ]
  },
  {
   "cell_type": "markdown",
   "metadata": {},
   "source": [
    "## Test of new S creation method:"
   ]
  },
  {
   "cell_type": "code",
   "execution_count": 59,
   "metadata": {
    "scrolled": true
   },
   "outputs": [
    {
     "name": "stdout",
     "output_type": "stream",
     "text": [
      "('OP', 'original poster')\n",
      "('AVI', 'Amazon Web Services')\n",
      "('FIFO', 'fast page mode')\n",
      "('ADO', 'American Standard Code for Information Interchange')\n",
      "('XSLT', 'X Window System')\n",
      "('MRU', 'man-in-the-middle attack')\n",
      "('RTC', 'Reverse Address Resolution Protocol')\n",
      "('BIU', 'beginning of message')\n",
      "('IPB', 'Intel comparative microprocessor performance')\n",
      "('SD', 'System Management Mode')\n",
      "('ASP', 'advanced power management')\n",
      "('EMF', 'extended memory specification')\n",
      "('GSM', 'gigabit / gigabyte')\n"
     ]
    }
   ],
   "source": [
    "il_dict = {}\n",
    "for abbr in abbreviations:\n",
    "    iL = abbr[0].lower()\n",
    "    if iL not in il_dict:\n",
    "        il_dict[iL] = [exp for exp in expansions if exp[0].lower() == iL]\n",
    "\n",
    "test_set = []\n",
    "while len(test_set) <= 12:\n",
    "    rd1 = random.randint(0, len(abbreviations)-1)\n",
    "    rd2 = random.randint(0, len(il_dict[abbreviations[rd1][0].lower()])-1)\n",
    "    test_set.append((abbreviations[rd1], il_dict[abbreviations[rd1][0].lower()][rd2]))\n",
    "\n",
    "for tup in test_set:\n",
    "    print(tup)"
   ]
  },
  {
   "cell_type": "markdown",
   "metadata": {},
   "source": [
    "## Test passed !"
   ]
  },
  {
   "cell_type": "code",
   "execution_count": 43,
   "metadata": {},
   "outputs": [],
   "source": [
    "def determine_quality_parameters(alpha, algo, search_space_for_F1_optimization):\n",
    "    max_f1 = 0\n",
    "    best_values = []\n",
    "    for th_ in search_space_for_F1_optimization:\n",
    "        result_on_L = find_and_count_false_negatives(algo, th_)\n",
    "        result_on_S = find_and_count_false_positives(algo, th_, alpha)\n",
    "        FN = result_on_L[0]\n",
    "        FP = result_on_S[0]\n",
    "        TP = len(abbreviations) - FN\n",
    "        \n",
    "        # A classifier that does nothing is not useful. This serves to avoid a division by zero    \n",
    "        if FP + TP == 0:\n",
    "            precision = 0\n",
    "            recall = 0\n",
    "            f1 = 0\n",
    "        else:\n",
    "            precision = TP/(TP + FP)\n",
    "            recall = TP/(TP + FN)\n",
    "            f1 = (2*precision*recall)/(precision+recall)\n",
    "            \n",
    "        # memorise the best F1 value in the loop so far.       \n",
    "        if f1 > max_f1:\n",
    "            best_values = [th_, precision, recall, f1]\n",
    "            max_f1 = f1\n",
    "    return best_values"
   ]
  },
  {
   "cell_type": "code",
   "execution_count": 44,
   "metadata": {},
   "outputs": [],
   "source": [
    "def evaluate_algorithm (algorithm, F1_optimization_search_space):\n",
    "    eval_data = {}\n",
    "    for alpha in [8, 16, 24, 48, 72]:\n",
    "        max_f1 = 0\n",
    "        best_values = []     \n",
    "        eval_data[alpha] = determine_quality_parameters(alpha, algorithm, F1_optimization_search_space)\n",
    "    return eval_data"
   ]
  },
  {
   "cell_type": "code",
   "execution_count": 45,
   "metadata": {},
   "outputs": [],
   "source": [
    "step_list = [h/100 for h in list(range(0,100))]"
   ]
  },
  {
   "cell_type": "code",
   "execution_count": null,
   "metadata": {},
   "outputs": [],
   "source": []
  },
  {
   "cell_type": "markdown",
   "metadata": {},
   "source": [
    "## Evaluation metrics without filtering by initial letters (old values, we kept them for comparison with new terms)"
   ]
  },
  {
   "cell_type": "code",
   "execution_count": 73,
   "metadata": {
    "scrolled": true
   },
   "outputs": [
    {
     "name": "stderr",
     "output_type": "stream",
     "text": [
      "/home/ubuntu/anaconda3/lib/python3.7/site-packages/scipy/spatial/distance.py:720: RuntimeWarning: invalid value encountered in float_scalars\n",
      "  dist = 1.0 - uv / np.sqrt(uu * vv)\n"
     ]
    },
    {
     "data": {
      "text/html": [
       "<div>\n",
       "<style scoped>\n",
       "    .dataframe tbody tr th:only-of-type {\n",
       "        vertical-align: middle;\n",
       "    }\n",
       "\n",
       "    .dataframe tbody tr th {\n",
       "        vertical-align: top;\n",
       "    }\n",
       "\n",
       "    .dataframe thead th {\n",
       "        text-align: right;\n",
       "    }\n",
       "</style>\n",
       "<table border=\"1\" class=\"dataframe\">\n",
       "  <thead>\n",
       "    <tr style=\"text-align: right;\">\n",
       "      <th></th>\n",
       "      <th>threshold</th>\n",
       "      <th>precision</th>\n",
       "      <th>recall</th>\n",
       "      <th>F1</th>\n",
       "    </tr>\n",
       "  </thead>\n",
       "  <tbody>\n",
       "    <tr>\n",
       "      <th>8</th>\n",
       "      <td>0.12</td>\n",
       "      <td>0.217585</td>\n",
       "      <td>0.437850</td>\n",
       "      <td>0.290706</td>\n",
       "    </tr>\n",
       "    <tr>\n",
       "      <th>16</th>\n",
       "      <td>0.13</td>\n",
       "      <td>0.128668</td>\n",
       "      <td>0.382979</td>\n",
       "      <td>0.192622</td>\n",
       "    </tr>\n",
       "    <tr>\n",
       "      <th>24</th>\n",
       "      <td>0.15</td>\n",
       "      <td>0.098640</td>\n",
       "      <td>0.288354</td>\n",
       "      <td>0.146996</td>\n",
       "    </tr>\n",
       "    <tr>\n",
       "      <th>48</th>\n",
       "      <td>0.16</td>\n",
       "      <td>0.053063</td>\n",
       "      <td>0.253639</td>\n",
       "      <td>0.087765</td>\n",
       "    </tr>\n",
       "    <tr>\n",
       "      <th>72</th>\n",
       "      <td>0.41</td>\n",
       "      <td>0.080103</td>\n",
       "      <td>0.052072</td>\n",
       "      <td>0.063115</td>\n",
       "    </tr>\n",
       "  </tbody>\n",
       "</table>\n",
       "</div>"
      ],
      "text/plain": [
       "    threshold  precision    recall        F1\n",
       "8        0.12   0.217585  0.437850  0.290706\n",
       "16       0.13   0.128668  0.382979  0.192622\n",
       "24       0.15   0.098640  0.288354  0.146996\n",
       "48       0.16   0.053063  0.253639  0.087765\n",
       "72       0.41   0.080103  0.052072  0.063115"
      ]
     },
     "execution_count": 73,
     "metadata": {},
     "output_type": "execute_result"
    }
   ],
   "source": [
    "pd.DataFrame.from_dict(evaluate_algorithm (fast_text_similarity, step_list), orient=\"index\", columns=[\"threshold\", \"precision\", \"recall\", \"F1\"])"
   ]
  },
  {
   "cell_type": "code",
   "execution_count": 74,
   "metadata": {},
   "outputs": [
    {
     "data": {
      "text/html": [
       "<div>\n",
       "<style scoped>\n",
       "    .dataframe tbody tr th:only-of-type {\n",
       "        vertical-align: middle;\n",
       "    }\n",
       "\n",
       "    .dataframe tbody tr th {\n",
       "        vertical-align: top;\n",
       "    }\n",
       "\n",
       "    .dataframe thead th {\n",
       "        text-align: right;\n",
       "    }\n",
       "</style>\n",
       "<table border=\"1\" class=\"dataframe\">\n",
       "  <thead>\n",
       "    <tr style=\"text-align: right;\">\n",
       "      <th></th>\n",
       "      <th>threshold</th>\n",
       "      <th>precision</th>\n",
       "      <th>recall</th>\n",
       "      <th>F1</th>\n",
       "    </tr>\n",
       "  </thead>\n",
       "  <tbody>\n",
       "    <tr>\n",
       "      <th>8</th>\n",
       "      <td>1</td>\n",
       "      <td>0.909033</td>\n",
       "      <td>0.805711</td>\n",
       "      <td>0.854259</td>\n",
       "    </tr>\n",
       "    <tr>\n",
       "      <th>16</th>\n",
       "      <td>1</td>\n",
       "      <td>0.831792</td>\n",
       "      <td>0.805711</td>\n",
       "      <td>0.818544</td>\n",
       "    </tr>\n",
       "    <tr>\n",
       "      <th>24</th>\n",
       "      <td>1</td>\n",
       "      <td>0.751436</td>\n",
       "      <td>0.805711</td>\n",
       "      <td>0.777628</td>\n",
       "    </tr>\n",
       "    <tr>\n",
       "      <th>48</th>\n",
       "      <td>0</td>\n",
       "      <td>0.989109</td>\n",
       "      <td>0.559351</td>\n",
       "      <td>0.714592</td>\n",
       "    </tr>\n",
       "    <tr>\n",
       "      <th>72</th>\n",
       "      <td>0</td>\n",
       "      <td>0.980373</td>\n",
       "      <td>0.559351</td>\n",
       "      <td>0.712299</td>\n",
       "    </tr>\n",
       "  </tbody>\n",
       "</table>\n",
       "</div>"
      ],
      "text/plain": [
       "    threshold  precision    recall        F1\n",
       "8           1   0.909033  0.805711  0.854259\n",
       "16          1   0.831792  0.805711  0.818544\n",
       "24          1   0.751436  0.805711  0.777628\n",
       "48          0   0.989109  0.559351  0.714592\n",
       "72          0   0.980373  0.559351  0.712299"
      ]
     },
     "execution_count": 74,
     "metadata": {},
     "output_type": "execute_result"
    }
   ],
   "source": [
    "# LD (LEVENSHTEIN_DISTANCE)\n",
    "pd.DataFrame.from_dict(evaluate_algorithm (levensthein_distance_on_reduction_of_expansion, list(range(0, 4))), orient=\"index\", columns=[\"threshold\", \"precision\", \"recall\", \"F1\"])"
   ]
  },
  {
   "cell_type": "code",
   "execution_count": 75,
   "metadata": {},
   "outputs": [
    {
     "data": {
      "text/html": [
       "<div>\n",
       "<style scoped>\n",
       "    .dataframe tbody tr th:only-of-type {\n",
       "        vertical-align: middle;\n",
       "    }\n",
       "\n",
       "    .dataframe tbody tr th {\n",
       "        vertical-align: top;\n",
       "    }\n",
       "\n",
       "    .dataframe thead th {\n",
       "        text-align: right;\n",
       "    }\n",
       "</style>\n",
       "<table border=\"1\" class=\"dataframe\">\n",
       "  <thead>\n",
       "    <tr style=\"text-align: right;\">\n",
       "      <th></th>\n",
       "      <th>threshold</th>\n",
       "      <th>precision</th>\n",
       "      <th>recall</th>\n",
       "      <th>F1</th>\n",
       "    </tr>\n",
       "  </thead>\n",
       "  <tbody>\n",
       "    <tr>\n",
       "      <th>8</th>\n",
       "      <td>0.77</td>\n",
       "      <td>0.904564</td>\n",
       "      <td>0.854423</td>\n",
       "      <td>0.878779</td>\n",
       "    </tr>\n",
       "    <tr>\n",
       "      <th>16</th>\n",
       "      <td>0.79</td>\n",
       "      <td>0.869795</td>\n",
       "      <td>0.830347</td>\n",
       "      <td>0.849613</td>\n",
       "    </tr>\n",
       "    <tr>\n",
       "      <th>24</th>\n",
       "      <td>0.84</td>\n",
       "      <td>0.923861</td>\n",
       "      <td>0.760918</td>\n",
       "      <td>0.834510</td>\n",
       "    </tr>\n",
       "    <tr>\n",
       "      <th>48</th>\n",
       "      <td>0.84</td>\n",
       "      <td>0.862857</td>\n",
       "      <td>0.760918</td>\n",
       "      <td>0.808688</td>\n",
       "    </tr>\n",
       "    <tr>\n",
       "      <th>72</th>\n",
       "      <td>0.86</td>\n",
       "      <td>0.889685</td>\n",
       "      <td>0.695409</td>\n",
       "      <td>0.780641</td>\n",
       "    </tr>\n",
       "  </tbody>\n",
       "</table>\n",
       "</div>"
      ],
      "text/plain": [
       "    threshold  precision    recall        F1\n",
       "8        0.77   0.904564  0.854423  0.878779\n",
       "16       0.79   0.869795  0.830347  0.849613\n",
       "24       0.84   0.923861  0.760918  0.834510\n",
       "48       0.84   0.862857  0.760918  0.808688\n",
       "72       0.86   0.889685  0.695409  0.780641"
      ]
     },
     "execution_count": 75,
     "metadata": {},
     "output_type": "execute_result"
    }
   ],
   "source": [
    "# JWS (JARO-WINKLER-SIMILARITY)\n",
    "pd.DataFrame.from_dict(evaluate_algorithm (jaro_winkler_similarity_on_reduction_of_expansion, step_list), orient=\"index\", columns=[\"threshold\", \"precision\", \"recall\", \"F1\"])"
   ]
  },
  {
   "cell_type": "code",
   "execution_count": 76,
   "metadata": {
    "scrolled": true
   },
   "outputs": [
    {
     "data": {
      "text/html": [
       "<div>\n",
       "<style scoped>\n",
       "    .dataframe tbody tr th:only-of-type {\n",
       "        vertical-align: middle;\n",
       "    }\n",
       "\n",
       "    .dataframe tbody tr th {\n",
       "        vertical-align: top;\n",
       "    }\n",
       "\n",
       "    .dataframe thead th {\n",
       "        text-align: right;\n",
       "    }\n",
       "</style>\n",
       "<table border=\"1\" class=\"dataframe\">\n",
       "  <thead>\n",
       "    <tr style=\"text-align: right;\">\n",
       "      <th></th>\n",
       "      <th>threshold</th>\n",
       "      <th>precision</th>\n",
       "      <th>recall</th>\n",
       "      <th>F1</th>\n",
       "    </tr>\n",
       "  </thead>\n",
       "  <tbody>\n",
       "    <tr>\n",
       "      <th>8</th>\n",
       "      <td>0.67</td>\n",
       "      <td>0.924566</td>\n",
       "      <td>0.775476</td>\n",
       "      <td>0.843484</td>\n",
       "    </tr>\n",
       "    <tr>\n",
       "      <th>16</th>\n",
       "      <td>0.76</td>\n",
       "      <td>0.872587</td>\n",
       "      <td>0.759239</td>\n",
       "      <td>0.811976</td>\n",
       "    </tr>\n",
       "    <tr>\n",
       "      <th>24</th>\n",
       "      <td>0.80</td>\n",
       "      <td>0.816265</td>\n",
       "      <td>0.758679</td>\n",
       "      <td>0.786419</td>\n",
       "    </tr>\n",
       "    <tr>\n",
       "      <th>48</th>\n",
       "      <td>0.82</td>\n",
       "      <td>0.871546</td>\n",
       "      <td>0.653415</td>\n",
       "      <td>0.746880</td>\n",
       "    </tr>\n",
       "    <tr>\n",
       "      <th>72</th>\n",
       "      <td>0.81</td>\n",
       "      <td>0.811544</td>\n",
       "      <td>0.653415</td>\n",
       "      <td>0.723945</td>\n",
       "    </tr>\n",
       "  </tbody>\n",
       "</table>\n",
       "</div>"
      ],
      "text/plain": [
       "    threshold  precision    recall        F1\n",
       "8        0.67   0.924566  0.775476  0.843484\n",
       "16       0.76   0.872587  0.759239  0.811976\n",
       "24       0.80   0.816265  0.758679  0.786419\n",
       "48       0.82   0.871546  0.653415  0.746880\n",
       "72       0.81   0.811544  0.653415  0.723945"
      ]
     },
     "execution_count": 76,
     "metadata": {},
     "output_type": "execute_result"
    }
   ],
   "source": [
    "# DC (DICE-COEFFICIENT)\n",
    "pd.DataFrame.from_dict(evaluate_algorithm (dice_coefficient_on_reduction_of_expansion , step_list), orient=\"index\", columns=[\"threshold\", \"precision\", \"recall\", \"F1\"])"
   ]
  },
  {
   "cell_type": "code",
   "execution_count": 77,
   "metadata": {},
   "outputs": [
    {
     "data": {
      "text/html": [
       "<div>\n",
       "<style scoped>\n",
       "    .dataframe tbody tr th:only-of-type {\n",
       "        vertical-align: middle;\n",
       "    }\n",
       "\n",
       "    .dataframe tbody tr th {\n",
       "        vertical-align: top;\n",
       "    }\n",
       "\n",
       "    .dataframe thead th {\n",
       "        text-align: right;\n",
       "    }\n",
       "</style>\n",
       "<table border=\"1\" class=\"dataframe\">\n",
       "  <thead>\n",
       "    <tr style=\"text-align: right;\">\n",
       "      <th></th>\n",
       "      <th>threshold</th>\n",
       "      <th>precision</th>\n",
       "      <th>recall</th>\n",
       "      <th>F1</th>\n",
       "    </tr>\n",
       "  </thead>\n",
       "  <tbody>\n",
       "    <tr>\n",
       "      <th>8</th>\n",
       "      <td>-1</td>\n",
       "      <td>0.986675</td>\n",
       "      <td>0.912094</td>\n",
       "      <td>0.947920</td>\n",
       "    </tr>\n",
       "    <tr>\n",
       "      <th>16</th>\n",
       "      <td>-1</td>\n",
       "      <td>0.969066</td>\n",
       "      <td>0.912094</td>\n",
       "      <td>0.939717</td>\n",
       "    </tr>\n",
       "    <tr>\n",
       "      <th>24</th>\n",
       "      <td>-1</td>\n",
       "      <td>0.961629</td>\n",
       "      <td>0.912094</td>\n",
       "      <td>0.936207</td>\n",
       "    </tr>\n",
       "    <tr>\n",
       "      <th>48</th>\n",
       "      <td>-1</td>\n",
       "      <td>0.927149</td>\n",
       "      <td>0.912094</td>\n",
       "      <td>0.919560</td>\n",
       "    </tr>\n",
       "    <tr>\n",
       "      <th>72</th>\n",
       "      <td>-1</td>\n",
       "      <td>0.890651</td>\n",
       "      <td>0.912094</td>\n",
       "      <td>0.901245</td>\n",
       "    </tr>\n",
       "  </tbody>\n",
       "</table>\n",
       "</div>"
      ],
      "text/plain": [
       "    threshold  precision    recall        F1\n",
       "8          -1   0.986675  0.912094  0.947920\n",
       "16         -1   0.969066  0.912094  0.939717\n",
       "24         -1   0.961629  0.912094  0.936207\n",
       "48         -1   0.927149  0.912094  0.919560\n",
       "72         -1   0.890651  0.912094  0.901245"
      ]
     },
     "execution_count": 77,
     "metadata": {},
     "output_type": "execute_result"
    }
   ],
   "source": [
    "# ILLOD\n",
    "pd.DataFrame.from_dict(evaluate_algorithm (illod, [-1]), orient=\"index\", columns=[\"threshold\", \"precision\", \"recall\", \"F1\"])"
   ]
  },
  {
   "cell_type": "code",
   "execution_count": null,
   "metadata": {},
   "outputs": [],
   "source": []
  },
  {
   "cell_type": "markdown",
   "metadata": {},
   "source": [
    "## New evaluation metrics with filtering by initial letters"
   ]
  },
  {
   "cell_type": "code",
   "execution_count": 49,
   "metadata": {},
   "outputs": [
    {
     "name": "stderr",
     "output_type": "stream",
     "text": [
      "/home/ubuntu/anaconda3/lib/python3.7/site-packages/scipy/spatial/distance.py:720: RuntimeWarning: invalid value encountered in float_scalars\n",
      "  dist = 1.0 - uv / np.sqrt(uu * vv)\n"
     ]
    },
    {
     "data": {
      "text/html": [
       "<div>\n",
       "<style scoped>\n",
       "    .dataframe tbody tr th:only-of-type {\n",
       "        vertical-align: middle;\n",
       "    }\n",
       "\n",
       "    .dataframe tbody tr th {\n",
       "        vertical-align: top;\n",
       "    }\n",
       "\n",
       "    .dataframe thead th {\n",
       "        text-align: right;\n",
       "    }\n",
       "</style>\n",
       "<table border=\"1\" class=\"dataframe\">\n",
       "  <thead>\n",
       "    <tr style=\"text-align: right;\">\n",
       "      <th></th>\n",
       "      <th>threshold</th>\n",
       "      <th>precision</th>\n",
       "      <th>recall</th>\n",
       "      <th>F1</th>\n",
       "    </tr>\n",
       "  </thead>\n",
       "  <tbody>\n",
       "    <tr>\n",
       "      <th>8</th>\n",
       "      <td>0.13</td>\n",
       "      <td>0.216799</td>\n",
       "      <td>0.382979</td>\n",
       "      <td>0.276867</td>\n",
       "    </tr>\n",
       "    <tr>\n",
       "      <th>16</th>\n",
       "      <td>0.13</td>\n",
       "      <td>0.119434</td>\n",
       "      <td>0.382979</td>\n",
       "      <td>0.182084</td>\n",
       "    </tr>\n",
       "    <tr>\n",
       "      <th>24</th>\n",
       "      <td>0.16</td>\n",
       "      <td>0.094829</td>\n",
       "      <td>0.253639</td>\n",
       "      <td>0.138047</td>\n",
       "    </tr>\n",
       "    <tr>\n",
       "      <th>48</th>\n",
       "      <td>0.16</td>\n",
       "      <td>0.049562</td>\n",
       "      <td>0.253639</td>\n",
       "      <td>0.082921</td>\n",
       "    </tr>\n",
       "    <tr>\n",
       "      <th>72</th>\n",
       "      <td>0.16</td>\n",
       "      <td>0.033294</td>\n",
       "      <td>0.253639</td>\n",
       "      <td>0.058862</td>\n",
       "    </tr>\n",
       "  </tbody>\n",
       "</table>\n",
       "</div>"
      ],
      "text/plain": [
       "    threshold  precision    recall        F1\n",
       "8        0.13   0.216799  0.382979  0.276867\n",
       "16       0.13   0.119434  0.382979  0.182084\n",
       "24       0.16   0.094829  0.253639  0.138047\n",
       "48       0.16   0.049562  0.253639  0.082921\n",
       "72       0.16   0.033294  0.253639  0.058862"
      ]
     },
     "execution_count": 49,
     "metadata": {},
     "output_type": "execute_result"
    }
   ],
   "source": [
    "pd.DataFrame.from_dict(evaluate_algorithm (fast_text_similarity, step_list), orient=\"index\", columns=[\"threshold\", \"precision\", \"recall\", \"F1\"])"
   ]
  },
  {
   "cell_type": "code",
   "execution_count": 48,
   "metadata": {},
   "outputs": [
    {
     "data": {
      "text/html": [
       "<div>\n",
       "<style scoped>\n",
       "    .dataframe tbody tr th:only-of-type {\n",
       "        vertical-align: middle;\n",
       "    }\n",
       "\n",
       "    .dataframe tbody tr th {\n",
       "        vertical-align: top;\n",
       "    }\n",
       "\n",
       "    .dataframe thead th {\n",
       "        text-align: right;\n",
       "    }\n",
       "</style>\n",
       "<table border=\"1\" class=\"dataframe\">\n",
       "  <thead>\n",
       "    <tr style=\"text-align: right;\">\n",
       "      <th></th>\n",
       "      <th>threshold</th>\n",
       "      <th>precision</th>\n",
       "      <th>recall</th>\n",
       "      <th>F1</th>\n",
       "    </tr>\n",
       "  </thead>\n",
       "  <tbody>\n",
       "    <tr>\n",
       "      <th>8</th>\n",
       "      <td>0</td>\n",
       "      <td>0.830424</td>\n",
       "      <td>0.559351</td>\n",
       "      <td>0.668451</td>\n",
       "    </tr>\n",
       "    <tr>\n",
       "      <th>16</th>\n",
       "      <td>0</td>\n",
       "      <td>0.731332</td>\n",
       "      <td>0.559351</td>\n",
       "      <td>0.633883</td>\n",
       "    </tr>\n",
       "    <tr>\n",
       "      <th>24</th>\n",
       "      <td>0</td>\n",
       "      <td>0.642444</td>\n",
       "      <td>0.559351</td>\n",
       "      <td>0.598025</td>\n",
       "    </tr>\n",
       "    <tr>\n",
       "      <th>48</th>\n",
       "      <td>0</td>\n",
       "      <td>0.487317</td>\n",
       "      <td>0.559351</td>\n",
       "      <td>0.520855</td>\n",
       "    </tr>\n",
       "    <tr>\n",
       "      <th>72</th>\n",
       "      <td>0</td>\n",
       "      <td>0.390692</td>\n",
       "      <td>0.559351</td>\n",
       "      <td>0.460051</td>\n",
       "    </tr>\n",
       "  </tbody>\n",
       "</table>\n",
       "</div>"
      ],
      "text/plain": [
       "    threshold  precision    recall        F1\n",
       "8           0   0.830424  0.559351  0.668451\n",
       "16          0   0.731332  0.559351  0.633883\n",
       "24          0   0.642444  0.559351  0.598025\n",
       "48          0   0.487317  0.559351  0.520855\n",
       "72          0   0.390692  0.559351  0.460051"
      ]
     },
     "execution_count": 48,
     "metadata": {},
     "output_type": "execute_result"
    }
   ],
   "source": [
    "# LD (LEVENSHTEIN_DISTANCE)\n",
    "pd.DataFrame.from_dict(evaluate_algorithm (levensthein_distance_on_reduction_of_expansion, list(range(0, 4))), orient=\"index\", columns=[\"threshold\", \"precision\", \"recall\", \"F1\"])"
   ]
  },
  {
   "cell_type": "code",
   "execution_count": 50,
   "metadata": {},
   "outputs": [
    {
     "data": {
      "text/html": [
       "<div>\n",
       "<style scoped>\n",
       "    .dataframe tbody tr th:only-of-type {\n",
       "        vertical-align: middle;\n",
       "    }\n",
       "\n",
       "    .dataframe tbody tr th {\n",
       "        vertical-align: top;\n",
       "    }\n",
       "\n",
       "    .dataframe thead th {\n",
       "        text-align: right;\n",
       "    }\n",
       "</style>\n",
       "<table border=\"1\" class=\"dataframe\">\n",
       "  <thead>\n",
       "    <tr style=\"text-align: right;\">\n",
       "      <th></th>\n",
       "      <th>threshold</th>\n",
       "      <th>precision</th>\n",
       "      <th>recall</th>\n",
       "      <th>F1</th>\n",
       "    </tr>\n",
       "  </thead>\n",
       "  <tbody>\n",
       "    <tr>\n",
       "      <th>8</th>\n",
       "      <td>0.92</td>\n",
       "      <td>0.839181</td>\n",
       "      <td>0.642777</td>\n",
       "      <td>0.727964</td>\n",
       "    </tr>\n",
       "    <tr>\n",
       "      <th>16</th>\n",
       "      <td>0.92</td>\n",
       "      <td>0.689076</td>\n",
       "      <td>0.642777</td>\n",
       "      <td>0.665122</td>\n",
       "    </tr>\n",
       "    <tr>\n",
       "      <th>24</th>\n",
       "      <td>0.93</td>\n",
       "      <td>0.635369</td>\n",
       "      <td>0.617581</td>\n",
       "      <td>0.626349</td>\n",
       "    </tr>\n",
       "    <tr>\n",
       "      <th>48</th>\n",
       "      <td>0.94</td>\n",
       "      <td>0.477191</td>\n",
       "      <td>0.597424</td>\n",
       "      <td>0.530582</td>\n",
       "    </tr>\n",
       "    <tr>\n",
       "      <th>72</th>\n",
       "      <td>0.94</td>\n",
       "      <td>0.380257</td>\n",
       "      <td>0.597424</td>\n",
       "      <td>0.464721</td>\n",
       "    </tr>\n",
       "  </tbody>\n",
       "</table>\n",
       "</div>"
      ],
      "text/plain": [
       "    threshold  precision    recall        F1\n",
       "8        0.92   0.839181  0.642777  0.727964\n",
       "16       0.92   0.689076  0.642777  0.665122\n",
       "24       0.93   0.635369  0.617581  0.626349\n",
       "48       0.94   0.477191  0.597424  0.530582\n",
       "72       0.94   0.380257  0.597424  0.464721"
      ]
     },
     "execution_count": 50,
     "metadata": {},
     "output_type": "execute_result"
    }
   ],
   "source": [
    "# JWS (JARO-WINKLER-SIMILARITY)\n",
    "pd.DataFrame.from_dict(evaluate_algorithm (jaro_winkler_similarity_on_reduction_of_expansion, step_list), orient=\"index\", columns=[\"threshold\", \"precision\", \"recall\", \"F1\"])"
   ]
  },
  {
   "cell_type": "code",
   "execution_count": 51,
   "metadata": {},
   "outputs": [
    {
     "data": {
      "text/html": [
       "<div>\n",
       "<style scoped>\n",
       "    .dataframe tbody tr th:only-of-type {\n",
       "        vertical-align: middle;\n",
       "    }\n",
       "\n",
       "    .dataframe tbody tr th {\n",
       "        vertical-align: top;\n",
       "    }\n",
       "\n",
       "    .dataframe thead th {\n",
       "        text-align: right;\n",
       "    }\n",
       "</style>\n",
       "<table border=\"1\" class=\"dataframe\">\n",
       "  <thead>\n",
       "    <tr style=\"text-align: right;\">\n",
       "      <th></th>\n",
       "      <th>threshold</th>\n",
       "      <th>precision</th>\n",
       "      <th>recall</th>\n",
       "      <th>F1</th>\n",
       "    </tr>\n",
       "  </thead>\n",
       "  <tbody>\n",
       "    <tr>\n",
       "      <th>8</th>\n",
       "      <td>0.84</td>\n",
       "      <td>0.787306</td>\n",
       "      <td>0.652856</td>\n",
       "      <td>0.713805</td>\n",
       "    </tr>\n",
       "    <tr>\n",
       "      <th>16</th>\n",
       "      <td>0.84</td>\n",
       "      <td>0.646341</td>\n",
       "      <td>0.652856</td>\n",
       "      <td>0.649582</td>\n",
       "    </tr>\n",
       "    <tr>\n",
       "      <th>24</th>\n",
       "      <td>0.92</td>\n",
       "      <td>0.603915</td>\n",
       "      <td>0.587346</td>\n",
       "      <td>0.595515</td>\n",
       "    </tr>\n",
       "    <tr>\n",
       "      <th>48</th>\n",
       "      <td>0.91</td>\n",
       "      <td>0.430271</td>\n",
       "      <td>0.587346</td>\n",
       "      <td>0.496686</td>\n",
       "    </tr>\n",
       "    <tr>\n",
       "      <th>72</th>\n",
       "      <td>0.86</td>\n",
       "      <td>0.325370</td>\n",
       "      <td>0.602464</td>\n",
       "      <td>0.422541</td>\n",
       "    </tr>\n",
       "  </tbody>\n",
       "</table>\n",
       "</div>"
      ],
      "text/plain": [
       "    threshold  precision    recall        F1\n",
       "8        0.84   0.787306  0.652856  0.713805\n",
       "16       0.84   0.646341  0.652856  0.649582\n",
       "24       0.92   0.603915  0.587346  0.595515\n",
       "48       0.91   0.430271  0.587346  0.496686\n",
       "72       0.86   0.325370  0.602464  0.422541"
      ]
     },
     "execution_count": 51,
     "metadata": {},
     "output_type": "execute_result"
    }
   ],
   "source": [
    "# DC (DICE-COEFFICIENT)\n",
    "pd.DataFrame.from_dict(evaluate_algorithm (dice_coefficient_on_reduction_of_expansion , step_list), orient=\"index\", columns=[\"threshold\", \"precision\", \"recall\", \"F1\"])"
   ]
  },
  {
   "cell_type": "code",
   "execution_count": 52,
   "metadata": {
    "scrolled": true
   },
   "outputs": [
    {
     "data": {
      "text/html": [
       "<div>\n",
       "<style scoped>\n",
       "    .dataframe tbody tr th:only-of-type {\n",
       "        vertical-align: middle;\n",
       "    }\n",
       "\n",
       "    .dataframe tbody tr th {\n",
       "        vertical-align: top;\n",
       "    }\n",
       "\n",
       "    .dataframe thead th {\n",
       "        text-align: right;\n",
       "    }\n",
       "</style>\n",
       "<table border=\"1\" class=\"dataframe\">\n",
       "  <thead>\n",
       "    <tr style=\"text-align: right;\">\n",
       "      <th></th>\n",
       "      <th>threshold</th>\n",
       "      <th>precision</th>\n",
       "      <th>recall</th>\n",
       "      <th>F1</th>\n",
       "    </tr>\n",
       "  </thead>\n",
       "  <tbody>\n",
       "    <tr>\n",
       "      <th>8</th>\n",
       "      <td>-1</td>\n",
       "      <td>0.720478</td>\n",
       "      <td>0.912094</td>\n",
       "      <td>0.805041</td>\n",
       "    </tr>\n",
       "    <tr>\n",
       "      <th>16</th>\n",
       "      <td>-1</td>\n",
       "      <td>0.575415</td>\n",
       "      <td>0.912094</td>\n",
       "      <td>0.705653</td>\n",
       "    </tr>\n",
       "    <tr>\n",
       "      <th>24</th>\n",
       "      <td>-1</td>\n",
       "      <td>0.466495</td>\n",
       "      <td>0.912094</td>\n",
       "      <td>0.617279</td>\n",
       "    </tr>\n",
       "    <tr>\n",
       "      <th>48</th>\n",
       "      <td>-1</td>\n",
       "      <td>0.309696</td>\n",
       "      <td>0.912094</td>\n",
       "      <td>0.462390</td>\n",
       "    </tr>\n",
       "    <tr>\n",
       "      <th>72</th>\n",
       "      <td>-1</td>\n",
       "      <td>0.228792</td>\n",
       "      <td>0.912094</td>\n",
       "      <td>0.365821</td>\n",
       "    </tr>\n",
       "  </tbody>\n",
       "</table>\n",
       "</div>"
      ],
      "text/plain": [
       "    threshold  precision    recall        F1\n",
       "8          -1   0.720478  0.912094  0.805041\n",
       "16         -1   0.575415  0.912094  0.705653\n",
       "24         -1   0.466495  0.912094  0.617279\n",
       "48         -1   0.309696  0.912094  0.462390\n",
       "72         -1   0.228792  0.912094  0.365821"
      ]
     },
     "execution_count": 52,
     "metadata": {},
     "output_type": "execute_result"
    }
   ],
   "source": [
    "# ILLOD\n",
    "pd.DataFrame.from_dict(evaluate_algorithm (illod, [-1]), orient=\"index\", columns=[\"threshold\", \"precision\", \"recall\", \"F1\"])"
   ]
  },
  {
   "cell_type": "code",
   "execution_count": null,
   "metadata": {
    "scrolled": false
   },
   "outputs": [],
   "source": []
  }
 ],
 "metadata": {
  "kernelspec": {
   "display_name": "Python 3",
   "language": "python",
   "name": "python3"
  },
  "language_info": {
   "codemirror_mode": {
    "name": "ipython",
    "version": 3
   },
   "file_extension": ".py",
   "mimetype": "text/x-python",
   "name": "python",
   "nbconvert_exporter": "python",
   "pygments_lexer": "ipython3",
   "version": "3.7.3"
  }
 },
 "nbformat": 4,
 "nbformat_minor": 5
}
