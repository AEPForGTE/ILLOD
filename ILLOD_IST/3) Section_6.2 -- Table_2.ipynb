{
 "cells": [
  {
   "cell_type": "markdown",
   "id": "neutral-filename",
   "metadata": {
    "scrolled": true
   },
   "source": [
    "# Average Syntactic Similarities on $L$"
   ]
  },
  {
   "cell_type": "code",
   "execution_count": 2,
   "id": "conscious-thirty",
   "metadata": {},
   "outputs": [],
   "source": [
    "import string\n",
    "import pandas as pd\n",
    "import jellyfish"
   ]
  },
  {
   "cell_type": "markdown",
   "id": "distant-ceramic",
   "metadata": {},
   "source": [
    "# Loading Abbreviation-Expansion List"
   ]
  },
  {
   "cell_type": "code",
   "execution_count": 3,
   "id": "varied-engine",
   "metadata": {},
   "outputs": [],
   "source": [
    "data = pd.read_csv('abbr_db.CSV', names=['abbr', 'long_forms'], sep=';', encoding='utf8')\n",
    "abbreviations = list(data['abbr'].values)\n",
    "expansions = list(data['long_forms'].values)"
   ]
  },
  {
   "cell_type": "markdown",
   "id": "afraid-firewall",
   "metadata": {},
   "source": [
    "## Helper methods to calculate values for Table 2 (Section 5.2)"
   ]
  },
  {
   "cell_type": "code",
   "execution_count": 14,
   "id": "funded-reconstruction",
   "metadata": {},
   "outputs": [],
   "source": [
    "def dice_coefficient(a, b):\n",
    "    \"\"\"dice coefficient 2nt/(na + nb).\"\"\"\n",
    "    a_bigrams = set(a.lower())\n",
    "    b_bigrams = set(b.lower())\n",
    "    overlap = len(a_bigrams & b_bigrams)\n",
    "    return overlap * 2.0 / (len(a_bigrams) + len(b_bigrams))\n",
    "\n",
    "def stop_words_handling(term):\n",
    "    splitted_term = term.split()\n",
    "    stop_words = set([\"for\", \"and\", \"of\", \"in\", \"via\", \"be\"])\n",
    "    \n",
    "    if splitted_term[0] in stop_words:\n",
    "        stop_words = stop_words - set([splitted_term[0]])\n",
    "                \n",
    "    for sw in stop_words:\n",
    "        while sw in splitted_term:\n",
    "            splitted_term.remove(sw)\n",
    "    sanitized_term = \" \".join([w for w in splitted_term]) \n",
    "        \n",
    "    return sanitized_term\n",
    "\n",
    "def clean_string(s):\n",
    "    s_lower = s.lower()\n",
    "    invalidcharacters = set(string.punctuation)\n",
    "    if any(char in invalidcharacters for char in s):\n",
    "        s_ = s_lower.translate(str.maketrans('', '', string.punctuation))\n",
    "    else:\n",
    "        s_ = s_lower\n",
    "    return s_\n",
    "\n",
    "\n",
    "def calculate_average_similarity (abbreviation_list, terms_list):\n",
    "    similarity_measures = [jellyfish.levenshtein_distance, jellyfish.jaro_winkler_similarity, dice_coefficient]\n",
    "    result_list = []\n",
    "    for sim in similarity_measures:\n",
    "        tmp_sim = 0\n",
    "        for index, abb in enumerate(abbreviation_list):\n",
    "            term = terms_list[index]\n",
    "            if sim == jellyfish.levenshtein_distance:\n",
    "                tmp_sim = tmp_sim + (1 - (sim(abb, term)/max(len(abb), len(term))))\n",
    "            else:\n",
    "                tmp_sim = tmp_sim + sim(abb, term)\n",
    "        result_list.append(tmp_sim/len(abbreviation_list))\n",
    "    return result_list"
   ]
  },
  {
   "cell_type": "markdown",
   "id": "gorgeous-signature",
   "metadata": {},
   "source": [
    "## Calculate Similarities for Table 2\n",
    "Average distance on pairs $(a,t)$ for the measures LD, JWS, DC <br>\n",
    "Average distance on pairs $(a^{c},t^{c})$ for the measures LD, JWS, DC <br>\n",
    "Average distance on pairs $(a, \\hat{a})$ for the measures LD, JWS, DC <br>\n",
    "Average distance on pairs $(a^{c},\\hat{a}^{c})$ for the measures LD, JWS, DC <br>"
   ]
  },
  {
   "cell_type": "code",
   "execution_count": 15,
   "id": "settled-thread",
   "metadata": {},
   "outputs": [
    {
     "data": {
      "text/html": [
       "<div>\n",
       "<style scoped>\n",
       "    .dataframe tbody tr th:only-of-type {\n",
       "        vertical-align: middle;\n",
       "    }\n",
       "\n",
       "    .dataframe tbody tr th {\n",
       "        vertical-align: top;\n",
       "    }\n",
       "\n",
       "    .dataframe thead th {\n",
       "        text-align: right;\n",
       "    }\n",
       "</style>\n",
       "<table border=\"1\" class=\"dataframe\">\n",
       "  <thead>\n",
       "    <tr style=\"text-align: right;\">\n",
       "      <th></th>\n",
       "      <th>LD</th>\n",
       "      <th>JWS</th>\n",
       "      <th>DC</th>\n",
       "    </tr>\n",
       "  </thead>\n",
       "  <tbody>\n",
       "    <tr>\n",
       "      <th>(a,e)</th>\n",
       "      <td>0.092446</td>\n",
       "      <td>0.309613</td>\n",
       "      <td>0.418682</td>\n",
       "    </tr>\n",
       "    <tr>\n",
       "      <th>(preprocess(a), preprocess(e))</th>\n",
       "      <td>0.182515</td>\n",
       "      <td>0.637023</td>\n",
       "      <td>0.422113</td>\n",
       "    </tr>\n",
       "    <tr>\n",
       "      <th>(a, pot_abb(e))</th>\n",
       "      <td>0.361353</td>\n",
       "      <td>0.422471</td>\n",
       "      <td>0.861103</td>\n",
       "    </tr>\n",
       "    <tr>\n",
       "      <th>(preprocess(a), pot_abb(preprocess(e)))</th>\n",
       "      <td>0.796925</td>\n",
       "      <td>0.896257</td>\n",
       "      <td>0.864684</td>\n",
       "    </tr>\n",
       "  </tbody>\n",
       "</table>\n",
       "</div>"
      ],
      "text/plain": [
       "                                               LD       JWS        DC\n",
       "(a,e)                                    0.092446  0.309613  0.418682\n",
       "(preprocess(a), preprocess(e))           0.182515  0.637023  0.422113\n",
       "(a, pot_abb(e))                          0.361353  0.422471  0.861103\n",
       "(preprocess(a), pot_abb(preprocess(e)))  0.796925  0.896257  0.864684"
      ]
     },
     "execution_count": 15,
     "metadata": {},
     "output_type": "execute_result"
    }
   ],
   "source": [
    "result_dict = {}\n",
    "# Average distance on pairs (a,t) for the measures LD, JWS, DC:\n",
    "result_dict[\"(a,e)\"] = calculate_average_similarity(abbreviations, expansions)\n",
    "\n",
    "###############################################################################\n",
    "\n",
    "# Average distance on pairs (a^{c},t^{c}) for the measures LD, JWS, DC:\n",
    "abbreviations_removed_sw = [stop_words_handling(abb) for abb in abbreviations]\n",
    "terms_removed_sw = [stop_words_handling(term) for term in expansions]\n",
    "abbreviations_cleaned = [clean_string(abb) for abb in abbreviations_removed_sw]\n",
    "terms_cleaned = [clean_string(term) for term in terms_removed_sw]\n",
    "result_dict[\"(preprocess(a), preprocess(e))\"] = calculate_average_similarity(abbreviations_cleaned, terms_cleaned)\n",
    "\n",
    "###############################################################################\n",
    "\n",
    "# Average distance on pairs (a,â) for the measures LD, JWS, DC:\n",
    "potential_abbreviations = [''.join([c[0] for c in term.split()]) for term in expansions]\n",
    "result_dict[\"(a, pot_abb(e))\"] = calculate_average_similarity(abbreviations, potential_abbreviations)\n",
    "\n",
    "###############################################################################\n",
    "\n",
    "# Average distance on pairs (a^{c},â^{c}) for the measures LD, JWS, DC:\n",
    "potential_abbreviations_of_cleaned_terms = [''.join([c[0] for c in term.split()]) for term in terms_cleaned]\n",
    "result_dict[\"(preprocess(a), pot_abb(preprocess(e)))\"] = calculate_average_similarity(abbreviations_cleaned, potential_abbreviations_of_cleaned_terms)\n",
    "\n",
    "\n",
    "pd.DataFrame.from_dict(result_dict, orient=\"index\", columns=[\"LD\", \"JWS\", \"DC\"])"
   ]
  },
  {
   "cell_type": "markdown",
   "id": "approved-cream",
   "metadata": {},
   "source": [
    "#### Average length of abbreviations after pre-processing"
   ]
  },
  {
   "cell_type": "code",
   "execution_count": 16,
   "id": "intended-ensemble",
   "metadata": {},
   "outputs": [
    {
     "name": "stdout",
     "output_type": "stream",
     "text": [
      "3.5498320268756998\n"
     ]
    }
   ],
   "source": [
    "# Average length after pre-processing\n",
    "tmp_len = 0\n",
    "for abb in abbreviations_cleaned:\n",
    "    tmp_len = tmp_len + len(abb)\n",
    "print(tmp_len/len(abbreviations_cleaned))"
   ]
  },
  {
   "cell_type": "code",
   "execution_count": 9,
   "id": "217f410c",
   "metadata": {},
   "outputs": [
    {
     "name": "stdout",
     "output_type": "stream",
     "text": [
      "1) AE lock\n",
      "2) A record\n",
      "3) BEDO DRAM\n",
      "4) CD-ROM XA\n",
      "5) Cell phone\n",
      "6) DDR SDRAM\n",
      "7) Eb / EB\n",
      "8) Gb / GB\n",
      "9) Gib / GiB\n",
      "10) HD DVD\n",
      "11) IP Rating\n",
      "12) Java EE\n",
      "13) kb / kbit\n",
      "14) LED monitor\n",
      "15) Lo-res / low-res\n",
      "16) Microsoft MVP\n",
      "17) Model no.\n",
      "18) MO diskette\n",
      "19) MX record\n",
      "20) Pg Dn\n",
      "21) Pg Up\n",
      "22) QR Code\n",
      "23) RF shielding\n",
      "24) RIPE notes\n",
      "25) RLL encoding\n",
      "26) ROM BIOS\n",
      "27) RO terminal\n",
      "28) SDHC card\n",
      "29) Serial no.\n",
      "30) SHV connector\n",
      "31) SIM card\n",
      "32) SM card\n",
      "33) Telco line\n",
      "34) Triple DEA\n",
      "35) VL Bus\n",
      "36) Web app\n",
      "37) Windows PE\n"
     ]
    }
   ],
   "source": [
    "# Finding Bigram Abbreviations\n",
    "count = 1\n",
    "for abb in abbreviations:\n",
    "    if len(abb.split())>1:\n",
    "        print(str(count) + \") \" + abb)\n",
    "        count += 1"
   ]
  }
 ],
 "metadata": {
  "kernelspec": {
   "display_name": "Python 3",
   "language": "python",
   "name": "python3"
  },
  "language_info": {
   "codemirror_mode": {
    "name": "ipython",
    "version": 3
   },
   "file_extension": ".py",
   "mimetype": "text/x-python",
   "name": "python",
   "nbconvert_exporter": "python",
   "pygments_lexer": "ipython3",
   "version": "3.9.12"
  }
 },
 "nbformat": 4,
 "nbformat_minor": 5
}
