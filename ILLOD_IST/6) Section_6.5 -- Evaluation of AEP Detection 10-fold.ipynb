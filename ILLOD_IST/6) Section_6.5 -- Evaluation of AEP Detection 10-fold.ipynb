{
 "cells": [
  {
   "cell_type": "markdown",
   "id": "d84976b0",
   "metadata": {},
   "source": [
    "# 10-fold validation on 100 randomly inserted uncontrolled Abbreviations (Section 6.5)"
   ]
  },
  {
   "cell_type": "code",
   "execution_count": 1,
   "id": "willing-embassy",
   "metadata": {},
   "outputs": [],
   "source": [
    "import pandas as pd\n",
    "import Function_Pool\n",
    "import pickle\n",
    "import ILLOD\n",
    "import time"
   ]
  },
  {
   "cell_type": "code",
   "execution_count": 2,
   "id": "687f82f8",
   "metadata": {},
   "outputs": [
    {
     "name": "stderr",
     "output_type": "stream",
     "text": [
      "Warning : `load_model` does not return WordVectorModel or SupervisedModel any more, but a `FastText` object which is very similar.\n"
     ]
    }
   ],
   "source": [
    "import fasttext\n",
    "import fasttext.util\n",
    "from scipy import spatial\n",
    "# fasttext.util.download_model('en', if_exists='ignore')\n",
    "ft = fasttext.load_model(\"cc.en.300.bin\")\n",
    "\n",
    "\n",
    "def fast_text_similarity(a, t, threshold):  \n",
    "    a_v = ft.get_sentence_vector(a)\n",
    "    t_v = ft.get_sentence_vector(t)\n",
    "    if 1 - spatial.distance.cosine(a_v, t_v) >= threshold:\n",
    "        return True\n",
    "    else:\n",
    "        return False"
   ]
  },
  {
   "cell_type": "markdown",
   "id": "493af0d5",
   "metadata": {},
   "source": [
    "## Load Data"
   ]
  },
  {
   "cell_type": "code",
   "execution_count": 3,
   "id": "fe2ce200",
   "metadata": {},
   "outputs": [
    {
     "name": "stdout",
     "output_type": "stream",
     "text": [
      "518\n"
     ]
    }
   ],
   "source": [
    "filePath = \"pure_dataset.csv\"\n",
    "data = pd.read_csv(filePath, names=['ID','dataset', 'requirement'], sep=';', encoding='utf8')\n",
    "data_list = data.values.tolist()\n",
    "\n",
    "replacement_data = pd.read_csv(\"SF-LF-Pairs.csv\", names=['term','abbv'], sep=';', encoding='utf8')\n",
    "aeps_to_replace = replacement_data.values.tolist()\n",
    "inserted_abbreviations = []\n",
    "for sample in aeps_to_replace:\n",
    "    if not (sample[1] != sample[1]):\n",
    "        inserted_abbreviations.append(sample)\n",
    "print(len(inserted_abbreviations))"
   ]
  },
  {
   "cell_type": "code",
   "execution_count": null,
   "id": "d7457938",
   "metadata": {},
   "outputs": [],
   "source": []
  },
  {
   "cell_type": "markdown",
   "id": "e1573e3e",
   "metadata": {},
   "source": [
    "## Generation of AEP Groups"
   ]
  },
  {
   "cell_type": "code",
   "execution_count": 4,
   "id": "ff93a5cc",
   "metadata": {
    "scrolled": true
   },
   "outputs": [],
   "source": [
    "def generate_aep_candidates_and_groups(found_abbs, \n",
    "                                       ordinary_terms, \n",
    "                                       terms_that_contain_abbs, \n",
    "                                       aep_classifier, \n",
    "                                       threshold):\n",
    "    dict_for_aep_groups = {}\n",
    "    for a in found_abbs:\n",
    "        for ot in ordinary_terms:\n",
    "            if aep_classifier(a, ot, threshold):\n",
    "                if a in dict_for_aep_groups.keys():\n",
    "                    dict_for_aep_groups[a].append(ot)\n",
    "                else:\n",
    "                    dict_for_aep_groups[a] = [ot]\n",
    "                    \n",
    "    \n",
    "    for a in found_abbs:\n",
    "        for ttca in terms_that_contain_abbs:\n",
    "            if a in ttca.split():\n",
    "                if a in dict_for_aep_groups.keys():\n",
    "                    dict_for_aep_groups[a].append(ttca)\n",
    "                else:\n",
    "                    dict_for_aep_groups[a] = [ttca]\n",
    "    return dict_for_aep_groups"
   ]
  },
  {
   "cell_type": "markdown",
   "id": "99710ddc",
   "metadata": {},
   "source": [
    "## Calculate Performance Indicators for each AEP Detection Approach"
   ]
  },
  {
   "cell_type": "code",
   "execution_count": 5,
   "id": "2e93896d",
   "metadata": {},
   "outputs": [],
   "source": [
    "def evaluate_aep_detection_approach(found_abbreviations, list_of_replacements, ordinary_terms, terms_that_contain_abbs, clf, threshold):\n",
    "    start_time = time.time()\n",
    "    dict_for_aep_groups = generate_aep_candidates_and_groups(found_abbreviations, \n",
    "                                                             ordinary_terms, \n",
    "                                                             terms_that_contain_abbs, \n",
    "                                                             clf, \n",
    "                                                             threshold)\n",
    "    end_time = time.time()\n",
    "    duration = end_time - start_time\n",
    "    abbreviations_detected = []\n",
    "    matched_pairs = []\n",
    "    for aep in list_of_replacements: # inserted_abbreviations is a global variable\n",
    "        if aep[1] in dict_for_aep_groups.keys():\n",
    "            abbreviations_detected.append(aep[1])\n",
    "            if aep[0] in dict_for_aep_groups[aep[1]]:\n",
    "                matched_pairs.append(aep)\n",
    "    abbv_set_of_inserted_abbvs = set([p[1] for p in list_of_replacements])\n",
    "    missed_abbreviations = abbv_set_of_inserted_abbvs - found_abbreviations\n",
    "\n",
    "    sum_of_lengths = 0\n",
    "    for key in dict_for_aep_groups.keys():\n",
    "        sum_of_lengths = sum_of_lengths + len(dict_for_aep_groups[key])\n",
    "    average_size_of_AEP_group = sum_of_lengths/len(dict_for_aep_groups.keys())\n",
    "    cost_effectiveness = average_size_of_AEP_group/len(matched_pairs)\n",
    "    return (len(dict_for_aep_groups), \n",
    "            len(abbreviations_detected), \n",
    "            len(missed_abbreviations), \n",
    "            len(matched_pairs), \n",
    "            average_size_of_AEP_group,\n",
    "            cost_effectiveness,\n",
    "            duration)"
   ]
  },
  {
   "cell_type": "markdown",
   "id": "9a71af53",
   "metadata": {},
   "source": [
    "## The following function performs a set transformation. It partitions objects of the set  𝑇  to the sets  𝑂𝑇  and  𝑇∖𝑂𝑇 according to steps (4) and (6) from section (7.2, Figure 3)"
   ]
  },
  {
   "cell_type": "code",
   "execution_count": 6,
   "id": "afe18670",
   "metadata": {},
   "outputs": [],
   "source": [
    "def determine_sets_for_term_types(set_of_abbreviations, set_of_terms):\n",
    "    \n",
    "    #compliant with section 7.2: terms_that_contain_abbreviations = T \\ OT\n",
    "    set_of_cleaned_terms = set([term_tuple[1] for term_tuple in set_of_terms])\n",
    "    terms_that_contain_abbreviations = set()\n",
    "    \n",
    "    for term in set_of_cleaned_terms:\n",
    "        for abb in set_of_abbreviations:\n",
    "            if abb in term.split():\n",
    "                terms_that_contain_abbreviations.add(term)\n",
    "    \n",
    "    ordinary_terms = set_of_cleaned_terms - terms_that_contain_abbreviations\n",
    "    \n",
    "    return ordinary_terms, terms_that_contain_abbreviations    "
   ]
  },
  {
   "cell_type": "markdown",
   "id": "f9499956",
   "metadata": {},
   "source": [
    "## Main Function to insert 100 randomly chosen abbreviations. In each Iteration a new Requirements set with uncontrolled abbreviations is generated. After extraction of terms and abbreviations on the new set, we generate AEP groups with the mentioned approaches and evaluate them."
   ]
  },
  {
   "cell_type": "code",
   "execution_count": 7,
   "id": "855d7b1e",
   "metadata": {},
   "outputs": [],
   "source": [
    "def one_fold_validation_with_fastText():\n",
    "    overall_results = []\n",
    "    for i in range(0, 1):\n",
    "        print(\"iteration number: \" + str(i+1))\n",
    "        uncontr_aeps_data, list_of_replacements = Function_Pool.create_uncontrolled_abbreviations_in_requirements(data_list, aeps_to_replace)\n",
    "        terms = set()\n",
    "        for req in uncontr_aeps_data:\n",
    "            terms = terms.union(Function_Pool.nc_detect(req[2]))\n",
    "        found_abbreviations = Function_Pool.extract_abbs([req[2] for req in uncontr_aeps_data])\n",
    "        ordinary_terms, terms_that_contain_abbs = determine_sets_for_term_types(found_abbreviations, terms)\n",
    "        result_memo = []\n",
    "        th_list = [0.29, 0.52, 0.76, 0.70, -1, -1, -2]\n",
    "        for j, clf in enumerate([fast_text_similarity,\n",
    "                                 Function_Pool.levensthein_similarity_on_reduction_of_expansion,\n",
    "                                 Function_Pool.jaro_winkler_similarity_on_reduction_of_expansion,\n",
    "                                 Function_Pool.dice_coefficient_on_reduction_of_expansion,\n",
    "                                 ILLOD.illod,\n",
    "                                 Function_Pool.illod_plus,\n",
    "                                 Function_Pool.illod_plus]):\n",
    "            print(\"clf_position = \" + str(j))\n",
    "            result_memo.append(evaluate_aep_detection_approach(found_abbreviations,\n",
    "                                                               list_of_replacements,\n",
    "                                                               ordinary_terms, \n",
    "                                                               terms_that_contain_abbs,\n",
    "                                                               clf,\n",
    "                                                               threshold = th_list[j]))\n",
    "        overall_results.append(result_memo)\n",
    "    return overall_results"
   ]
  },
  {
   "cell_type": "code",
   "execution_count": null,
   "id": "c6275bdb",
   "metadata": {},
   "outputs": [
    {
     "name": "stdout",
     "output_type": "stream",
     "text": [
      "iteration number: 1\n"
     ]
    }
   ],
   "source": [
    "tor = one_fold_validation_with_fastText()"
   ]
  },
  {
   "cell_type": "code",
   "execution_count": null,
   "id": "3a5aab4f",
   "metadata": {},
   "outputs": [],
   "source": [
    "## Evaluation 1 Durchlauf mit fastText\n",
    "def calc_average_results(tor, i):\n",
    "    spec_results = [iter_result[i] for iter_result in tor]\n",
    "    summed_up_result = []\n",
    "    for dim in range(0,7):\n",
    "        sum_ = 0\n",
    "        for ir in spec_results:\n",
    "            sum_ = sum_ + ir[dim]\n",
    "        summed_up_result.append(sum_/len(tor))\n",
    "    return summed_up_result\n",
    "\n",
    "average_results_dict = {\"FastText_Clf\": calc_average_results(tor, 0),\n",
    "                        \"Levensthein_Clf\": calc_average_results(tor, 1),\n",
    "                        \"Jaro_Winkler_Clf\": calc_average_results(tor, 2),\n",
    "                        \"Dice_Coefficient_Clf\": calc_average_results(tor, 3),\n",
    "                        \"ILLOD\": calc_average_results(tor, 4),\n",
    "                        \"ILLOD+_VariantA\": calc_average_results(tor, 5),\n",
    "                        \"ILLOD+_VariantB\": calc_average_results(tor, 6)}\n",
    "\n",
    "pd.DataFrame.from_dict(average_results_dict, orient=\"index\", columns=[\"#AEP_groups\", \"#found_abbs\", \n",
    "                                                                      \"#missed_abbs\", \"#matched_AEPs\", \n",
    "                                                                      \"size_of_AEPgroup\", \"cost-effectiveness\", \n",
    "                                                                      \"execution time\"])"
   ]
  },
  {
   "cell_type": "code",
   "execution_count": null,
   "id": "e777a934",
   "metadata": {},
   "outputs": [],
   "source": [
    "# 10-facher Durchlauf ohne fastText\n",
    "def ten_fold_validation():\n",
    "    overall_results = []\n",
    "    for i in range(0, 10):\n",
    "        print(\"iteration number: \" + str(i+1))\n",
    "        uncontr_aeps_data, list_of_replacements = Function_Pool.create_uncontrolled_abbreviations_in_requirements(data_list, aeps_to_replace)\n",
    "        terms = set()\n",
    "        for req in uncontr_aeps_data:\n",
    "            terms = terms.union(Function_Pool.nc_detect(req[2]))\n",
    "        found_abbreviations = Function_Pool.extract_abbs([req[2] for req in uncontr_aeps_data])\n",
    "        ordinary_terms, terms_that_contain_abbs = determine_sets_for_term_types(found_abbreviations, terms)\n",
    "        result_memo = []\n",
    "        th_list = [0.52, 0.76, 0.70, -1, -1, -2]\n",
    "        for j, clf in enumerate([Function_Pool.levensthein_similarity_on_reduction_of_expansion,\n",
    "            Function_Pool.jaro_winkler_similarity_on_reduction_of_expansion,\n",
    "            Function_Pool.dice_coefficient_on_reduction_of_expansion,\n",
    "            ILLOD.illod,\n",
    "            Function_Pool.illod_plus,\n",
    "            Function_Pool.illod_plus]):\n",
    "            print(\"clf_position = \" + str(j))\n",
    "            result_memo.append(evaluate_aep_detection_approach(found_abbreviations,\n",
    "                                                               list_of_replacements,\n",
    "                                                               ordinary_terms, \n",
    "                                                               terms_that_contain_abbs,\n",
    "                                                               clf,\n",
    "                                                               threshold = th_list[j]))\n",
    "        overall_results.append(result_memo)\n",
    "    return overall_results"
   ]
  },
  {
   "cell_type": "code",
   "execution_count": null,
   "id": "7d2b5492",
   "metadata": {
    "scrolled": true
   },
   "outputs": [],
   "source": [
    "tor = ten_fold_validation()"
   ]
  },
  {
   "cell_type": "code",
   "execution_count": null,
   "id": "6160868d",
   "metadata": {},
   "outputs": [],
   "source": [
    "def calc_average_results(tor, i):\n",
    "    spec_results = [iter_result[i] for iter_result in tor]\n",
    "    summed_up_result = []\n",
    "    for dim in range(0,7):\n",
    "        sum_ = 0\n",
    "        for ir in spec_results:\n",
    "            sum_ = sum_ + ir[dim]\n",
    "        summed_up_result.append(sum_/len(tor))\n",
    "    return summed_up_result\n",
    "\n",
    "average_results_dict = {\"Levensthein_Similarity\": calc_average_results(tor, 0),\n",
    "           \"Jaro_Winkler_Similarity\": calc_average_results(tor, 1),\n",
    "           \"Dice_Coefficient_Similarity\": calc_average_results(tor, 2),\n",
    "           \"ILLOD\": calc_average_results(tor, 3),\n",
    "           \"ILLOD+_VariantA\": calc_average_results(tor, 4),\n",
    "           \"ILLOD+_VariantB\": calc_average_results(tor, 5)}\n",
    "\n",
    "pd.DataFrame.from_dict(average_results_dict, orient=\"index\", columns=[\"#AEP_groups\", \"#found_abbs\", \n",
    "                                                                      \"#missed_abbs\", \"#matched_AEPs\", \n",
    "                                                                      \"size_of_AEPgroup\", \"cost-effectiveness\", \n",
    "                                                                      \"execution time\"])"
   ]
  },
  {
   "cell_type": "code",
   "execution_count": 113,
   "id": "77ac5748",
   "metadata": {},
   "outputs": [
    {
     "data": {
      "text/html": [
       "<div>\n",
       "<style scoped>\n",
       "    .dataframe tbody tr th:only-of-type {\n",
       "        vertical-align: middle;\n",
       "    }\n",
       "\n",
       "    .dataframe tbody tr th {\n",
       "        vertical-align: top;\n",
       "    }\n",
       "\n",
       "    .dataframe thead th {\n",
       "        text-align: right;\n",
       "    }\n",
       "</style>\n",
       "<table border=\"1\" class=\"dataframe\">\n",
       "  <thead>\n",
       "    <tr style=\"text-align: right;\">\n",
       "      <th></th>\n",
       "      <th>#AEP_groups</th>\n",
       "      <th>#found_abbs</th>\n",
       "      <th>#missed_abbs</th>\n",
       "      <th>#matched_AEPs</th>\n",
       "      <th>size_of_AEPgroup</th>\n",
       "      <th>cost-effectiveness</th>\n",
       "      <th>execution time</th>\n",
       "    </tr>\n",
       "  </thead>\n",
       "  <tbody>\n",
       "    <tr>\n",
       "      <th>Levensthein_Similarity</th>\n",
       "      <td>352.0</td>\n",
       "      <td>56.0</td>\n",
       "      <td>41.0</td>\n",
       "      <td>21.0</td>\n",
       "      <td>22.965909</td>\n",
       "      <td>1.093615</td>\n",
       "      <td>216.440664</td>\n",
       "    </tr>\n",
       "    <tr>\n",
       "      <th>Jaro_Winkler_Similarity</th>\n",
       "      <td>457.0</td>\n",
       "      <td>58.0</td>\n",
       "      <td>41.0</td>\n",
       "      <td>43.0</td>\n",
       "      <td>50.984683</td>\n",
       "      <td>1.185690</td>\n",
       "      <td>212.826095</td>\n",
       "    </tr>\n",
       "    <tr>\n",
       "      <th>Dice_Coefficient_Similarity</th>\n",
       "      <td>409.0</td>\n",
       "      <td>57.0</td>\n",
       "      <td>41.0</td>\n",
       "      <td>22.0</td>\n",
       "      <td>39.044010</td>\n",
       "      <td>1.774728</td>\n",
       "      <td>214.019119</td>\n",
       "    </tr>\n",
       "    <tr>\n",
       "      <th>ILLOD</th>\n",
       "      <td>372.0</td>\n",
       "      <td>58.0</td>\n",
       "      <td>41.0</td>\n",
       "      <td>51.0</td>\n",
       "      <td>14.927419</td>\n",
       "      <td>0.292694</td>\n",
       "      <td>40.135529</td>\n",
       "    </tr>\n",
       "    <tr>\n",
       "      <th>ILLOD+_VariantA</th>\n",
       "      <td>373.0</td>\n",
       "      <td>58.0</td>\n",
       "      <td>41.0</td>\n",
       "      <td>51.0</td>\n",
       "      <td>11.160858</td>\n",
       "      <td>0.218840</td>\n",
       "      <td>524.461344</td>\n",
       "    </tr>\n",
       "    <tr>\n",
       "      <th>ILLOD+_VariantB</th>\n",
       "      <td>370.0</td>\n",
       "      <td>58.0</td>\n",
       "      <td>41.0</td>\n",
       "      <td>31.0</td>\n",
       "      <td>8.589189</td>\n",
       "      <td>0.277071</td>\n",
       "      <td>647.785617</td>\n",
       "    </tr>\n",
       "  </tbody>\n",
       "</table>\n",
       "</div>"
      ],
      "text/plain": [
       "                             #AEP_groups  #found_abbs  #missed_abbs  \\\n",
       "Levensthein_Similarity             352.0         56.0          41.0   \n",
       "Jaro_Winkler_Similarity            457.0         58.0          41.0   \n",
       "Dice_Coefficient_Similarity        409.0         57.0          41.0   \n",
       "ILLOD                              372.0         58.0          41.0   \n",
       "ILLOD+_VariantA                    373.0         58.0          41.0   \n",
       "ILLOD+_VariantB                    370.0         58.0          41.0   \n",
       "\n",
       "                             #matched_AEPs  size_of_AEPgroup  \\\n",
       "Levensthein_Similarity                21.0         22.965909   \n",
       "Jaro_Winkler_Similarity               43.0         50.984683   \n",
       "Dice_Coefficient_Similarity           22.0         39.044010   \n",
       "ILLOD                                 51.0         14.927419   \n",
       "ILLOD+_VariantA                       51.0         11.160858   \n",
       "ILLOD+_VariantB                       31.0          8.589189   \n",
       "\n",
       "                             cost-effectiveness  execution time  \n",
       "Levensthein_Similarity                 1.093615      216.440664  \n",
       "Jaro_Winkler_Similarity                1.185690      212.826095  \n",
       "Dice_Coefficient_Similarity            1.774728      214.019119  \n",
       "ILLOD                                  0.292694       40.135529  \n",
       "ILLOD+_VariantA                        0.218840      524.461344  \n",
       "ILLOD+_VariantB                        0.277071      647.785617  "
      ]
     },
     "execution_count": 113,
     "metadata": {},
     "output_type": "execute_result"
    }
   ],
   "source": [
    "## 4. Evaluation 10-facher Durchlauf\n",
    "def calc_average_results(tor, i):\n",
    "    spec_results = [iter_result[i] for iter_result in tor]\n",
    "    summed_up_result = []\n",
    "    for dim in range(0,7):\n",
    "        sum_ = 0\n",
    "        for ir in spec_results:\n",
    "            sum_ = sum_ + ir[dim]\n",
    "        summed_up_result.append(sum_/len(tor))\n",
    "    return summed_up_result\n",
    "\n",
    "average_results_dict = {\"Levensthein_Similarity\": calc_average_results(tor, 0),\n",
    "           \"Jaro_Winkler_Similarity\": calc_average_results(tor, 1),\n",
    "           \"Dice_Coefficient_Similarity\": calc_average_results(tor, 2),\n",
    "           \"ILLOD\": calc_average_results(tor, 3),\n",
    "           \"ILLOD+_VariantA\": calc_average_results(tor, 4),\n",
    "           \"ILLOD+_VariantB\": calc_average_results(tor, 5)}\n",
    "\n",
    "pd.DataFrame.from_dict(average_results_dict, orient=\"index\", columns=[\"#AEP_groups\", \"#found_abbs\", \n",
    "                                                                      \"#missed_abbs\", \"#matched_AEPs\", \n",
    "                                                                      \"size_of_AEPgroup\", \"cost-effectiveness\", \n",
    "                                                                      \"execution time\"])"
   ]
  }
 ],
 "metadata": {
  "kernelspec": {
   "display_name": "Python 3",
   "language": "python",
   "name": "python3"
  },
  "language_info": {
   "codemirror_mode": {
    "name": "ipython",
    "version": 3
   },
   "file_extension": ".py",
   "mimetype": "text/x-python",
   "name": "python",
   "nbconvert_exporter": "python",
   "pygments_lexer": "ipython3",
   "version": "3.9.12"
  }
 },
 "nbformat": 4,
 "nbformat_minor": 5
}
