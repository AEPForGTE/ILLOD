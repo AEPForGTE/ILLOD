{
 "cells": [
  {
   "cell_type": "markdown",
   "id": "therapeutic-syndrome",
   "metadata": {
    "scrolled": true
   },
   "source": [
    "#  Output of different similarity measures on randomly selected AEPs for Table 1."
   ]
  },
  {
   "cell_type": "code",
   "execution_count": 32,
   "id": "tribal-massachusetts",
   "metadata": {},
   "outputs": [],
   "source": [
    "import pandas as pd\n",
    "import string\n",
    "import pandas as pd\n",
    "import jellyfish\n",
    "import random"
   ]
  },
  {
   "cell_type": "markdown",
   "id": "insured-lawrence",
   "metadata": {},
   "source": [
    "## Classifier based on semantic similarity (FastText)"
   ]
  },
  {
   "cell_type": "code",
   "execution_count": 34,
   "id": "previous-traffic",
   "metadata": {},
   "outputs": [
    {
     "name": "stderr",
     "output_type": "stream",
     "text": [
      "Warning : `load_model` does not return WordVectorModel or SupervisedModel any more, but a `FastText` object which is very similar.\n"
     ]
    }
   ],
   "source": [
    "import fasttext\n",
    "import fasttext.util\n",
    "from scipy import spatial\n",
    "# fasttext.util.download_model('en', if_exists='ignore')\n",
    "ft = fasttext.load_model(\"cc.en.300.bin\")"
   ]
  },
  {
   "cell_type": "code",
   "execution_count": 42,
   "id": "fresh-identification",
   "metadata": {},
   "outputs": [],
   "source": [
    "# Cosine Similarity on Fasttext Wordvectors\n",
    "\n",
    "def fast_text_sim(a, t):\n",
    "    \n",
    "    a_v = ft.get_word_vector(a)\n",
    "    t_v = ft.get_word_vector(t)\n",
    "    return abs(1 - spatial.distance.cosine(a_v, t_v))"
   ]
  },
  {
   "cell_type": "markdown",
   "id": "continental-roberts",
   "metadata": {},
   "source": [
    "## Classifier based on syntactic similarity (DiceCoefficient)"
   ]
  },
  {
   "cell_type": "code",
   "execution_count": 43,
   "id": "enclosed-alarm",
   "metadata": {},
   "outputs": [],
   "source": [
    "def dice_coefficient(a, b):\n",
    "    \"\"\"dice coefficient 2nt/(na + nb).\"\"\"\n",
    "    a_bigrams = set(a.lower())\n",
    "    b_bigrams = set(b.lower())\n",
    "    overlap = len(a_bigrams & b_bigrams)\n",
    "    return overlap * 2.0 / (len(a_bigrams) + len(b_bigrams))"
   ]
  },
  {
   "cell_type": "markdown",
   "id": "attractive-volunteer",
   "metadata": {},
   "source": [
    "# Replicability: \n",
    "## Similarities for Table 1 (Section 4.2)"
   ]
  },
  {
   "cell_type": "code",
   "execution_count": 44,
   "id": "uniform-handling",
   "metadata": {},
   "outputs": [],
   "source": [
    "random_AEP_pairs = [\n",
    "    (\"LED monitor\", \"light-emitting diode\"),\n",
    "    (\"Int\", \"integer\"),\n",
    "    (\"PS/2\", \"Personal System/2\"),\n",
    "    (\"IANA\", \"Internet Assigned Numbers Authority\"),\n",
    "    (\"SMM\", \"System Management Mode\"),\n",
    "    (\"U/L\", \"upload\"),\n",
    "    (\"IAP\", \"Internet access provider\"),\n",
    "    (\"CLNS\", \"connectionless network service\"),\n",
    "    (\"MMC\", \"MultiMediaCard\"),\n",
    "    (\"I/O\", \"input/output\")\n",
    "]"
   ]
  },
  {
   "cell_type": "code",
   "execution_count": 45,
   "id": "dirty-asthma",
   "metadata": {
    "scrolled": true
   },
   "outputs": [
    {
     "data": {
      "text/html": [
       "<div>\n",
       "<style scoped>\n",
       "    .dataframe tbody tr th:only-of-type {\n",
       "        vertical-align: middle;\n",
       "    }\n",
       "\n",
       "    .dataframe tbody tr th {\n",
       "        vertical-align: top;\n",
       "    }\n",
       "\n",
       "    .dataframe thead th {\n",
       "        text-align: right;\n",
       "    }\n",
       "</style>\n",
       "<table border=\"1\" class=\"dataframe\">\n",
       "  <thead>\n",
       "    <tr style=\"text-align: right;\">\n",
       "      <th></th>\n",
       "      <th>LD</th>\n",
       "      <th>JWS</th>\n",
       "      <th>DC</th>\n",
       "      <th>FT</th>\n",
       "    </tr>\n",
       "  </thead>\n",
       "  <tbody>\n",
       "    <tr>\n",
       "      <th>LED monitor : light-emitting diode</th>\n",
       "      <td>0.150000</td>\n",
       "      <td>0.434848</td>\n",
       "      <td>0.818182</td>\n",
       "      <td>0.298532</td>\n",
       "    </tr>\n",
       "    <tr>\n",
       "      <th>Int : integer</th>\n",
       "      <td>0.285714</td>\n",
       "      <td>0.650794</td>\n",
       "      <td>0.666667</td>\n",
       "      <td>0.200103</td>\n",
       "    </tr>\n",
       "    <tr>\n",
       "      <th>PS/2 : Personal System/2</th>\n",
       "      <td>0.235294</td>\n",
       "      <td>0.436275</td>\n",
       "      <td>0.444444</td>\n",
       "      <td>0.189933</td>\n",
       "    </tr>\n",
       "    <tr>\n",
       "      <th>IANA : Internet Assigned Numbers Authority</th>\n",
       "      <td>0.114286</td>\n",
       "      <td>0.611905</td>\n",
       "      <td>0.315789</td>\n",
       "      <td>0.093416</td>\n",
       "    </tr>\n",
       "    <tr>\n",
       "      <th>SMM : System Management Mode</th>\n",
       "      <td>0.136364</td>\n",
       "      <td>0.585859</td>\n",
       "      <td>0.307692</td>\n",
       "      <td>0.142360</td>\n",
       "    </tr>\n",
       "    <tr>\n",
       "      <th>U/L : upload</th>\n",
       "      <td>0.000000</td>\n",
       "      <td>0.000000</td>\n",
       "      <td>0.444444</td>\n",
       "      <td>0.024760</td>\n",
       "    </tr>\n",
       "    <tr>\n",
       "      <th>IAP : Internet access provider</th>\n",
       "      <td>0.041667</td>\n",
       "      <td>0.458333</td>\n",
       "      <td>0.375000</td>\n",
       "      <td>0.060126</td>\n",
       "    </tr>\n",
       "    <tr>\n",
       "      <th>CLNS : connectionless network service</th>\n",
       "      <td>0.000000</td>\n",
       "      <td>0.000000</td>\n",
       "      <td>0.470588</td>\n",
       "      <td>0.075750</td>\n",
       "    </tr>\n",
       "    <tr>\n",
       "      <th>MMC : MultiMediaCard</th>\n",
       "      <td>0.214286</td>\n",
       "      <td>0.603175</td>\n",
       "      <td>0.333333</td>\n",
       "      <td>0.532894</td>\n",
       "    </tr>\n",
       "    <tr>\n",
       "      <th>I/O : input/output</th>\n",
       "      <td>0.083333</td>\n",
       "      <td>0.472222</td>\n",
       "      <td>0.600000</td>\n",
       "      <td>0.147428</td>\n",
       "    </tr>\n",
       "  </tbody>\n",
       "</table>\n",
       "</div>"
      ],
      "text/plain": [
       "                                                  LD       JWS        DC  \\\n",
       "LED monitor : light-emitting diode          0.150000  0.434848  0.818182   \n",
       "Int : integer                               0.285714  0.650794  0.666667   \n",
       "PS/2 : Personal System/2                    0.235294  0.436275  0.444444   \n",
       "IANA : Internet Assigned Numbers Authority  0.114286  0.611905  0.315789   \n",
       "SMM : System Management Mode                0.136364  0.585859  0.307692   \n",
       "U/L : upload                                0.000000  0.000000  0.444444   \n",
       "IAP : Internet access provider              0.041667  0.458333  0.375000   \n",
       "CLNS : connectionless network service       0.000000  0.000000  0.470588   \n",
       "MMC : MultiMediaCard                        0.214286  0.603175  0.333333   \n",
       "I/O : input/output                          0.083333  0.472222  0.600000   \n",
       "\n",
       "                                                  FT  \n",
       "LED monitor : light-emitting diode          0.298532  \n",
       "Int : integer                               0.200103  \n",
       "PS/2 : Personal System/2                    0.189933  \n",
       "IANA : Internet Assigned Numbers Authority  0.093416  \n",
       "SMM : System Management Mode                0.142360  \n",
       "U/L : upload                                0.024760  \n",
       "IAP : Internet access provider              0.060126  \n",
       "CLNS : connectionless network service       0.075750  \n",
       "MMC : MultiMediaCard                        0.532894  \n",
       "I/O : input/output                          0.147428  "
      ]
     },
     "execution_count": 45,
     "metadata": {},
     "output_type": "execute_result"
    }
   ],
   "source": [
    "measures = [\"LD\", \"JWS\", \"DC\", \"FT\"]\n",
    "result_dict = {}\n",
    "for aep_tuple in random_AEP_pairs:\n",
    "    result_dict[aep_tuple[0] + \" : \" + aep_tuple[1]] = []\n",
    "    for j, measure in enumerate([jellyfish.levenshtein_distance, jellyfish.jaro_winkler_similarity, dice_coefficient, fast_text_sim]):\n",
    "        if measure in [jellyfish.levenshtein_distance]:\n",
    "            tmp_similarity = 1 - (measure(aep_tuple[0], aep_tuple[1])/max(len(aep_tuple[0]), len(aep_tuple[1])))\n",
    "        else:\n",
    "            tmp_similarity = measure(aep_tuple[0], aep_tuple[1])\n",
    "        tmp = result_dict[aep_tuple[0] + \" : \" + aep_tuple[1]]\n",
    "        tmp.append(tmp_similarity)\n",
    "        result_dict[aep_tuple[0] + \" : \" + aep_tuple[1]] = tmp\n",
    "pd.DataFrame.from_dict(result_dict, orient=\"index\", columns=[\"LD\", \"JWS\", \"DC\", \"FT\"])"
   ]
  }
 ],
 "metadata": {
  "kernelspec": {
   "display_name": "Python 3",
   "language": "python",
   "name": "python3"
  },
  "language_info": {
   "codemirror_mode": {
    "name": "ipython",
    "version": 3
   },
   "file_extension": ".py",
   "mimetype": "text/x-python",
   "name": "python",
   "nbconvert_exporter": "python",
   "pygments_lexer": "ipython3",
   "version": "3.6.12"
  }
 },
 "nbformat": 4,
 "nbformat_minor": 5
}
