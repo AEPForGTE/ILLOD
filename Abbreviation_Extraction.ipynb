{
 "cells": [
  {
   "cell_type": "markdown",
   "id": "medium-appreciation",
   "metadata": {},
   "source": [
    "# Evaluate and Optimize Abbreviation Extraction"
   ]
  },
  {
   "cell_type": "code",
   "execution_count": 3,
   "id": "incoming-feeling",
   "metadata": {},
   "outputs": [],
   "source": [
    "import pandas as pd\n",
    "import string"
   ]
  },
  {
   "cell_type": "code",
   "execution_count": 4,
   "id": "suspended-class",
   "metadata": {},
   "outputs": [],
   "source": [
    "# Load Data\n",
    "data = pd.read_csv('abbr_db.CSV', names=['abbr', 'long_forms'], sep=';', encoding='utf8')\n",
    "abbr = list(data['abbr'].values)\n",
    "expansions = list(data['long_forms'].values)"
   ]
  },
  {
   "cell_type": "code",
   "execution_count": 5,
   "id": "false-survivor",
   "metadata": {},
   "outputs": [],
   "source": [
    "def upper_to_lower_ratio(w):\n",
    "    upper_cases = ''.join([c for c in w if c.isupper()])\n",
    "    return len(upper_cases)/len(w)"
   ]
  },
  {
   "cell_type": "code",
   "execution_count": 6,
   "id": "hundred-excerpt",
   "metadata": {},
   "outputs": [],
   "source": [
    "def extraction_rule(w, l_, ratio):\n",
    "    w = w.replace(\"-\", \"\")\n",
    "    if len(w) <= l_ and upper_to_lower_ratio(w) >= ratio:\n",
    "        return True\n",
    "    else:\n",
    "        return False"
   ]
  },
  {
   "cell_type": "code",
   "execution_count": 7,
   "id": "utility-practitioner",
   "metadata": {},
   "outputs": [],
   "source": [
    "def determine_FN(l_, ratio):\n",
    "    FN = 0\n",
    "    for abb in abbr:\n",
    "        if not extraction_rule(abb, l_, ratio):\n",
    "            FN = FN + 1\n",
    "    return FN"
   ]
  },
  {
   "cell_type": "code",
   "execution_count": 8,
   "id": "wanted-madagascar",
   "metadata": {},
   "outputs": [],
   "source": [
    "def determine_FP(l_, ratio):\n",
    "    FP = 0\n",
    "    for exp in expansions:\n",
    "        for word in exp.split():\n",
    "            if extraction_rule(word, l_, ratio):\n",
    "                FP = FP + 1\n",
    "    return FP"
   ]
  },
  {
   "cell_type": "code",
   "execution_count": 9,
   "id": "stylish-brighton",
   "metadata": {
    "scrolled": true
   },
   "outputs": [
    {
     "name": "stdout",
     "output_type": "stream",
     "text": [
      "[13, 29, 0.92071468453378, 0.9232922732362822, 0.922001677383282]\n"
     ]
    }
   ],
   "source": [
    "max_f1 = 0\n",
    "memory = []\n",
    "for l_ in range(1,21):\n",
    "    for r in range(2, 98):\n",
    "        r_ = r/100\n",
    "        FP = determine_FP(l_, r_)\n",
    "        FN = determine_FN(l_, r_)\n",
    "        TP = len(abbr) - FN\n",
    "        precision = TP/(TP + FP)\n",
    "        recall = TP/(TP + FN)\n",
    "        f1 = (2*recall*precision)/(recall + precision)\n",
    "        if f1 > max_f1:\n",
    "            max_f1 = f1\n",
    "            memory = [l_, r, precision, recall, f1]\n",
    "print(memory)"
   ]
  },
  {
   "cell_type": "code",
   "execution_count": 81,
   "id": "corporate-interview",
   "metadata": {},
   "outputs": [
    {
     "name": "stdout",
     "output_type": "stream",
     "text": [
      "AE lock\n",
      "Alpha\n",
      "A record\n",
      "Auto\n",
      "Auto\n",
      "Auto\n",
      "Basic\n",
      "Bi-di\n",
      "Bool\n",
      "bps\n",
      "Brouter\n",
      "Cell phone\n",
      "Cert\n",
      "Cert\n",
      "Cert\n",
      "Char\n",
      "chdir\n",
      "Code\n",
      "Codec\n",
      "Codec\n",
      "Coil\n",
      "Core\n",
      "Crypto\n",
      "Ctrl\n",
      "Curmbox\n",
      "Double\n",
      "Dpkg\n",
      "Drop\n",
      "Dword\n",
      "E-911\n",
      "E-book\n",
      "E-learning\n",
      "E-mail\n",
      "Eval\n",
      "Famicom\n",
      "Feat\n",
      "Fixed\n",
      "Flash\n",
      "Float\n",
      "Fsck\n",
      "Fstab\n",
      "Fstype\n",
      "Gbps\n",
      "Gmail\n",
      "Gravatar\n",
      "Gzip\n",
      "Hiew\n",
      "Hi-res\n",
      "Icacl\n",
      "Inetd\n",
      "Info\n",
      "Inode\n",
      "kb / kbit\n",
      "Kbps\n",
      "kilo\n",
      "Laser\n",
      "LED monitor\n",
      "Li-ion\n",
      "Li-polymer\n",
      "Lisp\n",
      "Lo-res / low-res\n",
      "Luser\n",
      "lvl\n",
      "Lzone\n",
      "m\n",
      "Macro\n",
      "Matlab\n",
      "Matrix\n",
      "mb\n",
      "Mbps\n",
      "Memo\n",
      "Mflop\n",
      "Mget\n",
      "Mkdir\n",
      "Moblog\n",
      "Model no.\n",
      "Modem\n",
      "MO diskette\n",
      "Mofo\n",
      "Mput\n",
      "Mutex\n",
      "MX record\n",
      "ne\n",
      "Nimrod\n",
      "nm\n",
      "ns\n",
      "Open\n",
      "Parm\n",
      "P-code\n",
      "P-code\n",
      "Permalink\n",
      "Plus\n",
      "P-machine\n",
      "Printf\n",
      "Privmsg\n",
      "Proglog\n",
      "Prolog\n",
      "PrtScrn or Prt Scrn\n",
      "Rec.\n",
      "Regex\n",
      "RF shielding\n",
      "RLL encoding\n",
      "RO terminal\n",
      "Scanf\n",
      "Serial no.\n",
      "Servlet\n",
      "Setuid\n",
      "Sexp or sexpr\n",
      "SHV connector\n",
      "Slogin\n",
      "Slotket\n",
      "SM card\n",
      "Source\n",
      "Spec\n",
      "Spit\n",
      "splogs\n",
      "Spool\n",
      "Stdin\n",
      "Subnet\n",
      "sync\n",
      "synth\n",
      "sysgen\n",
      "syslog\n",
      "sysop\n",
      "sysrq\n",
      "Tech\n",
      "Telco line\n",
      "Texel\n",
      "Transistor\n",
      "Uarch\n",
      "Uuencode\n",
      "Veronica\n",
      "Vhost\n",
      "Web app\n",
      "Winsock\n",
      "Wpcomp\n",
      "Wpcomp\n",
      "137\n"
     ]
    }
   ],
   "source": [
    "FN = 0\n",
    "for abb in abbr:\n",
    "    if not extraction_rule(abb, 13, 0.29):\n",
    "        FN = FN + 1\n",
    "        print(abb)\n",
    "print(str(FN))"
   ]
  },
  {
   "cell_type": "code",
   "execution_count": 2,
   "id": "complex-campaign",
   "metadata": {},
   "outputs": [
    {
     "name": "stdout",
     "output_type": "stream",
     "text": [
      "1\n",
      "2\n",
      "3\n",
      "4\n",
      "5\n",
      "6\n",
      "7\n",
      "8\n",
      "9\n",
      "10\n",
      "11\n",
      "12\n",
      "13\n",
      "14\n"
     ]
    }
   ],
   "source": [
    "for i in range(1,15):\n",
    "    print(i)"
   ]
  },
  {
   "cell_type": "code",
   "execution_count": null,
   "id": "protected-republican",
   "metadata": {},
   "outputs": [],
   "source": []
  },
  {
   "cell_type": "code",
   "execution_count": null,
   "id": "subtle-limitation",
   "metadata": {},
   "outputs": [],
   "source": []
  },
  {
   "cell_type": "code",
   "execution_count": null,
   "id": "reliable-reform",
   "metadata": {},
   "outputs": [],
   "source": []
  },
  {
   "cell_type": "code",
   "execution_count": null,
   "id": "dried-impression",
   "metadata": {},
   "outputs": [],
   "source": []
  },
  {
   "cell_type": "code",
   "execution_count": null,
   "id": "average-destruction",
   "metadata": {},
   "outputs": [],
   "source": []
  },
  {
   "cell_type": "code",
   "execution_count": null,
   "id": "cognitive-assumption",
   "metadata": {},
   "outputs": [],
   "source": []
  },
  {
   "cell_type": "code",
   "execution_count": null,
   "id": "choice-botswana",
   "metadata": {},
   "outputs": [],
   "source": []
  },
  {
   "cell_type": "code",
   "execution_count": null,
   "id": "reserved-excitement",
   "metadata": {},
   "outputs": [],
   "source": []
  },
  {
   "cell_type": "code",
   "execution_count": null,
   "id": "utility-google",
   "metadata": {},
   "outputs": [],
   "source": []
  },
  {
   "cell_type": "code",
   "execution_count": null,
   "id": "advanced-brazil",
   "metadata": {},
   "outputs": [],
   "source": []
  },
  {
   "cell_type": "code",
   "execution_count": null,
   "id": "automatic-reasoning",
   "metadata": {},
   "outputs": [],
   "source": []
  },
  {
   "cell_type": "code",
   "execution_count": null,
   "id": "consolidated-exchange",
   "metadata": {},
   "outputs": [],
   "source": []
  },
  {
   "cell_type": "code",
   "execution_count": null,
   "id": "classified-imaging",
   "metadata": {},
   "outputs": [],
   "source": []
  },
  {
   "cell_type": "code",
   "execution_count": null,
   "id": "addressed-clearance",
   "metadata": {},
   "outputs": [],
   "source": []
  },
  {
   "cell_type": "code",
   "execution_count": null,
   "id": "automatic-zimbabwe",
   "metadata": {},
   "outputs": [],
   "source": []
  },
  {
   "cell_type": "code",
   "execution_count": null,
   "id": "exact-amsterdam",
   "metadata": {},
   "outputs": [],
   "source": []
  },
  {
   "cell_type": "code",
   "execution_count": null,
   "id": "reported-marketplace",
   "metadata": {},
   "outputs": [],
   "source": []
  },
  {
   "cell_type": "code",
   "execution_count": null,
   "id": "inappropriate-actor",
   "metadata": {},
   "outputs": [],
   "source": []
  },
  {
   "cell_type": "code",
   "execution_count": null,
   "id": "celtic-valley",
   "metadata": {},
   "outputs": [],
   "source": []
  },
  {
   "cell_type": "code",
   "execution_count": null,
   "id": "german-correlation",
   "metadata": {},
   "outputs": [],
   "source": []
  },
  {
   "cell_type": "code",
   "execution_count": null,
   "id": "approximate-update",
   "metadata": {},
   "outputs": [],
   "source": []
  },
  {
   "cell_type": "code",
   "execution_count": null,
   "id": "floppy-pathology",
   "metadata": {},
   "outputs": [],
   "source": []
  },
  {
   "cell_type": "code",
   "execution_count": null,
   "id": "sublime-soldier",
   "metadata": {},
   "outputs": [],
   "source": []
  }
 ],
 "metadata": {
  "kernelspec": {
   "display_name": "Python 3",
   "language": "python",
   "name": "python3"
  },
  "language_info": {
   "codemirror_mode": {
    "name": "ipython",
    "version": 3
   },
   "file_extension": ".py",
   "mimetype": "text/x-python",
   "name": "python",
   "nbconvert_exporter": "python",
   "pygments_lexer": "ipython3",
   "version": "3.6.12"
  }
 },
 "nbformat": 4,
 "nbformat_minor": 5
}
