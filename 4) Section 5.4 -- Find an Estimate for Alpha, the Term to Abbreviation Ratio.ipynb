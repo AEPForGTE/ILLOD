{
 "cells": [
  {
   "cell_type": "markdown",
   "id": "based-challenge",
   "metadata": {},
   "source": [
    "## Script to find an estimate for alpha (abbreviation to term ratio)"
   ]
  },
  {
   "cell_type": "code",
   "execution_count": 10,
   "id": "operating-medication",
   "metadata": {},
   "outputs": [],
   "source": [
    "import Abbreviation_and_NC_Extraction\n",
    "import re\n",
    "import pandas as pd\n",
    "from string import punctuation"
   ]
  },
  {
   "cell_type": "markdown",
   "id": "vulnerable-nashville",
   "metadata": {},
   "source": [
    "## Load PURE Data from file:"
   ]
  },
  {
   "cell_type": "code",
   "execution_count": 4,
   "id": "private-hybrid",
   "metadata": {},
   "outputs": [],
   "source": [
    "pure_data = pd.read_csv('pure_data.CSV', names=[\"dataset\", \"id\", \"req_texts\"], sep='\\t', encoding='utf8')\n",
    "ids = list(pure_data['id'].values)\n",
    "reqs = list(pure_data['req_texts'].values)\n",
    "dataset = list(pure_data['dataset'].values)"
   ]
  },
  {
   "cell_type": "markdown",
   "id": "searching-rendering",
   "metadata": {},
   "source": [
    "## The main function: Collect the set of NCs and the set of Abbreviations independantly and compare their length at the end"
   ]
  },
  {
   "cell_type": "code",
   "execution_count": 6,
   "id": "surface-judge",
   "metadata": {},
   "outputs": [],
   "source": [
    "set_of_detected_ncs = set()\n",
    "for req in reqs:\n",
    "    set_of_detected_ncs = set_of_detected_ncs.union(Abbreviation_and_NC_Extraction.nc_detect(req))"
   ]
  },
  {
   "cell_type": "code",
   "execution_count": 7,
   "id": "olympic-monroe",
   "metadata": {},
   "outputs": [
    {
     "name": "stdout",
     "output_type": "stream",
     "text": [
      "server\n",
      "same entity\n",
      "physical interface\n",
      "interface communication\n",
      "ERTMS / ETCS\n",
      "propose mission plan\n",
      "driver information\n",
      "authority and economic operator\n",
      "Software Debug and Monitoring\n",
      "disconnection of radio\n",
      "only 10 minute\n",
      "telemetry\n",
      "only originator\n",
      "establishment\n",
      "cd drive\n",
      "demographic information\n",
      "analysis of event\n",
      "acceptance of package\n",
      "scope of investigation\n",
      "500 Hz and 700 Hz\n"
     ]
    }
   ],
   "source": [
    "for term in list(set_of_detected_ncs)[:20]:\n",
    "    print(term)"
   ]
  },
  {
   "cell_type": "code",
   "execution_count": 8,
   "id": "needed-berkeley",
   "metadata": {
    "scrolled": true
   },
   "outputs": [
    {
     "name": "stdout",
     "output_type": "stream",
     "text": [
      "3195\n"
     ]
    }
   ],
   "source": [
    "print(len(set_of_detected_ncs))"
   ]
  },
  {
   "cell_type": "code",
   "execution_count": 11,
   "id": "excess-python",
   "metadata": {},
   "outputs": [],
   "source": [
    "set_of_detected_abbreviations = set()\n",
    "for req in reqs:\n",
    "    extracted_abbreviations = Abbreviation_and_NC_Extraction.abbv_detect(req)\n",
    "    for abbv in extracted_abbreviations:\n",
    "        cleaned_abbv = re.sub(r\"[\\([{})\\]]\", \"\", abbv)\n",
    "        set_of_detected_abbreviations.add(cleaned_abbv.strip(punctuation))"
   ]
  },
  {
   "cell_type": "code",
   "execution_count": 12,
   "id": "affecting-roommate",
   "metadata": {
    "scrolled": false
   },
   "outputs": [
    {
     "name": "stdout",
     "output_type": "stream",
     "text": [
      "138\n"
     ]
    }
   ],
   "source": [
    "print(len(set_of_detected_abbreviations))"
   ]
  },
  {
   "cell_type": "code",
   "execution_count": 13,
   "id": "ancient-obligation",
   "metadata": {
    "scrolled": true
   },
   "outputs": [
    {
     "name": "stdout",
     "output_type": "stream",
     "text": [
      "23.152173913043477\n"
     ]
    }
   ],
   "source": [
    "ratio = len(set_of_detected_ncs)/len(set_of_detected_abbreviations)\n",
    "print(ratio)"
   ]
  }
 ],
 "metadata": {
  "kernelspec": {
   "display_name": "Python 3",
   "language": "python",
   "name": "python3"
  },
  "language_info": {
   "codemirror_mode": {
    "name": "ipython",
    "version": 3
   },
   "file_extension": ".py",
   "mimetype": "text/x-python",
   "name": "python",
   "nbconvert_exporter": "python",
   "pygments_lexer": "ipython3",
   "version": "3.6.12"
  }
 },
 "nbformat": 4,
 "nbformat_minor": 5
}
