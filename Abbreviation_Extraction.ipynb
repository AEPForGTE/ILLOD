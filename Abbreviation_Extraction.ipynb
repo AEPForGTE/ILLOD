{
 "cells": [
  {
   "cell_type": "markdown",
   "id": "black-buffer",
   "metadata": {},
   "source": [
    "# Evaluate and Optimize Abbreviation Extraction"
   ]
  },
  {
   "cell_type": "code",
   "execution_count": 1,
   "id": "demographic-chain",
   "metadata": {},
   "outputs": [],
   "source": [
    "import pandas as pd\n",
    "import string"
   ]
  },
  {
   "cell_type": "markdown",
   "id": "international-worth",
   "metadata": {},
   "source": [
    "## Load Pure Requirements from CSV-file"
   ]
  },
  {
   "cell_type": "code",
   "execution_count": 2,
   "id": "integrated-radical",
   "metadata": {},
   "outputs": [],
   "source": [
    "data = pd.read_csv('abbr_db.CSV', names=['abbr', 'long_forms'], sep=';', encoding='utf8')\n",
    "abbreviations = list(data['abbr'].values)\n",
    "expansions = list(data['long_forms'].values)"
   ]
  },
  {
   "cell_type": "markdown",
   "id": "silver-burke",
   "metadata": {},
   "source": [
    "## Helper function to calculate the proportion of upper case letters"
   ]
  },
  {
   "cell_type": "code",
   "execution_count": 3,
   "id": "square-feelings",
   "metadata": {},
   "outputs": [],
   "source": [
    "def portion_of_capital_letters(w):\n",
    "    upper_cases = ''.join([c for c in w if c.isupper()])\n",
    "    return len(upper_cases)/len(w)"
   ]
  },
  {
   "cell_type": "markdown",
   "id": "refined-ticket",
   "metadata": {},
   "source": [
    "## The method \"extraction_rule()\" is the function that has to be optimized"
   ]
  },
  {
   "cell_type": "code",
   "execution_count": 4,
   "id": "organic-sarah",
   "metadata": {},
   "outputs": [],
   "source": [
    "def extraction_rule(w, l_, ratio):\n",
    "    if len(w) <= l_ and portion_of_capital_letters(w) >= ratio:\n",
    "        return True\n",
    "    else:\n",
    "        return False"
   ]
  },
  {
   "cell_type": "markdown",
   "id": "prospective-translator",
   "metadata": {},
   "source": [
    "## Determine quality parameters for given extraction rule parameters \"l_\" (length of word) and \"ratio\" (proportion of upper case letters)"
   ]
  },
  {
   "cell_type": "code",
   "execution_count": 5,
   "id": "functioning-business",
   "metadata": {},
   "outputs": [],
   "source": [
    "def determine_FN(l_, ratio):\n",
    "    FN = 0\n",
    "    for abb in abbreviations:\n",
    "        if not extraction_rule(abb, l_, ratio):\n",
    "            FN = FN + 1\n",
    "    return FN"
   ]
  },
  {
   "cell_type": "code",
   "execution_count": 6,
   "id": "unauthorized-virtue",
   "metadata": {},
   "outputs": [],
   "source": [
    "def determine_FP(l_, ratio):\n",
    "    FP = 0\n",
    "    for exp in expansions:\n",
    "        for word in exp.split():\n",
    "            if extraction_rule(word, l_, ratio):\n",
    "                FP = FP + 1\n",
    "    return FP"
   ]
  },
  {
   "cell_type": "markdown",
   "id": "physical-liver",
   "metadata": {},
   "source": [
    "## The main function to conduct exhaustive search on"
   ]
  },
  {
   "cell_type": "code",
   "execution_count": 7,
   "id": "political-runner",
   "metadata": {
    "scrolled": true
   },
   "outputs": [
    {
     "name": "stdout",
     "output_type": "stream",
     "text": [
      "[13, 0.29, 0.9222160044767768, 0.9227323628219485, 0.922474111390988]\n"
     ]
    }
   ],
   "source": [
    "max_f1 = 0\n",
    "memory = []\n",
    "for word_length in range(1,21):\n",
    "    for search_step in range(1, 101):\n",
    "        ratio = search_step/100\n",
    "        FP = determine_FP(word_length, ratio)\n",
    "        FN = determine_FN(word_length, ratio)\n",
    "        TP = len(abbreviations) - FN\n",
    "        precision = TP/(TP + FP)\n",
    "        recall = TP/(TP + FN)\n",
    "        f1 = (2*recall*precision)/(recall + precision)\n",
    "        if f1 > max_f1:\n",
    "            max_f1 = f1\n",
    "            memory = [word_length, ratio, precision, recall, f1]\n",
    "print(memory)"
   ]
  },
  {
   "cell_type": "markdown",
   "id": "sweet-findings",
   "metadata": {},
   "source": [
    "## Check how many false negatives would still be produced "
   ]
  },
  {
   "cell_type": "code",
   "execution_count": null,
   "id": "multiple-mediterranean",
   "metadata": {},
   "outputs": [],
   "source": [
    "FN = 0\n",
    "for abb in abbreviations:\n",
    "    if not extraction_rule(abb, 13, 0.29):\n",
    "        FN = FN + 1\n",
    "        print(abb)\n",
    "print(str(FN))"
   ]
  }
 ],
 "metadata": {
  "kernelspec": {
   "display_name": "Python 3",
   "language": "python",
   "name": "python3"
  },
  "language_info": {
   "codemirror_mode": {
    "name": "ipython",
    "version": 3
   },
   "file_extension": ".py",
   "mimetype": "text/x-python",
   "name": "python",
   "nbconvert_exporter": "python",
   "pygments_lexer": "ipython3",
   "version": "3.6.12"
  }
 },
 "nbformat": 4,
 "nbformat_minor": 5
}
