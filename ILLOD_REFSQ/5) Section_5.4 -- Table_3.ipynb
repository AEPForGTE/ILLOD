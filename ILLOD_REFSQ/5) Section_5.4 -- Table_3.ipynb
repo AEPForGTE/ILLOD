{
 "cells": [
  {
   "cell_type": "markdown",
   "id": "impaired-scholarship",
   "metadata": {},
   "source": [
    "# Comparison of the 3 different AEP-Detection Types"
   ]
  },
  {
   "cell_type": "code",
   "execution_count": 1,
   "id": "outdoor-first",
   "metadata": {},
   "outputs": [],
   "source": [
    "import pandas as pd\n",
    "import string\n",
    "import jellyfish\n",
    "import random\n",
    "import ILLOD\n",
    "import Syntactic_Classifiers"
   ]
  },
  {
   "cell_type": "code",
   "execution_count": 4,
   "id": "japanese-clothing",
   "metadata": {},
   "outputs": [],
   "source": [
    "data = pd.read_csv('abbr_db.CSV', names=['abbr', 'long_forms'], sep=';', encoding='utf8')\n",
    "abbreviations = list(data['abbr'].values)\n",
    "expansions = list(data['long_forms'].values)"
   ]
  },
  {
   "cell_type": "markdown",
   "id": "offshore-character",
   "metadata": {},
   "source": [
    "## Semantic Classifier based on fastText"
   ]
  },
  {
   "cell_type": "code",
   "execution_count": 5,
   "id": "earlier-nirvana",
   "metadata": {},
   "outputs": [
    {
     "name": "stderr",
     "output_type": "stream",
     "text": [
      "Warning : `load_model` does not return WordVectorModel or SupervisedModel any more, but a `FastText` object which is very similar.\n"
     ]
    }
   ],
   "source": [
    "import pandas as pd\n",
    "import fasttext\n",
    "import fasttext.util\n",
    "from scipy import spatial\n",
    "# if not yet available please download fasttext wordvectors by commenting out the next line\n",
    "# fasttext.util.download_model('en', if_exists='ignore')\n",
    "ft = fasttext.load_model(\"cc.en.300.bin\")\n",
    "\n",
    "\n",
    "def fast_text_similarity(a, t, threshold):  \n",
    "    a_v = ft.get_word_vector(a)\n",
    "    t_v = ft.get_word_vector(t)\n",
    "    if 1 - spatial.distance.cosine(a_v, t_v) >= threshold:\n",
    "        return True\n",
    "    else:\n",
    "        return False\n",
    "\n",
    "    \n",
    "def fast_text_sim(a, t):\n",
    "    a_v = ft.get_word_vector(a)\n",
    "    t_v = ft.get_word_vector(t)\n",
    "    return 1 - spatial.distance.cosine(a_v, t_v)"
   ]
  },
  {
   "cell_type": "markdown",
   "id": "intimate-pound",
   "metadata": {},
   "source": [
    "## Cardinality of S"
   ]
  },
  {
   "cell_type": "code",
   "execution_count": 6,
   "id": "increased-ballet",
   "metadata": {},
   "outputs": [
    {
     "name": "stdout",
     "output_type": "stream",
     "text": [
      "2710125\n"
     ]
    }
   ],
   "source": [
    "# construction and cardinality of S:\n",
    "S = set()\n",
    "for i, abb in enumerate(abbreviations):\n",
    "    for j, exp in enumerate (expansions):\n",
    "        if abb != abbreviations[j]:\n",
    "            S.add((abb, exp))\n",
    "print(len(S))"
   ]
  },
  {
   "cell_type": "markdown",
   "id": "liberal-supervisor",
   "metadata": {},
   "source": [
    "# Evaluation of the 3 different AEP-Detection Types (Section 5.4)"
   ]
  },
  {
   "cell_type": "code",
   "execution_count": 7,
   "id": "cleared-constant",
   "metadata": {},
   "outputs": [],
   "source": [
    "def find_and_count_false_negatives(algo, threshold):\n",
    "    FN = 0\n",
    "    for i, abb in enumerate(abbreviations):\n",
    "        if not algo(abb, expansions[i], threshold):\n",
    "            # print(\"\\\"\"+abb+\"\\\"\"+\", \"+\"\\\"\"+expansions[i]+\"\\\"\")\n",
    "            FN += 1\n",
    "    return FN, str(FN) + \" FALSE NEGATIVES. Pairs that could not be detected out of \" + str(len(abbreviations)) + \" given pairs\""
   ]
  },
  {
   "cell_type": "code",
   "execution_count": 8,
   "id": "changed-poker",
   "metadata": {},
   "outputs": [],
   "source": [
    "def find_and_count_false_positives(algo, threshold, alpha):\n",
    "    test_set = []\n",
    "    while len(test_set) <= alpha * len(abbreviations):\n",
    "        rd1 = random.randint(0, len(abbreviations)-1)\n",
    "        rd2 = random.randint(0, len(abbreviations)-1)\n",
    "        if abbreviations[rd1] != abbreviations[rd2]:\n",
    "            test_set.append ((abbreviations[rd1], expansions[rd2]))\n",
    "            \n",
    "    count_of_false_examples = 0\n",
    "    FP = 0\n",
    "    for j, tup in enumerate (test_set): \n",
    "        if algo(tup[0], tup[1], threshold):\n",
    "            count_of_false_examples += 1\n",
    "            FP +=1\n",
    "    return FP, str(FP) + \" FALSE POSITIVE detections out of \" +  str(len(test_set)) + \" created false examples\""
   ]
  },
  {
   "cell_type": "code",
   "execution_count": 9,
   "id": "flush-softball",
   "metadata": {},
   "outputs": [],
   "source": [
    "def determine_quality_parameters(alpha, algo, search_space_for_F1_optimization):\n",
    "    max_f1 = 0\n",
    "    best_values = []\n",
    "    for th_ in search_space_for_F1_optimization:\n",
    "        result_on_L = find_and_count_false_negatives(algo, th_)\n",
    "        result_on_S = find_and_count_false_positives(algo, th_, alpha)\n",
    "        FN = result_on_L[0]\n",
    "        FP = result_on_S[0]\n",
    "        TP = len(abbreviations) - FN\n",
    "        \n",
    "        # A classifier that does nothing is not useful. This serves to avoid a division by zero    \n",
    "        if FP + TP == 0:\n",
    "            precision = 0\n",
    "            recall = 0\n",
    "            f1 = 0\n",
    "        else:\n",
    "            precision = TP/(TP + FP)\n",
    "            recall = TP/(TP + FN)\n",
    "            f1 = (2*precision*recall)/(precision+recall)\n",
    "            \n",
    "        # memorise the best F1 value in the loop so far.       \n",
    "        if f1 > max_f1:\n",
    "            best_values = [th_, precision, recall, f1]\n",
    "            max_f1 = f1\n",
    "    return best_values"
   ]
  },
  {
   "cell_type": "code",
   "execution_count": 10,
   "id": "applicable-portrait",
   "metadata": {},
   "outputs": [],
   "source": [
    "def evaluate_algorithm (algorithm, F1_optimization_search_space):\n",
    "    eval_data = {}\n",
    "    for alpha in [8, 16, 24, 48, 72]:\n",
    "        max_f1 = 0\n",
    "        best_values = []     \n",
    "        eval_data[alpha] = determine_quality_parameters(alpha, algorithm, F1_optimization_search_space)\n",
    "    return eval_data"
   ]
  },
  {
   "cell_type": "code",
   "execution_count": 22,
   "id": "revised-thompson",
   "metadata": {},
   "outputs": [],
   "source": [
    "step_list = [h/100 for h in list(range(0,100))]"
   ]
  },
  {
   "cell_type": "code",
   "execution_count": 23,
   "id": "burning-upper",
   "metadata": {
    "scrolled": false
   },
   "outputs": [
    {
     "data": {
      "text/html": [
       "<div>\n",
       "<style scoped>\n",
       "    .dataframe tbody tr th:only-of-type {\n",
       "        vertical-align: middle;\n",
       "    }\n",
       "\n",
       "    .dataframe tbody tr th {\n",
       "        vertical-align: top;\n",
       "    }\n",
       "\n",
       "    .dataframe thead th {\n",
       "        text-align: right;\n",
       "    }\n",
       "</style>\n",
       "<table border=\"1\" class=\"dataframe\">\n",
       "  <thead>\n",
       "    <tr style=\"text-align: right;\">\n",
       "      <th></th>\n",
       "      <th>8</th>\n",
       "      <th>16</th>\n",
       "      <th>24</th>\n",
       "      <th>48</th>\n",
       "      <th>72</th>\n",
       "    </tr>\n",
       "  </thead>\n",
       "  <tbody>\n",
       "    <tr>\n",
       "      <th>threshold</th>\n",
       "      <td>0.130000</td>\n",
       "      <td>0.130000</td>\n",
       "      <td>0.160000</td>\n",
       "      <td>0.160000</td>\n",
       "      <td>0.180000</td>\n",
       "    </tr>\n",
       "    <tr>\n",
       "      <th>precision</th>\n",
       "      <td>0.229376</td>\n",
       "      <td>0.127232</td>\n",
       "      <td>0.102396</td>\n",
       "      <td>0.053063</td>\n",
       "      <td>0.038424</td>\n",
       "    </tr>\n",
       "    <tr>\n",
       "      <th>recall</th>\n",
       "      <td>0.382979</td>\n",
       "      <td>0.382979</td>\n",
       "      <td>0.253639</td>\n",
       "      <td>0.253639</td>\n",
       "      <td>0.197648</td>\n",
       "    </tr>\n",
       "    <tr>\n",
       "      <th>F1</th>\n",
       "      <td>0.286913</td>\n",
       "      <td>0.191008</td>\n",
       "      <td>0.145894</td>\n",
       "      <td>0.087765</td>\n",
       "      <td>0.064340</td>\n",
       "    </tr>\n",
       "  </tbody>\n",
       "</table>\n",
       "</div>"
      ],
      "text/plain": [
       "                 8         16        24        48        72\n",
       "threshold  0.130000  0.130000  0.160000  0.160000  0.180000\n",
       "precision  0.229376  0.127232  0.102396  0.053063  0.038424\n",
       "recall     0.382979  0.382979  0.253639  0.253639  0.197648\n",
       "F1         0.286913  0.191008  0.145894  0.087765  0.064340"
      ]
     },
     "execution_count": 23,
     "metadata": {},
     "output_type": "execute_result"
    }
   ],
   "source": [
    "# FT (FASTTEXT)\n",
    "pd.DataFrame.from_dict(evaluate_algorithm (fast_text_similarity, step_list), orient=\"index\", columns=[\"threshold\", \"precision\", \"recall\", \"F1\"]).T"
   ]
  },
  {
   "cell_type": "code",
   "execution_count": 25,
   "id": "collect-relation",
   "metadata": {},
   "outputs": [
    {
     "data": {
      "text/html": [
       "<div>\n",
       "<style scoped>\n",
       "    .dataframe tbody tr th:only-of-type {\n",
       "        vertical-align: middle;\n",
       "    }\n",
       "\n",
       "    .dataframe tbody tr th {\n",
       "        vertical-align: top;\n",
       "    }\n",
       "\n",
       "    .dataframe thead th {\n",
       "        text-align: right;\n",
       "    }\n",
       "</style>\n",
       "<table border=\"1\" class=\"dataframe\">\n",
       "  <thead>\n",
       "    <tr style=\"text-align: right;\">\n",
       "      <th></th>\n",
       "      <th>8</th>\n",
       "      <th>16</th>\n",
       "      <th>24</th>\n",
       "      <th>48</th>\n",
       "      <th>72</th>\n",
       "    </tr>\n",
       "  </thead>\n",
       "  <tbody>\n",
       "    <tr>\n",
       "      <th>threshold</th>\n",
       "      <td>0.550000</td>\n",
       "      <td>0.540000</td>\n",
       "      <td>0.520000</td>\n",
       "      <td>0.700000</td>\n",
       "      <td>0.680000</td>\n",
       "    </tr>\n",
       "    <tr>\n",
       "      <th>precision</th>\n",
       "      <td>0.958763</td>\n",
       "      <td>0.911169</td>\n",
       "      <td>0.874060</td>\n",
       "      <td>0.968412</td>\n",
       "      <td>0.958848</td>\n",
       "    </tr>\n",
       "    <tr>\n",
       "      <th>recall</th>\n",
       "      <td>0.781075</td>\n",
       "      <td>0.781075</td>\n",
       "      <td>0.781075</td>\n",
       "      <td>0.652296</td>\n",
       "      <td>0.652296</td>\n",
       "    </tr>\n",
       "    <tr>\n",
       "      <th>F1</th>\n",
       "      <td>0.860845</td>\n",
       "      <td>0.841121</td>\n",
       "      <td>0.824956</td>\n",
       "      <td>0.779525</td>\n",
       "      <td>0.776408</td>\n",
       "    </tr>\n",
       "  </tbody>\n",
       "</table>\n",
       "</div>"
      ],
      "text/plain": [
       "                 8         16        24        48        72\n",
       "threshold  0.550000  0.540000  0.520000  0.700000  0.680000\n",
       "precision  0.958763  0.911169  0.874060  0.968412  0.958848\n",
       "recall     0.781075  0.781075  0.781075  0.652296  0.652296\n",
       "F1         0.860845  0.841121  0.824956  0.779525  0.776408"
      ]
     },
     "execution_count": 25,
     "metadata": {},
     "output_type": "execute_result"
    }
   ],
   "source": [
    "# LD (LEVENSHTEIN-DISTANCE)\n",
    "pd.DataFrame.from_dict(evaluate_algorithm (Syntactic_Classifiers.levensthein_similarity_on_reduction_of_expansion, step_list), orient=\"index\", columns=[\"threshold\", \"precision\", \"recall\", \"F1\"]).T"
   ]
  },
  {
   "cell_type": "code",
   "execution_count": 25,
   "id": "lightweight-peter",
   "metadata": {},
   "outputs": [
    {
     "data": {
      "text/html": [
       "<div>\n",
       "<style scoped>\n",
       "    .dataframe tbody tr th:only-of-type {\n",
       "        vertical-align: middle;\n",
       "    }\n",
       "\n",
       "    .dataframe tbody tr th {\n",
       "        vertical-align: top;\n",
       "    }\n",
       "\n",
       "    .dataframe thead th {\n",
       "        text-align: right;\n",
       "    }\n",
       "</style>\n",
       "<table border=\"1\" class=\"dataframe\">\n",
       "  <thead>\n",
       "    <tr style=\"text-align: right;\">\n",
       "      <th></th>\n",
       "      <th>8</th>\n",
       "      <th>16</th>\n",
       "      <th>24</th>\n",
       "      <th>48</th>\n",
       "      <th>72</th>\n",
       "    </tr>\n",
       "  </thead>\n",
       "  <tbody>\n",
       "    <tr>\n",
       "      <th>threshold</th>\n",
       "      <td>0.730000</td>\n",
       "      <td>0.790000</td>\n",
       "      <td>0.790000</td>\n",
       "      <td>0.790000</td>\n",
       "      <td>0.840000</td>\n",
       "    </tr>\n",
       "    <tr>\n",
       "      <th>precision</th>\n",
       "      <td>0.889404</td>\n",
       "      <td>0.948169</td>\n",
       "      <td>0.903821</td>\n",
       "      <td>0.835566</td>\n",
       "      <td>0.899926</td>\n",
       "    </tr>\n",
       "    <tr>\n",
       "      <th>recall</th>\n",
       "      <td>0.860022</td>\n",
       "      <td>0.768197</td>\n",
       "      <td>0.768197</td>\n",
       "      <td>0.768197</td>\n",
       "      <td>0.684770</td>\n",
       "    </tr>\n",
       "    <tr>\n",
       "      <th>F1</th>\n",
       "      <td>0.874466</td>\n",
       "      <td>0.848747</td>\n",
       "      <td>0.830508</td>\n",
       "      <td>0.800467</td>\n",
       "      <td>0.777742</td>\n",
       "    </tr>\n",
       "  </tbody>\n",
       "</table>\n",
       "</div>"
      ],
      "text/plain": [
       "                 8         16        24        48        72\n",
       "threshold  0.730000  0.790000  0.790000  0.790000  0.840000\n",
       "precision  0.889404  0.948169  0.903821  0.835566  0.899926\n",
       "recall     0.860022  0.768197  0.768197  0.768197  0.684770\n",
       "F1         0.874466  0.848747  0.830508  0.800467  0.777742"
      ]
     },
     "execution_count": 25,
     "metadata": {},
     "output_type": "execute_result"
    }
   ],
   "source": [
    "# JWS (JARO-WINKLER-SIMILARITY)\n",
    "pd.DataFrame.from_dict(evaluate_algorithm (Syntactic_Classifiers.jaro_winkler_similarity_on_reduction_of_expansion, step_list), orient=\"index\", columns=[\"threshold\", \"precision\", \"recall\", \"F1\"]).T"
   ]
  },
  {
   "cell_type": "code",
   "execution_count": 26,
   "id": "boolean-latin",
   "metadata": {
    "scrolled": true
   },
   "outputs": [
    {
     "data": {
      "text/html": [
       "<div>\n",
       "<style scoped>\n",
       "    .dataframe tbody tr th:only-of-type {\n",
       "        vertical-align: middle;\n",
       "    }\n",
       "\n",
       "    .dataframe tbody tr th {\n",
       "        vertical-align: top;\n",
       "    }\n",
       "\n",
       "    .dataframe thead th {\n",
       "        text-align: right;\n",
       "    }\n",
       "</style>\n",
       "<table border=\"1\" class=\"dataframe\">\n",
       "  <thead>\n",
       "    <tr style=\"text-align: right;\">\n",
       "      <th></th>\n",
       "      <th>8</th>\n",
       "      <th>16</th>\n",
       "      <th>24</th>\n",
       "      <th>48</th>\n",
       "      <th>72</th>\n",
       "    </tr>\n",
       "  </thead>\n",
       "  <tbody>\n",
       "    <tr>\n",
       "      <th>threshold</th>\n",
       "      <td>0.750000</td>\n",
       "      <td>0.790000</td>\n",
       "      <td>0.770000</td>\n",
       "      <td>0.820000</td>\n",
       "      <td>0.850000</td>\n",
       "    </tr>\n",
       "    <tr>\n",
       "      <th>precision</th>\n",
       "      <td>0.921896</td>\n",
       "      <td>0.871383</td>\n",
       "      <td>0.822708</td>\n",
       "      <td>0.870246</td>\n",
       "      <td>0.810848</td>\n",
       "    </tr>\n",
       "    <tr>\n",
       "      <th>recall</th>\n",
       "      <td>0.773236</td>\n",
       "      <td>0.758679</td>\n",
       "      <td>0.758679</td>\n",
       "      <td>0.653415</td>\n",
       "      <td>0.652856</td>\n",
       "    </tr>\n",
       "    <tr>\n",
       "      <th>F1</th>\n",
       "      <td>0.841048</td>\n",
       "      <td>0.811134</td>\n",
       "      <td>0.789397</td>\n",
       "      <td>0.746402</td>\n",
       "      <td>0.723325</td>\n",
       "    </tr>\n",
       "  </tbody>\n",
       "</table>\n",
       "</div>"
      ],
      "text/plain": [
       "                 8         16        24        48        72\n",
       "threshold  0.750000  0.790000  0.770000  0.820000  0.850000\n",
       "precision  0.921896  0.871383  0.822708  0.870246  0.810848\n",
       "recall     0.773236  0.758679  0.758679  0.653415  0.652856\n",
       "F1         0.841048  0.811134  0.789397  0.746402  0.723325"
      ]
     },
     "execution_count": 26,
     "metadata": {},
     "output_type": "execute_result"
    }
   ],
   "source": [
    "# DC (DICE-COEFFICIENT)\n",
    "pd.DataFrame.from_dict(evaluate_algorithm (Syntactic_Classifiers.dice_coefficient_on_reduction_of_expansion , step_list), orient=\"index\", columns=[\"threshold\", \"precision\", \"recall\", \"F1\"]).T"
   ]
  },
  {
   "cell_type": "code",
   "execution_count": 27,
   "id": "czech-metadata",
   "metadata": {
    "scrolled": true
   },
   "outputs": [
    {
     "data": {
      "text/html": [
       "<div>\n",
       "<style scoped>\n",
       "    .dataframe tbody tr th:only-of-type {\n",
       "        vertical-align: middle;\n",
       "    }\n",
       "\n",
       "    .dataframe tbody tr th {\n",
       "        vertical-align: top;\n",
       "    }\n",
       "\n",
       "    .dataframe thead th {\n",
       "        text-align: right;\n",
       "    }\n",
       "</style>\n",
       "<table border=\"1\" class=\"dataframe\">\n",
       "  <thead>\n",
       "    <tr style=\"text-align: right;\">\n",
       "      <th></th>\n",
       "      <th>8</th>\n",
       "      <th>16</th>\n",
       "      <th>24</th>\n",
       "      <th>48</th>\n",
       "      <th>72</th>\n",
       "    </tr>\n",
       "  </thead>\n",
       "  <tbody>\n",
       "    <tr>\n",
       "      <th>threshold</th>\n",
       "      <td>-1.000000</td>\n",
       "      <td>-1.000000</td>\n",
       "      <td>-1.000000</td>\n",
       "      <td>-1.000000</td>\n",
       "      <td>-1.000000</td>\n",
       "    </tr>\n",
       "    <tr>\n",
       "      <th>precision</th>\n",
       "      <td>0.987871</td>\n",
       "      <td>0.974282</td>\n",
       "      <td>0.963905</td>\n",
       "      <td>0.922946</td>\n",
       "      <td>0.888222</td>\n",
       "    </tr>\n",
       "    <tr>\n",
       "      <th>recall</th>\n",
       "      <td>0.912094</td>\n",
       "      <td>0.912094</td>\n",
       "      <td>0.912094</td>\n",
       "      <td>0.912094</td>\n",
       "      <td>0.912094</td>\n",
       "    </tr>\n",
       "    <tr>\n",
       "      <th>F1</th>\n",
       "      <td>0.948472</td>\n",
       "      <td>0.942163</td>\n",
       "      <td>0.937284</td>\n",
       "      <td>0.917488</td>\n",
       "      <td>0.900000</td>\n",
       "    </tr>\n",
       "  </tbody>\n",
       "</table>\n",
       "</div>"
      ],
      "text/plain": [
       "                 8         16        24        48        72\n",
       "threshold -1.000000 -1.000000 -1.000000 -1.000000 -1.000000\n",
       "precision  0.987871  0.974282  0.963905  0.922946  0.888222\n",
       "recall     0.912094  0.912094  0.912094  0.912094  0.912094\n",
       "F1         0.948472  0.942163  0.937284  0.917488  0.900000"
      ]
     },
     "execution_count": 27,
     "metadata": {},
     "output_type": "execute_result"
    }
   ],
   "source": [
    "# ILLOD\n",
    "pd.DataFrame.from_dict(evaluate_algorithm (ILLOD.illod, [-1]), orient=\"index\", columns=[\"threshold\", \"precision\", \"recall\", \"F1\"]).T"
   ]
  }
 ],
 "metadata": {
  "kernelspec": {
   "display_name": "Python 3",
   "language": "python",
   "name": "python3"
  },
  "language_info": {
   "codemirror_mode": {
    "name": "ipython",
    "version": 3
   },
   "file_extension": ".py",
   "mimetype": "text/x-python",
   "name": "python",
   "nbconvert_exporter": "python",
   "pygments_lexer": "ipython3",
   "version": "3.8.10"
  }
 },
 "nbformat": 4,
 "nbformat_minor": 5
}
