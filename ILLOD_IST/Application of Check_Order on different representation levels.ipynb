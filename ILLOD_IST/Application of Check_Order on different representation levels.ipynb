{
 "cells": [
  {
   "cell_type": "code",
   "execution_count": 1,
   "metadata": {},
   "outputs": [
    {
     "data": {
      "text/plain": [
       "<spacy_syllables.SpacySyllables at 0x15523392d30>"
      ]
     },
     "execution_count": 1,
     "metadata": {},
     "output_type": "execute_result"
    }
   ],
   "source": [
    "import string\n",
    "import pandas as pd\n",
    "import jellyfish\n",
    "import random\n",
    "import math\n",
    "import wordninja\n",
    "import spacy\n",
    "import re\n",
    "from spacy_syllables import SpacySyllables\n",
    "nlp = spacy.load(\"en_core_web_sm\")\n",
    "nlp.add_pipe(\"syllables\", after=\"tagger\")"
   ]
  },
  {
   "cell_type": "code",
   "execution_count": 2,
   "metadata": {},
   "outputs": [],
   "source": [
    "data = pd.read_csv('abbr_db.CSV', names=['abbr', 'long_forms'], sep=';', encoding='utf8')\n",
    "abbr = list(data['abbr'].values)\n",
    "long_forms = list(data['long_forms'].values)"
   ]
  },
  {
   "cell_type": "code",
   "execution_count": 3,
   "metadata": {},
   "outputs": [],
   "source": [
    "extension_cands = [(\"ex\", \"xex\"), (\" to \", \" 2to \"), (\" one \", \" 1one \"), (\" two \", \" 2two \"), (\" three \", \" 3three\" ), \n",
    "(\" one\", \" 1one\"), (\" two\", \" 2two\"), (\"-to-\", \"-2to-\"), (\"-one-\", \"-1one-\"), (\"-two-\", \"-2two-\"),\n",
    "(\"-three-\", \"-3three-\" ), (\" one\", \" 1one\"), (\" two\", \" 2two\"), (\" three\", \" 3three\"), \n",
    "(\" four\", \" 4four\"), (\" 1 \", \" 1one \"), (\" 2 \", \" 2two \"), (\" 3 \", \" 3three \"), (\" and \", \" &and \"), \n",
    "(\" & \", \" &and \"), (\" & \", \" &and \"), (\" + \", \" +plus \")]"
   ]
  },
  {
   "cell_type": "code",
   "execution_count": 4,
   "metadata": {},
   "outputs": [],
   "source": [
    "def lower_aep_candidate_pairs (a, t):\n",
    "    return a.lower(), t.lower()"
   ]
  },
  {
   "cell_type": "code",
   "execution_count": 5,
   "metadata": {},
   "outputs": [],
   "source": [
    "def check_order_rtl(a, t):\n",
    "    abbv_reversed = a.lower()[::-1]\n",
    "    term_reversed = t.lower()[::-1]\n",
    "    len_of_term = len(t)\n",
    "    \n",
    "    pos_memory = 0\n",
    "    pos_memory_list = []\n",
    "    order_matching_string_rev = \"\"\n",
    "    first_letter_of_term_already_reached = False\n",
    "    \n",
    "    for j, char_from_abbv in enumerate(abbv_reversed):\n",
    "        if j == len(abbv_reversed) - 1:\n",
    "            if char_from_abbv == term_reversed[-1] and first_letter_of_term_already_reached:\n",
    "                continue\n",
    "            elif char_from_abbv == term_reversed[-1]:\n",
    "                order_matching_string_rev = order_matching_string_rev + char_from_abbv\n",
    "                pos_memory_list.append(0)\n",
    "        else:\n",
    "            for i, char_from_term in enumerate(term_reversed[pos_memory:]):\n",
    "                remained_term_to_be_checked = term_reversed[pos_memory:]\n",
    "                if char_from_abbv == char_from_term:\n",
    "                    order_matching_string_rev = order_matching_string_rev + char_from_abbv\n",
    "                    pos_memory = pos_memory + i + 1\n",
    "                    pos_memory_list.append(len_of_term - pos_memory)\n",
    "                    if i+1 == len(remained_term_to_be_checked):\n",
    "                        first_letter_of_term_already_reached = True\n",
    "                    break\n",
    "                \n",
    "    if order_matching_string_rev == abbv_reversed:\n",
    "        return True, pos_memory_list[::-1]\n",
    "    else:\n",
    "        return False, pos_memory_list[::-1]\n",
    "\n",
    "def extract_initial_letters_of_syllables(abbv, term):\n",
    "    term = re.sub('\\d+', '', term)\n",
    "    term = \" \".join(w for w in wordninja.split(term))\n",
    "    doc = nlp(term)\n",
    "    syl_list_ = [token._.syllables for token in doc]\n",
    "    #syl_list_ = [token for token in syl_list if token]\n",
    "    syls = []\n",
    "    for sl in syl_list_:\n",
    "        for s in sl:\n",
    "            syls.append(s)\n",
    "    initial_letters_of_syllables = \"\".join(s[0].lower() for s in syls)\n",
    "    return initial_letters_of_syllables"
   ]
  },
  {
   "cell_type": "code",
   "execution_count": 6,
   "metadata": {
    "scrolled": true
   },
   "outputs": [
    {
     "data": {
      "text/plain": [
       "'altdit'"
      ]
     },
     "execution_count": 6,
     "metadata": {},
     "output_type": "execute_result"
    }
   ],
   "source": [
    "extract_initial_letters_of_syllables(\"ADC\", \"analog-to-digital\")"
   ]
  },
  {
   "cell_type": "code",
   "execution_count": 7,
   "metadata": {},
   "outputs": [],
   "source": [
    "def clf_with_acronyms(a,t):\n",
    "    if (a[0].lower() == t[0].lower()):\n",
    "        a, t = lower_aep_candidate_pairs(a, t)\n",
    "        acronym_of_term = ''.join([c[0] for c in t.split()])\n",
    "        return check_order_rtl(a, acronym_of_term)[0]\n",
    "    else:\n",
    "        return False"
   ]
  },
  {
   "cell_type": "code",
   "execution_count": 8,
   "metadata": {},
   "outputs": [],
   "source": [
    "def clf_with_syllables(a,t):\n",
    "    if (a[0].lower() == t[0].lower()):\n",
    "        a, t = lower_aep_candidate_pairs(a, t)\n",
    "        t_ = re.sub('[\\'-./+\\\\\\\\]',  ' ', t)\n",
    "        t_ = \" \".join(w for w in t_.split())\n",
    "        acronym_of_syllables = extract_initial_letters_of_syllables(a, t_)\n",
    "        return check_order_rtl(a, acronym_of_syllables)[0]\n",
    "    else:\n",
    "        return False"
   ]
  },
  {
   "cell_type": "code",
   "execution_count": 9,
   "metadata": {},
   "outputs": [],
   "source": [
    "def clf_on_raw_term(a,t):\n",
    "    if (a[0].lower() == t[0].lower()):\n",
    "        a, t = lower_aep_candidate_pairs(a, t)\n",
    "        return check_order_rtl(a,t)[0]\n",
    "    else:\n",
    "        return False"
   ]
  },
  {
   "cell_type": "code",
   "execution_count": 10,
   "metadata": {},
   "outputs": [],
   "source": [
    "def extend_term(t):\n",
    "    extended_t = t\n",
    "    for pair in extension_cands:\n",
    "        if pair[0] in t:\n",
    "            extended_t = extended_t.replace(pair[0], pair[1])\n",
    "    return extended_t\n",
    "\n",
    "\n",
    "def clf_on_extended_term(a,t):\n",
    "    if (a[0].lower() == t[0].lower()) or \"ex\" in t.lower():\n",
    "        a, t = lower_aep_candidate_pairs (a, t)\n",
    "        extended_t = extend_term(t)\n",
    "        return check_order_rtl(a, extended_t)[0]\n",
    "    else:\n",
    "        return False"
   ]
  },
  {
   "cell_type": "code",
   "execution_count": 11,
   "metadata": {},
   "outputs": [
    {
     "name": "stdout",
     "output_type": "stream",
     "text": [
      "2710125\n"
     ]
    }
   ],
   "source": [
    "S = set()\n",
    "for i, abb in enumerate(abbr):\n",
    "    for j, exp in enumerate (long_forms):\n",
    "        if abb != abbr[j]:\n",
    "            S.add((abb, exp))\n",
    "print(len(S))\n",
    "\n",
    "fp_list = []\n",
    "\n",
    "def calc_fp(algo):\n",
    "    FP = 0\n",
    "    iteration_counter = 0\n",
    "    for sf_lf_tuple in S:\n",
    "        if algo(sf_lf_tuple[0], sf_lf_tuple[1]):\n",
    "            fp_list.append(sf_lf_tuple)\n",
    "            #print(\"\\\"\" + sf_lf_tuple[0] + \"\\\", \" + \"\\\"\" + sf_lf_tuple[1] + \"\\\"\")\n",
    "            FP +=1\n",
    "        #iteration_counter = iteration_counter +1\n",
    "        #if iteration_counter % 50000 == 0:\n",
    "        #    print(\"#########################\")\n",
    "        #    print (\"iteration count is: \" + str(iteration_counter))\n",
    "    return str(FP) + \" FALSE POSITIVE detections out of \" +  str(len(S)) + \" created false examples\""
   ]
  },
  {
   "cell_type": "code",
   "execution_count": 12,
   "metadata": {},
   "outputs": [],
   "source": [
    "def calc_fn(algo):\n",
    "    FN = 0\n",
    "    for i, abb in enumerate(abbr):\n",
    "        if not algo(abb, long_forms[i]):\n",
    "            #print(\"\\\"\" + abb + \"\\\", \" + \"\\\"\" + long_forms[i] + \"\\\"\")\n",
    "            #print(\"##################################\")\n",
    "            FN += 1\n",
    "    return str(FN) + \" FALSE NEGATIVES. Pairs that could not be detected out of \" + str(len(abbr)) + \" given pairs\""
   ]
  },
  {
   "cell_type": "code",
   "execution_count": 23,
   "metadata": {},
   "outputs": [],
   "source": [
    "#################### clf_on_extended_term"
   ]
  },
  {
   "cell_type": "code",
   "execution_count": 49,
   "metadata": {},
   "outputs": [
    {
     "name": "stdout",
     "output_type": "stream",
     "text": [
      "29648 FALSE POSITIVE detections out of 2710125 created false examples\n"
     ]
    }
   ],
   "source": [
    "b = calc_fp(clf_on_extended_term)\n",
    "print(b)"
   ]
  },
  {
   "cell_type": "code",
   "execution_count": 48,
   "metadata": {
    "scrolled": true
   },
   "outputs": [
    {
     "name": "stdout",
     "output_type": "stream",
     "text": [
      "100 FALSE NEGATIVES. Pairs that could not be detected out of 1786 given pairs\n"
     ]
    }
   ],
   "source": [
    "a = calc_fn(clf_on_extended_term)\n",
    "print(a)"
   ]
  },
  {
   "cell_type": "code",
   "execution_count": 26,
   "metadata": {},
   "outputs": [],
   "source": [
    "#################### clf_on_raw_term"
   ]
  },
  {
   "cell_type": "code",
   "execution_count": 47,
   "metadata": {},
   "outputs": [
    {
     "name": "stdout",
     "output_type": "stream",
     "text": [
      "29856 FALSE POSITIVE detections out of 2710125 created false examples\n"
     ]
    }
   ],
   "source": [
    "b = calc_fp(clf_on_raw_term)\n",
    "print(b)"
   ]
  },
  {
   "cell_type": "code",
   "execution_count": 46,
   "metadata": {
    "scrolled": true
   },
   "outputs": [
    {
     "name": "stdout",
     "output_type": "stream",
     "text": [
      "104 FALSE NEGATIVES. Pairs that could not be detected out of 1786 given pairs\n"
     ]
    }
   ],
   "source": [
    "a = calc_fn(clf_on_raw_term)\n",
    "print(a)"
   ]
  },
  {
   "cell_type": "code",
   "execution_count": 18,
   "metadata": {},
   "outputs": [],
   "source": [
    "#################### clf_with_syllables"
   ]
  },
  {
   "cell_type": "code",
   "execution_count": 62,
   "metadata": {},
   "outputs": [
    {
     "name": "stdout",
     "output_type": "stream",
     "text": [
      "7164 FALSE POSITIVE detections out of 2710125 created false examples\n"
     ]
    }
   ],
   "source": [
    "b = calc_fp(clf_with_syllables)\n",
    "print(b)"
   ]
  },
  {
   "cell_type": "code",
   "execution_count": 61,
   "metadata": {},
   "outputs": [
    {
     "name": "stdout",
     "output_type": "stream",
     "text": [
      "462 FALSE NEGATIVES. Pairs that could not be detected out of 1786 given pairs\n"
     ]
    }
   ],
   "source": [
    "a = calc_fn(clf_with_syllables)\n",
    "print(a)"
   ]
  },
  {
   "cell_type": "code",
   "execution_count": 30,
   "metadata": {},
   "outputs": [],
   "source": [
    "#################### clf_with_acronyms"
   ]
  },
  {
   "cell_type": "code",
   "execution_count": 31,
   "metadata": {},
   "outputs": [
    {
     "name": "stdout",
     "output_type": "stream",
     "text": [
      "2147 FALSE POSITIVE detections out of 2710125 created false examples\n"
     ]
    }
   ],
   "source": [
    "b = calc_fp(clf_with_acronyms)\n",
    "print(b)"
   ]
  },
  {
   "cell_type": "code",
   "execution_count": 32,
   "metadata": {
    "scrolled": true
   },
   "outputs": [
    {
     "name": "stdout",
     "output_type": "stream",
     "text": [
      "734 FALSE NEGATIVES. Pairs that could not be detected out of 1786 given pairs\n"
     ]
    }
   ],
   "source": [
    "a = calc_fn(clf_with_acronyms)\n",
    "print(a)"
   ]
  }
 ],
 "metadata": {
  "kernelspec": {
   "display_name": "Python 3",
   "language": "python",
   "name": "python3"
  },
  "language_info": {
   "codemirror_mode": {
    "name": "ipython",
    "version": 3
   },
   "file_extension": ".py",
   "mimetype": "text/x-python",
   "name": "python",
   "nbconvert_exporter": "python",
   "pygments_lexer": "ipython3",
   "version": "3.7.3"
  }
 },
 "nbformat": 4,
 "nbformat_minor": 2
}
