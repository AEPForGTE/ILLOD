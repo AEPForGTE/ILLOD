{
 "cells": [
  {
   "cell_type": "code",
   "execution_count": 1,
   "id": "speaking-environment",
   "metadata": {
    "scrolled": true
   },
   "outputs": [],
   "source": [
    "import pandas as pd\n",
    "import string\n",
    "import pandas as pd\n",
    "import jellyfish\n",
    "import random"
   ]
  },
  {
   "cell_type": "markdown",
   "id": "rocky-senegal",
   "metadata": {},
   "source": [
    "# Abbreviation-Expansion List\n",
    "Before we go into the details of the ILLOD tool, we first will give some insights into our evaluation data for AEP-Detection"
   ]
  },
  {
   "cell_type": "code",
   "execution_count": 2,
   "id": "experimental-departure",
   "metadata": {},
   "outputs": [],
   "source": [
    "data = pd.read_csv('abbr_db.CSV', names=['abbr', 'long_forms'], sep=';', encoding='utf8')\n",
    "abbreviations = list(data['abbr'].values)\n",
    "expansions = list(data['long_forms'].values)\n",
    "#for i, abb in enumerate(abbreviations):\n",
    "#    print(str(i) + \": \" + abb + \"| \" + expansions[i])"
   ]
  },
  {
   "cell_type": "markdown",
   "id": "olympic-target",
   "metadata": {},
   "source": [
    "# Introducing Helper Functions\n",
    "These helper functions are needed in order to provide important methods for syntactic and semantic similarity measures and for ILLOD. We need a method to calculate the dice coefficient between two given strings since the jellyfish package doesnt provide this funcionality"
   ]
  },
  {
   "cell_type": "code",
   "execution_count": 3,
   "id": "legendary-buffalo",
   "metadata": {},
   "outputs": [],
   "source": [
    "def dice_coefficient(a, b):\n",
    "    \"\"\"dice coefficient 2nt/(na + nb).\"\"\"\n",
    "    a_bigrams = set(a.lower())\n",
    "    b_bigrams = set(b.lower())\n",
    "    overlap = len(a_bigrams & b_bigrams)\n",
    "    return overlap * 2.0 / (len(a_bigrams) + len(b_bigrams))"
   ]
  },
  {
   "cell_type": "markdown",
   "id": "killing-entertainment",
   "metadata": {},
   "source": [
    "### Method to remove puntuation marks from  a given strings "
   ]
  },
  {
   "cell_type": "code",
   "execution_count": 4,
   "id": "solid-circle",
   "metadata": {},
   "outputs": [],
   "source": [
    "def clean_string(s):\n",
    "    s_lower = s.lower()\n",
    "    invalidcharacters = set(string.punctuation)\n",
    "    if any(char in invalidcharacters for char in s):\n",
    "        s_ = s_lower.translate(str.maketrans('', '', string.punctuation))\n",
    "    else:\n",
    "        s_ = s_lower\n",
    "    return s_"
   ]
  },
  {
   "cell_type": "markdown",
   "id": "connected-honor",
   "metadata": {},
   "source": [
    "### Method to remove stop words from  a given term"
   ]
  },
  {
   "cell_type": "code",
   "execution_count": 5,
   "id": "significant-brave",
   "metadata": {},
   "outputs": [],
   "source": [
    "def stop_words_handling(term):\n",
    "    splitted_term = term.split()\n",
    "    stop_words = set([\"for\", \"and\", \"of\", \"in\", \"via\", \"be\"])\n",
    "    \n",
    "    if splitted_term[0] in stop_words:\n",
    "        stop_words = stop_words - set([splitted_term[0]])\n",
    "                \n",
    "    for sw in stop_words:\n",
    "        while sw in splitted_term:\n",
    "            splitted_term.remove(sw)\n",
    "    sanitized_term = \" \".join([w for w in splitted_term]) \n",
    "        \n",
    "    return sanitized_term"
   ]
  },
  {
   "cell_type": "markdown",
   "id": "sexual-tunnel",
   "metadata": {},
   "source": [
    "### Method to calculate and return $(a^{c}, potAbb(t^{c}))$  for a given pair $(a,t)$"
   ]
  },
  {
   "cell_type": "code",
   "execution_count": 6,
   "id": "stuffed-document",
   "metadata": {},
   "outputs": [],
   "source": [
    "def clean_string_pair_and_reduce_expansion(abb, term):\n",
    "    abb_lower = abb.lower()\n",
    "    term_lower = term.lower()\n",
    "    sanitized_abbv = clean_string(abb_lower)\n",
    "    sanitized_term = clean_string(term_lower)   \n",
    "    sanitized_term_without_stopswords = stop_words_handling(sanitized_term)\n",
    "    initial_letters_of_tokens_of_sanitized_term_without_stopswords = ''.join([c[0] for c in sanitized_term_without_stopswords.split()])\n",
    "    return sanitized_abbv, initial_letters_of_tokens_of_sanitized_term_without_stopswords"
   ]
  },
  {
   "cell_type": "markdown",
   "id": "sudden-deployment",
   "metadata": {},
   "source": [
    "# Classifiers based on semantic similarity (FastText)\n",
    "## Algortihm 1"
   ]
  },
  {
   "cell_type": "code",
   "execution_count": 7,
   "id": "soviet-parade",
   "metadata": {},
   "outputs": [
    {
     "name": "stderr",
     "output_type": "stream",
     "text": [
      "Warning : `load_model` does not return WordVectorModel or SupervisedModel any more, but a `FastText` object which is very similar.\n"
     ]
    }
   ],
   "source": [
    "import fasttext\n",
    "import fasttext.util\n",
    "from scipy import spatial\n",
    "# fasttext.util.download_model('en', if_exists='ignore')\n",
    "ft = fasttext.load_model(\"cc.en.300.bin\")"
   ]
  },
  {
   "cell_type": "code",
   "execution_count": 8,
   "id": "universal-forwarding",
   "metadata": {},
   "outputs": [],
   "source": [
    "def fast_text_similarity(a, t, threshold):\n",
    "    \n",
    "    a_v = ft.get_word_vector(a)\n",
    "    t_v = ft.get_word_vector(t)\n",
    "    if 1 - spatial.distance.cosine(a_v, t_v) >= threshold:\n",
    "        return True\n",
    "    else:\n",
    "        return False"
   ]
  },
  {
   "cell_type": "markdown",
   "id": "funky-diving",
   "metadata": {},
   "source": [
    "##  Cosine Similarity on Fasttext Wordvectors"
   ]
  },
  {
   "cell_type": "code",
   "execution_count": 9,
   "id": "textile-letter",
   "metadata": {},
   "outputs": [],
   "source": [
    "def fast_text_sim(a, t):\n",
    "    \n",
    "    a_v = ft.get_word_vector(a)\n",
    "    t_v = ft.get_word_vector(t)\n",
    "    return 1 - spatial.distance.cosine(a_v, t_v)"
   ]
  },
  {
   "cell_type": "code",
   "execution_count": null,
   "id": "sapphire-quarter",
   "metadata": {},
   "outputs": [],
   "source": []
  },
  {
   "cell_type": "markdown",
   "id": "stopped-import",
   "metadata": {},
   "source": [
    "# Classifiers based on syntactic similarity (LD, JWS, DC, DC)\n",
    "## Algorithm 2 in different variants"
   ]
  },
  {
   "cell_type": "code",
   "execution_count": 10,
   "id": "adaptive-plymouth",
   "metadata": {},
   "outputs": [],
   "source": [
    "def levensthein_distance_on_reduction_of_expansion(a, term, threshold):\n",
    "    a_, t_ = clean_string_pair_and_reduce_expansion(a, term)\n",
    "    if jellyfish.levenshtein_distance(a_, t_) <= threshold:\n",
    "        return True\n",
    "    else:\n",
    "        return False"
   ]
  },
  {
   "cell_type": "code",
   "execution_count": 11,
   "id": "acquired-pendant",
   "metadata": {},
   "outputs": [],
   "source": [
    "def jaro_winkler_similarity_on_reduction_of_expansion(a, term, threshold):\n",
    "    a_, t_ = clean_string_pair_and_reduce_expansion(a, term)\n",
    "    if jellyfish.jaro_winkler_similarity(a_, t_) >= threshold:\n",
    "        return True\n",
    "    else:\n",
    "        return False"
   ]
  },
  {
   "cell_type": "code",
   "execution_count": 12,
   "id": "infectious-ecuador",
   "metadata": {},
   "outputs": [],
   "source": [
    "def dice_coefficient_on_reduction_of_expansion(a, term, threshold):\n",
    "    a_, t_ = clean_string_pair_and_reduce_expansion(a, term)\n",
    "    if dice_coefficient(a_, t_) >= threshold:\n",
    "        return True\n",
    "    else:\n",
    "        return False"
   ]
  },
  {
   "cell_type": "code",
   "execution_count": null,
   "id": "ethical-weather",
   "metadata": {},
   "outputs": [],
   "source": []
  },
  {
   "cell_type": "markdown",
   "id": "meaningful-broadway",
   "metadata": {},
   "source": [
    "# Replicability: \n",
    "## Similarities for Table 1 (Section 4.2)"
   ]
  },
  {
   "cell_type": "code",
   "execution_count": 13,
   "id": "alike-economics",
   "metadata": {},
   "outputs": [],
   "source": [
    "random_AEP_pairs = [\n",
    "    (\"LED monitor\", \"light-emitting diode\"),\n",
    "    (\"Int\", \"integer\"),\n",
    "    (\"PS/2\", \"Personal System/2\"),\n",
    "    (\"IANA\", \"Internet Assigned Numbers Authority\"),\n",
    "    (\"SMM\", \"System Management Mode\"),\n",
    "    (\"U/L\", \"upload\"),\n",
    "    (\"IAP\", \"Internet access provider\"),\n",
    "    (\"CLNS\", \"connectionless network service\"),\n",
    "    (\"MMC\", \"MultiMediaCard\"),\n",
    "    (\"I/O\", \"input/output\")\n",
    "]"
   ]
  },
  {
   "cell_type": "code",
   "execution_count": 14,
   "id": "chicken-provision",
   "metadata": {
    "scrolled": true
   },
   "outputs": [
    {
     "name": "stdout",
     "output_type": "stream",
     "text": [
      "+++++++++++++++++++++++++++++++++++++++++++++++\n",
      "Similarities for (LED monitor, light-emitting diode)\n",
      "LD: 0.15000000000000002\n",
      "DLD: 0.15000000000000002\n",
      "JS: 0.4348484848484849\n",
      "JWS: 0.4348484848484849\n",
      "DC: 0.8181818181818182\n",
      "FT: 0.2985321581363678\n",
      "+++++++++++++++++++++++++++++++++++++++++++++++\n",
      "Similarities for (Int, integer)\n",
      "LD: 0.2857142857142857\n",
      "DLD: 0.2857142857142857\n",
      "JS: 0.6507936507936508\n",
      "JWS: 0.6507936507936508\n",
      "DC: 0.6666666666666666\n",
      "FT: 0.20010310411453247\n",
      "+++++++++++++++++++++++++++++++++++++++++++++++\n",
      "Similarities for (PS/2, Personal System/2)\n",
      "LD: 0.23529411764705888\n",
      "DLD: 0.23529411764705888\n",
      "JS: 0.4362745098039216\n",
      "JWS: 0.4362745098039216\n",
      "DC: 0.4444444444444444\n",
      "FT: 0.18993335962295532\n",
      "+++++++++++++++++++++++++++++++++++++++++++++++\n",
      "Similarities for (IANA, Internet Assigned Numbers Authority)\n",
      "LD: 0.11428571428571432\n",
      "DLD: 0.11428571428571432\n",
      "JS: 0.611904761904762\n",
      "JWS: 0.611904761904762\n",
      "DC: 0.3157894736842105\n",
      "FT: 0.09341581165790558\n",
      "+++++++++++++++++++++++++++++++++++++++++++++++\n",
      "Similarities for (SMM, System Management Mode)\n",
      "LD: 0.13636363636363635\n",
      "DLD: 0.13636363636363635\n",
      "JS: 0.5858585858585859\n",
      "JWS: 0.5858585858585859\n",
      "DC: 0.3076923076923077\n",
      "FT: 0.14236025512218475\n",
      "+++++++++++++++++++++++++++++++++++++++++++++++\n",
      "Similarities for (U/L, upload)\n",
      "LD: 0.0\n",
      "DLD: 0.0\n",
      "JS: 0.0\n",
      "JWS: 0.0\n",
      "DC: 0.4444444444444444\n",
      "FT: -0.0247600469738245\n",
      "+++++++++++++++++++++++++++++++++++++++++++++++\n",
      "Similarities for (IAP, Internet access provider)\n",
      "LD: 0.04166666666666663\n",
      "DLD: 0.04166666666666663\n",
      "JS: 0.4583333333333333\n",
      "JWS: 0.4583333333333333\n",
      "DC: 0.375\n",
      "FT: 0.06012619659304619\n",
      "+++++++++++++++++++++++++++++++++++++++++++++++\n",
      "Similarities for (CLNS, connectionless network service)\n",
      "LD: 0.0\n",
      "DLD: 0.0\n",
      "JS: 0.0\n",
      "JWS: 0.0\n",
      "DC: 0.47058823529411764\n",
      "FT: 0.07574982196092606\n",
      "+++++++++++++++++++++++++++++++++++++++++++++++\n",
      "Similarities for (MMC, MultiMediaCard)\n",
      "LD: 0.2142857142857143\n",
      "DLD: 0.2142857142857143\n",
      "JS: 0.6031746031746031\n",
      "JWS: 0.6031746031746031\n",
      "DC: 0.3333333333333333\n",
      "FT: 0.5328943729400635\n",
      "+++++++++++++++++++++++++++++++++++++++++++++++\n",
      "Similarities for (I/O, input/output)\n",
      "LD: 0.08333333333333337\n",
      "DLD: 0.08333333333333337\n",
      "JS: 0.47222222222222215\n",
      "JWS: 0.47222222222222215\n",
      "DC: 0.6\n",
      "FT: 0.1474282294511795\n"
     ]
    }
   ],
   "source": [
    "measures = [\"LD\", \"DLD\", \"JS\", \"JWS\", \"DC\", \"FT\"]\n",
    "for aep_tuple in random_AEP_pairs:\n",
    "    print(\"+++++++++++++++++++++++++++++++++++++++++++++++\")\n",
    "    print(\"Similarities for (\" + aep_tuple[0] + \", \" + aep_tuple[1] + \")\")\n",
    "    for j, measure in enumerate([jellyfish.levenshtein_distance, jellyfish.damerau_levenshtein_distance, jellyfish.jaro_similarity, jellyfish.jaro_winkler_similarity, dice_coefficient, fast_text_sim]):\n",
    "        if measure in [jellyfish.levenshtein_distance, jellyfish.damerau_levenshtein_distance]:\n",
    "            print(measures[j] +\": \" + str(1 - (measure(aep_tuple[0], aep_tuple[1])/max(len(aep_tuple[0]), len(aep_tuple[1])))))\n",
    "        else:\n",
    "            print(measures[j] +\": \" + str(measure(aep_tuple[0], aep_tuple[1])))"
   ]
  }
 ],
 "metadata": {
  "kernelspec": {
   "display_name": "Python 3",
   "language": "python",
   "name": "python3"
  },
  "language_info": {
   "codemirror_mode": {
    "name": "ipython",
    "version": 3
   },
   "file_extension": ".py",
   "mimetype": "text/x-python",
   "name": "python",
   "nbconvert_exporter": "python",
   "pygments_lexer": "ipython3",
   "version": "3.6.12"
  }
 },
 "nbformat": 4,
 "nbformat_minor": 5
}
